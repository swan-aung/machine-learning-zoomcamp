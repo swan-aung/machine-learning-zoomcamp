{
 "cells": [
  {
   "cell_type": "markdown",
   "id": "b955d06e",
   "metadata": {},
   "source": [
    "## Homework\n",
    "\n",
    "### Set up the environment\n",
    "\n",
    "You need to install Python, NumPy, Pandas, Matplotlib and Seaborn. For that, you can the instructions from\n",
    "[06-environment.md](https://github.com/alexeygrigorev/mlbookcamp-code/blob/master/course-zoomcamp/01-intro/06-environment.md).\n",
    "\n",
    "### Question 1\n",
    "\n",
    "What's the version of Pandas that you installed?\n",
    "\n",
    "You can get the version information using the `__version__` field:"
   ]
  },
  {
   "cell_type": "code",
   "execution_count": 2,
   "id": "012c9b22",
   "metadata": {
    "ExecuteTime": {
     "end_time": "2023-09-16T07:23:09.931019Z",
     "start_time": "2023-09-16T07:23:09.527053Z"
    }
   },
   "outputs": [],
   "source": [
    "import pandas as pd"
   ]
  },
  {
   "cell_type": "code",
   "execution_count": 42,
   "id": "1da603fe",
   "metadata": {
    "ExecuteTime": {
     "end_time": "2023-09-16T09:59:52.826117Z",
     "start_time": "2023-09-16T09:59:52.821924Z"
    }
   },
   "outputs": [],
   "source": [
    "import numpy as np"
   ]
  },
  {
   "cell_type": "code",
   "execution_count": 3,
   "id": "35dfe47d",
   "metadata": {
    "ExecuteTime": {
     "end_time": "2023-09-16T07:23:10.414097Z",
     "start_time": "2023-09-16T07:23:10.406688Z"
    }
   },
   "outputs": [
    {
     "data": {
      "text/plain": [
       "'1.3.5'"
      ]
     },
     "execution_count": 3,
     "metadata": {},
     "output_type": "execute_result"
    }
   ],
   "source": [
    "pd.__version__"
   ]
  },
  {
   "cell_type": "markdown",
   "id": "62462d57",
   "metadata": {},
   "source": [
    "### Getting the data \n",
    "\n",
    "For this homework, we'll use the California Housing Prices dataset. Download it from \n",
    "[here](https://raw.githubusercontent.com/alexeygrigorev/datasets/master/housing.csv).\n",
    "\n",
    "You can do it with wget:"
   ]
  },
  {
   "cell_type": "code",
   "execution_count": 3,
   "id": "1d04d1bd",
   "metadata": {
    "ExecuteTime": {
     "end_time": "2023-09-16T07:02:43.466518Z",
     "start_time": "2023-09-16T07:02:42.343989Z"
    }
   },
   "outputs": [
    {
     "name": "stderr",
     "output_type": "stream",
     "text": [
      "--2023-09-16 13:32:42--  https://raw.githubusercontent.com/alexeygrigorev/datasets/master/housing.csv\n",
      "Resolving raw.githubusercontent.com (raw.githubusercontent.com)... 185.199.108.133, 185.199.109.133, 185.199.110.133, ...\n",
      "Connecting to raw.githubusercontent.com (raw.githubusercontent.com)|185.199.108.133|:443... connected.\n",
      "HTTP request sent, awaiting response... 200 OK\n",
      "Length: 1423529 (1.4M) [text/plain]\n",
      "Saving to: ‘housing.csv’\n",
      "\n",
      "     0K .......... .......... .......... .......... ..........  3% 1002K 1s\n",
      "    50K .......... .......... .......... .......... ..........  7% 1.25M 1s\n",
      "   100K .......... .......... .......... .......... .......... 10% 5.27M 1s\n",
      "   150K .......... .......... .......... .......... .......... 14% 6.42M 1s\n",
      "   200K .......... .......... .......... .......... .......... 17% 2.38M 1s\n",
      "   250K .......... .......... .......... .......... .......... 21% 4.22M 1s\n",
      "   300K .......... .......... .......... .......... .......... 25% 16.0M 0s\n",
      "   350K .......... .......... .......... .......... .......... 28% 6.55M 0s\n",
      "   400K .......... .......... .......... .......... .......... 32% 14.0M 0s\n",
      "   450K .......... .......... .......... .......... .......... 35% 35.5M 0s\n",
      "   500K .......... .......... .......... .......... .......... 39% 3.10M 0s\n",
      "   550K .......... .......... .......... .......... .......... 43% 5.87M 0s\n",
      "   600K .......... .......... .......... .......... .......... 46% 11.3M 0s\n",
      "   650K .......... .......... .......... .......... .......... 50% 12.0M 0s\n",
      "   700K .......... .......... .......... .......... .......... 53% 12.8M 0s\n",
      "   750K .......... .......... .......... .......... .......... 57% 6.54M 0s\n",
      "   800K .......... .......... .......... .......... .......... 61% 16.3M 0s\n",
      "   850K .......... .......... .......... .......... .......... 64% 17.7M 0s\n",
      "   900K .......... .......... .......... .......... .......... 68% 7.36M 0s\n",
      "   950K .......... .......... .......... .......... .......... 71% 1.01M 0s\n",
      "  1000K .......... .......... .......... .......... .......... 75% 4.40M 0s\n",
      "  1050K .......... .......... .......... .......... .......... 79% 3.61M 0s\n",
      "  1100K .......... .......... .......... .......... .......... 82% 3.75M 0s\n",
      "  1150K .......... .......... .......... .......... .......... 86% 15.9M 0s\n",
      "  1200K .......... .......... .......... .......... .......... 89% 6.15M 0s\n",
      "  1250K .......... .......... .......... .......... .......... 93% 9.06M 0s\n",
      "  1300K .......... .......... .......... .......... .......... 97% 4.02M 0s\n",
      "  1350K .......... .......... .......... ..........           100% 3.26M=0.3s\n",
      "\n",
      "2023-09-16 13:32:43 (4.04 MB/s) - ‘housing.csv’ saved [1423529/1423529]\n",
      "\n"
     ]
    }
   ],
   "source": [
    "%%bash\n",
    "wget https://raw.githubusercontent.com/alexeygrigorev/datasets/master/housing.csv"
   ]
  },
  {
   "cell_type": "markdown",
   "id": "aa9d4660",
   "metadata": {},
   "source": [
    "Or just open it with your browser and click \"Save as...\".\n",
    "\n",
    "Now read it with Pandas."
   ]
  },
  {
   "cell_type": "code",
   "execution_count": 4,
   "id": "34e92557",
   "metadata": {
    "ExecuteTime": {
     "end_time": "2023-09-16T07:23:14.026773Z",
     "start_time": "2023-09-16T07:23:14.001049Z"
    }
   },
   "outputs": [],
   "source": [
    "df_housing = pd.read_csv('housing.csv')"
   ]
  },
  {
   "cell_type": "markdown",
   "id": "cf00dce2",
   "metadata": {},
   "source": [
    "### Question 2\n",
    "\n",
    "How many columns are in the dataset?\n",
    "\n",
    "- 10\n",
    "- 6560\n",
    "- 10989\n",
    "- 20640"
   ]
  },
  {
   "cell_type": "code",
   "execution_count": 5,
   "id": "285e476d",
   "metadata": {
    "ExecuteTime": {
     "end_time": "2023-09-16T07:04:30.648459Z",
     "start_time": "2023-09-16T07:04:30.615794Z"
    }
   },
   "outputs": [
    {
     "data": {
      "text/html": [
       "<div>\n",
       "<style scoped>\n",
       "    .dataframe tbody tr th:only-of-type {\n",
       "        vertical-align: middle;\n",
       "    }\n",
       "\n",
       "    .dataframe tbody tr th {\n",
       "        vertical-align: top;\n",
       "    }\n",
       "\n",
       "    .dataframe thead th {\n",
       "        text-align: right;\n",
       "    }\n",
       "</style>\n",
       "<table border=\"1\" class=\"dataframe\">\n",
       "  <thead>\n",
       "    <tr style=\"text-align: right;\">\n",
       "      <th></th>\n",
       "      <th>longitude</th>\n",
       "      <th>latitude</th>\n",
       "      <th>housing_median_age</th>\n",
       "      <th>total_rooms</th>\n",
       "      <th>total_bedrooms</th>\n",
       "      <th>population</th>\n",
       "      <th>households</th>\n",
       "      <th>median_income</th>\n",
       "      <th>median_house_value</th>\n",
       "      <th>ocean_proximity</th>\n",
       "    </tr>\n",
       "  </thead>\n",
       "  <tbody>\n",
       "    <tr>\n",
       "      <th>0</th>\n",
       "      <td>-122.23</td>\n",
       "      <td>37.88</td>\n",
       "      <td>41.0</td>\n",
       "      <td>880.0</td>\n",
       "      <td>129.0</td>\n",
       "      <td>322.0</td>\n",
       "      <td>126.0</td>\n",
       "      <td>8.3252</td>\n",
       "      <td>452600.0</td>\n",
       "      <td>NEAR BAY</td>\n",
       "    </tr>\n",
       "    <tr>\n",
       "      <th>1</th>\n",
       "      <td>-122.22</td>\n",
       "      <td>37.86</td>\n",
       "      <td>21.0</td>\n",
       "      <td>7099.0</td>\n",
       "      <td>1106.0</td>\n",
       "      <td>2401.0</td>\n",
       "      <td>1138.0</td>\n",
       "      <td>8.3014</td>\n",
       "      <td>358500.0</td>\n",
       "      <td>NEAR BAY</td>\n",
       "    </tr>\n",
       "    <tr>\n",
       "      <th>2</th>\n",
       "      <td>-122.24</td>\n",
       "      <td>37.85</td>\n",
       "      <td>52.0</td>\n",
       "      <td>1467.0</td>\n",
       "      <td>190.0</td>\n",
       "      <td>496.0</td>\n",
       "      <td>177.0</td>\n",
       "      <td>7.2574</td>\n",
       "      <td>352100.0</td>\n",
       "      <td>NEAR BAY</td>\n",
       "    </tr>\n",
       "    <tr>\n",
       "      <th>3</th>\n",
       "      <td>-122.25</td>\n",
       "      <td>37.85</td>\n",
       "      <td>52.0</td>\n",
       "      <td>1274.0</td>\n",
       "      <td>235.0</td>\n",
       "      <td>558.0</td>\n",
       "      <td>219.0</td>\n",
       "      <td>5.6431</td>\n",
       "      <td>341300.0</td>\n",
       "      <td>NEAR BAY</td>\n",
       "    </tr>\n",
       "    <tr>\n",
       "      <th>4</th>\n",
       "      <td>-122.25</td>\n",
       "      <td>37.85</td>\n",
       "      <td>52.0</td>\n",
       "      <td>1627.0</td>\n",
       "      <td>280.0</td>\n",
       "      <td>565.0</td>\n",
       "      <td>259.0</td>\n",
       "      <td>3.8462</td>\n",
       "      <td>342200.0</td>\n",
       "      <td>NEAR BAY</td>\n",
       "    </tr>\n",
       "  </tbody>\n",
       "</table>\n",
       "</div>"
      ],
      "text/plain": [
       "   longitude  latitude  housing_median_age  total_rooms  total_bedrooms  \\\n",
       "0    -122.23     37.88                41.0        880.0           129.0   \n",
       "1    -122.22     37.86                21.0       7099.0          1106.0   \n",
       "2    -122.24     37.85                52.0       1467.0           190.0   \n",
       "3    -122.25     37.85                52.0       1274.0           235.0   \n",
       "4    -122.25     37.85                52.0       1627.0           280.0   \n",
       "\n",
       "   population  households  median_income  median_house_value ocean_proximity  \n",
       "0       322.0       126.0         8.3252            452600.0        NEAR BAY  \n",
       "1      2401.0      1138.0         8.3014            358500.0        NEAR BAY  \n",
       "2       496.0       177.0         7.2574            352100.0        NEAR BAY  \n",
       "3       558.0       219.0         5.6431            341300.0        NEAR BAY  \n",
       "4       565.0       259.0         3.8462            342200.0        NEAR BAY  "
      ]
     },
     "execution_count": 5,
     "metadata": {},
     "output_type": "execute_result"
    }
   ],
   "source": [
    "df_housing.head()"
   ]
  },
  {
   "cell_type": "code",
   "execution_count": 5,
   "id": "f6cde208",
   "metadata": {
    "ExecuteTime": {
     "end_time": "2023-09-16T07:23:19.728269Z",
     "start_time": "2023-09-16T07:23:19.723746Z"
    }
   },
   "outputs": [
    {
     "data": {
      "text/plain": [
       "Index(['longitude', 'latitude', 'housing_median_age', 'total_rooms',\n",
       "       'total_bedrooms', 'population', 'households', 'median_income',\n",
       "       'median_house_value', 'ocean_proximity'],\n",
       "      dtype='object')"
      ]
     },
     "execution_count": 5,
     "metadata": {},
     "output_type": "execute_result"
    }
   ],
   "source": [
    "df_housing.columns"
   ]
  },
  {
   "cell_type": "code",
   "execution_count": 6,
   "id": "de959ea8",
   "metadata": {
    "ExecuteTime": {
     "end_time": "2023-09-16T07:23:20.455963Z",
     "start_time": "2023-09-16T07:23:20.450071Z"
    }
   },
   "outputs": [
    {
     "name": "stdout",
     "output_type": "stream",
     "text": [
      "Number of columns:  10\n"
     ]
    }
   ],
   "source": [
    "number_of_columns = len(df_housing.columns)\n",
    "print(\"Number of columns: \", number_of_columns)"
   ]
  },
  {
   "cell_type": "markdown",
   "id": "d8a622c3",
   "metadata": {},
   "source": [
    "### Question 3\n",
    "\n",
    "Which columns in the dataset have missing values?\n",
    "\n",
    "- `total_rooms`\n",
    "- `total_bedrooms`\n",
    "- both of the above\n",
    "- no empty columns in the dataset"
   ]
  },
  {
   "cell_type": "code",
   "execution_count": 7,
   "id": "a3d0efd0",
   "metadata": {
    "ExecuteTime": {
     "end_time": "2023-09-16T07:23:22.310448Z",
     "start_time": "2023-09-16T07:23:22.297882Z"
    }
   },
   "outputs": [
    {
     "name": "stdout",
     "output_type": "stream",
     "text": [
      "<class 'pandas.core.frame.DataFrame'>\n",
      "RangeIndex: 20640 entries, 0 to 20639\n",
      "Data columns (total 10 columns):\n",
      " #   Column              Non-Null Count  Dtype  \n",
      "---  ------              --------------  -----  \n",
      " 0   longitude           20640 non-null  float64\n",
      " 1   latitude            20640 non-null  float64\n",
      " 2   housing_median_age  20640 non-null  float64\n",
      " 3   total_rooms         20640 non-null  float64\n",
      " 4   total_bedrooms      20433 non-null  float64\n",
      " 5   population          20640 non-null  float64\n",
      " 6   households          20640 non-null  float64\n",
      " 7   median_income       20640 non-null  float64\n",
      " 8   median_house_value  20640 non-null  float64\n",
      " 9   ocean_proximity     20640 non-null  object \n",
      "dtypes: float64(9), object(1)\n",
      "memory usage: 1.6+ MB\n"
     ]
    }
   ],
   "source": [
    "df_housing.info()"
   ]
  },
  {
   "cell_type": "code",
   "execution_count": 8,
   "id": "cad21021",
   "metadata": {
    "ExecuteTime": {
     "end_time": "2023-09-16T07:23:24.147355Z",
     "start_time": "2023-09-16T07:23:24.138271Z"
    }
   },
   "outputs": [
    {
     "data": {
      "text/plain": [
       "longitude               0\n",
       "latitude                0\n",
       "housing_median_age      0\n",
       "total_rooms             0\n",
       "total_bedrooms        207\n",
       "population              0\n",
       "households              0\n",
       "median_income           0\n",
       "median_house_value      0\n",
       "ocean_proximity         0\n",
       "dtype: int64"
      ]
     },
     "execution_count": 8,
     "metadata": {},
     "output_type": "execute_result"
    }
   ],
   "source": [
    "df_housing.isnull().sum()"
   ]
  },
  {
   "cell_type": "markdown",
   "id": "0290ddec",
   "metadata": {},
   "source": [
    "`total_bedrooms` column has missing values"
   ]
  },
  {
   "cell_type": "markdown",
   "id": "f29cb58d",
   "metadata": {},
   "source": [
    "### Question 4\n",
    "\n",
    "How many unique values does the `ocean_proximity` column have?\n",
    "\n",
    "- 3\n",
    "- 5\n",
    "- 7\n",
    "- 9"
   ]
  },
  {
   "cell_type": "code",
   "execution_count": 9,
   "id": "92ca4fc9",
   "metadata": {
    "ExecuteTime": {
     "end_time": "2023-09-16T07:23:26.066289Z",
     "start_time": "2023-09-16T07:23:26.056635Z"
    }
   },
   "outputs": [
    {
     "data": {
      "text/plain": [
       "ocean_proximity\n",
       "<1H OCEAN          9136\n",
       "INLAND             6551\n",
       "NEAR OCEAN         2658\n",
       "NEAR BAY           2290\n",
       "ISLAND                5\n",
       "dtype: int64"
      ]
     },
     "execution_count": 9,
     "metadata": {},
     "output_type": "execute_result"
    }
   ],
   "source": [
    "df_housing[['ocean_proximity']].value_counts()"
   ]
  },
  {
   "cell_type": "code",
   "execution_count": 10,
   "id": "b44f45f0",
   "metadata": {
    "ExecuteTime": {
     "end_time": "2023-09-16T07:23:27.652716Z",
     "start_time": "2023-09-16T07:23:27.646406Z"
    }
   },
   "outputs": [
    {
     "data": {
      "text/plain": [
       "5"
      ]
     },
     "execution_count": 10,
     "metadata": {},
     "output_type": "execute_result"
    }
   ],
   "source": [
    "df_housing['ocean_proximity'].nunique()"
   ]
  },
  {
   "cell_type": "markdown",
   "id": "8f5dfde6",
   "metadata": {
    "ExecuteTime": {
     "end_time": "2023-09-16T07:07:53.142154Z",
     "start_time": "2023-09-16T07:07:53.122606Z"
    }
   },
   "source": [
    "`ocean_proximity` have `5` unique values."
   ]
  },
  {
   "cell_type": "markdown",
   "id": "961ff5e3",
   "metadata": {},
   "source": [
    "### Question 5\n",
    "\n",
    "What's the average value of the `median_house_value` for the houses located near the bay?\n",
    "\n",
    "- 49433\n",
    "- 124805\n",
    "- 259212\n",
    "- 380440"
   ]
  },
  {
   "cell_type": "code",
   "execution_count": 11,
   "id": "9478a545",
   "metadata": {
    "ExecuteTime": {
     "end_time": "2023-09-16T07:23:30.379225Z",
     "start_time": "2023-09-16T07:23:30.362879Z"
    }
   },
   "outputs": [
    {
     "data": {
      "text/html": [
       "<div>\n",
       "<style scoped>\n",
       "    .dataframe tbody tr th:only-of-type {\n",
       "        vertical-align: middle;\n",
       "    }\n",
       "\n",
       "    .dataframe tbody tr th {\n",
       "        vertical-align: top;\n",
       "    }\n",
       "\n",
       "    .dataframe thead th {\n",
       "        text-align: right;\n",
       "    }\n",
       "</style>\n",
       "<table border=\"1\" class=\"dataframe\">\n",
       "  <thead>\n",
       "    <tr style=\"text-align: right;\">\n",
       "      <th></th>\n",
       "      <th>longitude</th>\n",
       "      <th>latitude</th>\n",
       "      <th>housing_median_age</th>\n",
       "      <th>total_rooms</th>\n",
       "      <th>total_bedrooms</th>\n",
       "      <th>population</th>\n",
       "      <th>households</th>\n",
       "      <th>median_income</th>\n",
       "      <th>median_house_value</th>\n",
       "      <th>ocean_proximity</th>\n",
       "    </tr>\n",
       "  </thead>\n",
       "  <tbody>\n",
       "    <tr>\n",
       "      <th>0</th>\n",
       "      <td>-122.23</td>\n",
       "      <td>37.88</td>\n",
       "      <td>41.0</td>\n",
       "      <td>880.0</td>\n",
       "      <td>129.0</td>\n",
       "      <td>322.0</td>\n",
       "      <td>126.0</td>\n",
       "      <td>8.3252</td>\n",
       "      <td>452600.0</td>\n",
       "      <td>NEAR BAY</td>\n",
       "    </tr>\n",
       "    <tr>\n",
       "      <th>1</th>\n",
       "      <td>-122.22</td>\n",
       "      <td>37.86</td>\n",
       "      <td>21.0</td>\n",
       "      <td>7099.0</td>\n",
       "      <td>1106.0</td>\n",
       "      <td>2401.0</td>\n",
       "      <td>1138.0</td>\n",
       "      <td>8.3014</td>\n",
       "      <td>358500.0</td>\n",
       "      <td>NEAR BAY</td>\n",
       "    </tr>\n",
       "  </tbody>\n",
       "</table>\n",
       "</div>"
      ],
      "text/plain": [
       "   longitude  latitude  housing_median_age  total_rooms  total_bedrooms  \\\n",
       "0    -122.23     37.88                41.0        880.0           129.0   \n",
       "1    -122.22     37.86                21.0       7099.0          1106.0   \n",
       "\n",
       "   population  households  median_income  median_house_value ocean_proximity  \n",
       "0       322.0       126.0         8.3252            452600.0        NEAR BAY  \n",
       "1      2401.0      1138.0         8.3014            358500.0        NEAR BAY  "
      ]
     },
     "execution_count": 11,
     "metadata": {},
     "output_type": "execute_result"
    }
   ],
   "source": [
    "df_housing.head(2)"
   ]
  },
  {
   "cell_type": "code",
   "execution_count": 12,
   "id": "5ba3420b",
   "metadata": {
    "ExecuteTime": {
     "end_time": "2023-09-16T07:23:33.524226Z",
     "start_time": "2023-09-16T07:23:33.518187Z"
    }
   },
   "outputs": [],
   "source": [
    "average_value = df_housing[df_housing['ocean_proximity'] == 'NEAR BAY']['median_house_value'].mean()"
   ]
  },
  {
   "cell_type": "code",
   "execution_count": 13,
   "id": "ce23fe65",
   "metadata": {
    "ExecuteTime": {
     "end_time": "2023-09-16T07:23:34.190029Z",
     "start_time": "2023-09-16T07:23:34.186193Z"
    }
   },
   "outputs": [
    {
     "name": "stdout",
     "output_type": "stream",
     "text": [
      " the average value of the median_house_value for the houses located near the bay is 259212.31179039303\n"
     ]
    }
   ],
   "source": [
    "print(f\" the average value of the median_house_value for the houses located near the bay is {average_value}\")"
   ]
  },
  {
   "cell_type": "markdown",
   "id": "5b39b861",
   "metadata": {},
   "source": [
    "### Question 6\n",
    "\n",
    "1. Calculate the average of `total_bedrooms` column in the dataset.\n",
    "2. Use the `fillna` method to fill the missing values in `total_bedrooms` with the mean value from the previous step.\n",
    "3. Now, calculate the average of `total_bedrooms` again.\n",
    "4. Has it changed?\n",
    "\n",
    "Has it changed?\n",
    "\n",
    "> Hint: take into account only 3 digits after the decimal point.\n",
    "\n",
    "- Yes\n",
    "- No"
   ]
  },
  {
   "cell_type": "code",
   "execution_count": 19,
   "id": "75352a12",
   "metadata": {
    "ExecuteTime": {
     "end_time": "2023-09-16T07:27:26.168242Z",
     "start_time": "2023-09-16T07:27:26.164749Z"
    }
   },
   "outputs": [],
   "source": [
    "average_of_total_bedrooms = round(df_housing['total_bedrooms'].mean(), 3)"
   ]
  },
  {
   "cell_type": "code",
   "execution_count": 21,
   "id": "c98887bc",
   "metadata": {
    "ExecuteTime": {
     "end_time": "2023-09-16T07:27:38.638971Z",
     "start_time": "2023-09-16T07:27:38.634335Z"
    }
   },
   "outputs": [
    {
     "data": {
      "text/plain": [
       "537.871"
      ]
     },
     "execution_count": 21,
     "metadata": {},
     "output_type": "execute_result"
    }
   ],
   "source": [
    "average_of_total_bedrooms"
   ]
  },
  {
   "cell_type": "code",
   "execution_count": 22,
   "id": "2c067b85",
   "metadata": {
    "ExecuteTime": {
     "end_time": "2023-09-16T07:27:58.496885Z",
     "start_time": "2023-09-16T07:27:58.490029Z"
    }
   },
   "outputs": [
    {
     "data": {
      "text/plain": [
       "537.871"
      ]
     },
     "execution_count": 22,
     "metadata": {},
     "output_type": "execute_result"
    }
   ],
   "source": [
    "round(df_housing['total_bedrooms'].fillna(average_of_total_bedrooms).mean(), 3)"
   ]
  },
  {
   "cell_type": "markdown",
   "id": "2fb1f86d",
   "metadata": {},
   "source": [
    "### Question 7\n",
    "\n",
    "1. Select all the options located on islands.\n",
    "2. Select only columns `housing_median_age`, `total_rooms`, `total_bedrooms`.\n",
    "3. Get the underlying NumPy array. Let's call it `X`.\n",
    "4. Compute matrix-matrix multiplication between the transpose of `X` and `X`. To get the transpose, use `X.T`. Let's call the result `XTX`.\n",
    "5. Compute the inverse of `XTX`.\n",
    "6. Create an array `y` with values `[950, 1300, 800, 1000, 1300]`.\n",
    "7. Multiply the inverse of `XTX` with the transpose of `X`, and then multiply the result by `y`. Call the result `w`.\n",
    "8. What's the value of the last element of `w`?\n",
    "\n",
    "> **Note**: You just implemented linear regression. We'll talk about it in the next lesson.\n",
    "\n",
    "- -1.4812\n",
    "- 0.001\n",
    "- 5.6992\n",
    "- 23.1233"
   ]
  },
  {
   "cell_type": "code",
   "execution_count": 39,
   "id": "21afe579",
   "metadata": {
    "ExecuteTime": {
     "end_time": "2023-09-16T09:58:43.343254Z",
     "start_time": "2023-09-16T09:58:43.338599Z"
    }
   },
   "outputs": [],
   "source": [
    "islands = df_housing[df_housing['ocean_proximity'] == 'ISLAND']"
   ]
  },
  {
   "cell_type": "code",
   "execution_count": 40,
   "id": "bfab69f6",
   "metadata": {
    "ExecuteTime": {
     "end_time": "2023-09-16T09:58:48.273878Z",
     "start_time": "2023-09-16T09:58:48.269341Z"
    }
   },
   "outputs": [],
   "source": [
    "X = islands[['housing_median_age', 'total_rooms', 'total_bedrooms']].values"
   ]
  },
  {
   "cell_type": "code",
   "execution_count": 43,
   "id": "cdda496b",
   "metadata": {
    "ExecuteTime": {
     "end_time": "2023-09-16T10:00:25.300116Z",
     "start_time": "2023-09-16T10:00:25.192195Z"
    }
   },
   "outputs": [],
   "source": [
    "XTX = np.dot(X.T, X)"
   ]
  },
  {
   "cell_type": "code",
   "execution_count": 49,
   "id": "9a1e5fd8",
   "metadata": {
    "ExecuteTime": {
     "end_time": "2023-09-16T10:04:36.253586Z",
     "start_time": "2023-09-16T10:04:36.250629Z"
    }
   },
   "outputs": [],
   "source": [
    "y = np.array([950, 1300, 800, 1000, 1300])"
   ]
  },
  {
   "cell_type": "code",
   "execution_count": 50,
   "id": "d751b286",
   "metadata": {
    "ExecuteTime": {
     "end_time": "2023-09-16T10:04:38.337392Z",
     "start_time": "2023-09-16T10:04:38.333626Z"
    }
   },
   "outputs": [],
   "source": [
    "XTX_inv = np.linalg.inv(XTX)\n",
    "w = np.dot(np.dot(XTX_inv, X.T), y)"
   ]
  },
  {
   "cell_type": "code",
   "execution_count": 51,
   "id": "2acdc463",
   "metadata": {
    "ExecuteTime": {
     "end_time": "2023-09-16T10:04:38.630205Z",
     "start_time": "2023-09-16T10:04:38.625243Z"
    }
   },
   "outputs": [
    {
     "data": {
      "text/plain": [
       "array([23.12330961, -1.48124183,  5.69922946])"
      ]
     },
     "execution_count": 51,
     "metadata": {},
     "output_type": "execute_result"
    }
   ],
   "source": [
    "w"
   ]
  },
  {
   "cell_type": "markdown",
   "id": "f9319095",
   "metadata": {},
   "source": [
    "## Submit the results\n",
    "\n",
    "* Submit your results here: https://forms.gle/jneGM91mzDZ23i8HA\n",
    "* You can submit your solution multiple times. In this case, only the last submission will be used \n",
    "* If your answer doesn't match options exactly, select the closest one\n",
    "\n",
    "\n",
    "## Deadline\n",
    "\n",
    "The deadline for submitting is 18 September 2022 (Monday), 23:00 CEST (Berlin time).\n",
    "\n",
    "After that, the form will be closed."
   ]
  },
  {
   "cell_type": "code",
   "execution_count": null,
   "id": "93430e35",
   "metadata": {},
   "outputs": [],
   "source": []
  }
 ],
 "metadata": {
  "kernelspec": {
   "display_name": "sa_env",
   "language": "python",
   "name": "sa_env"
  },
  "language_info": {
   "codemirror_mode": {
    "name": "ipython",
    "version": 3
   },
   "file_extension": ".py",
   "mimetype": "text/x-python",
   "name": "python",
   "nbconvert_exporter": "python",
   "pygments_lexer": "ipython3",
   "version": "3.7.2"
  },
  "toc": {
   "base_numbering": 1,
   "nav_menu": {},
   "number_sections": true,
   "sideBar": true,
   "skip_h1_title": false,
   "title_cell": "Table of Contents",
   "title_sidebar": "Contents",
   "toc_cell": false,
   "toc_position": {
    "height": "calc(100% - 180px)",
    "left": "10px",
    "top": "150px",
    "width": "307.2px"
   },
   "toc_section_display": true,
   "toc_window_display": false
  }
 },
 "nbformat": 4,
 "nbformat_minor": 5
}
