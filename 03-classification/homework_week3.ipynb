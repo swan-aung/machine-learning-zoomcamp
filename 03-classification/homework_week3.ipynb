{
 "cells": [
  {
   "cell_type": "code",
   "execution_count": null,
   "id": "87a60eec",
   "metadata": {},
   "outputs": [],
   "source": []
  },
  {
   "cell_type": "markdown",
   "id": "608057e6",
   "metadata": {},
   "source": [
    "## Homework\n",
    "\n",
    "> Note: sometimes your answer doesn't match one of the options exactly. That's fine. \n",
    "Select the option that's closest to your solution.\n",
    "\n",
    "### Dataset\n",
    "\n",
    "In this homework, we will use the Car price dataset. Download it from [here](https://raw.githubusercontent.com/alexeygrigorev/mlbookcamp-code/master/chapter-02-car-price/data.csv).\n",
    "\n",
    "Or you can do it with `wget`:\n",
    "\n",
    "```bash\n",
    "wget https://raw.githubusercontent.com/alexeygrigorev/mlbookcamp-code/master/chapter-02-car-price/data.csv\n",
    "```\n",
    "\n",
    "We'll keep working with the `MSRP` variable, and we'll transform it to a classification task. \n",
    "\n",
    "### Features\n",
    "\n",
    "For the rest of the homework, you'll need to use only these columns:\n",
    "\n",
    "* `Make`,\n",
    "* `Model`,\n",
    "* `Year`,\n",
    "* `Engine HP`,\n",
    "* `Engine Cylinders`,\n",
    "* `Transmission Type`,\n",
    "* `Vehicle Style`,\n",
    "* `highway MPG`,\n",
    "* `city mpg`,\n",
    "* `MSRP`"
   ]
  },
  {
   "cell_type": "code",
   "execution_count": 2,
   "id": "d251eceb",
   "metadata": {
    "ExecuteTime": {
     "end_time": "2023-10-02T11:35:52.138191Z",
     "start_time": "2023-10-02T11:35:48.815385Z"
    }
   },
   "outputs": [],
   "source": [
    "import pandas as pd"
   ]
  },
  {
   "cell_type": "code",
   "execution_count": 3,
   "id": "886b5d4c",
   "metadata": {
    "ExecuteTime": {
     "end_time": "2023-10-02T11:35:53.108171Z",
     "start_time": "2023-10-02T11:35:52.141527Z"
    }
   },
   "outputs": [],
   "source": [
    "df_car_price = pd.read_csv('https://raw.githubusercontent.com/alexeygrigorev/mlbookcamp-code/master/chapter-02-car-price/data.csv')"
   ]
  },
  {
   "cell_type": "code",
   "execution_count": 5,
   "id": "988b830b",
   "metadata": {
    "ExecuteTime": {
     "end_time": "2023-10-02T11:36:07.215886Z",
     "start_time": "2023-10-02T11:36:07.210324Z"
    }
   },
   "outputs": [
    {
     "data": {
      "text/plain": [
       "Index(['Make', 'Model', 'Year', 'Engine Fuel Type', 'Engine HP',\n",
       "       'Engine Cylinders', 'Transmission Type', 'Driven_Wheels',\n",
       "       'Number of Doors', 'Market Category', 'Vehicle Size', 'Vehicle Style',\n",
       "       'highway MPG', 'city mpg', 'Popularity', 'MSRP'],\n",
       "      dtype='object')"
      ]
     },
     "execution_count": 5,
     "metadata": {},
     "output_type": "execute_result"
    }
   ],
   "source": [
    "df_car_price.columns"
   ]
  },
  {
   "cell_type": "markdown",
   "id": "3629f52d",
   "metadata": {},
   "source": [
    "### Data preparation\n",
    "\n",
    "* Select only the features from above and transform their names using the next line:\n",
    "  ```\n",
    "  data.columns = data.columns.str.replace(' ', '_').str.lower()\n",
    "  ```\n",
    "* Fill in the missing values of the selected features with 0.\n",
    "* Rename `MSRP` variable to `price`.\n"
   ]
  },
  {
   "cell_type": "code",
   "execution_count": 16,
   "id": "db6a7615",
   "metadata": {
    "ExecuteTime": {
     "end_time": "2023-10-02T11:50:48.474094Z",
     "start_time": "2023-10-02T11:50:48.466294Z"
    }
   },
   "outputs": [],
   "source": [
    "# Select the desired columns\n",
    "selected_columns = ['Make', 'Model', 'Year', 'Engine HP', 'Engine Cylinders',\n",
    "                    'Transmission Type', 'Vehicle Style', 'highway MPG',\n",
    "                    'city mpg', 'MSRP']\n",
    "\n",
    "# Subset the DataFrame with the selected columns\n",
    "df_selected = df_car_price[selected_columns].copy()\n",
    "\n",
    "# Transform column names\n",
    "df_selected.columns = df_selected.columns.str.replace(' ', '_').str.lower()"
   ]
  },
  {
   "cell_type": "code",
   "execution_count": 17,
   "id": "a4b0bcc6",
   "metadata": {
    "ExecuteTime": {
     "end_time": "2023-10-02T11:50:50.155107Z",
     "start_time": "2023-10-02T11:50:50.139138Z"
    }
   },
   "outputs": [
    {
     "data": {
      "text/html": [
       "<div>\n",
       "<style scoped>\n",
       "    .dataframe tbody tr th:only-of-type {\n",
       "        vertical-align: middle;\n",
       "    }\n",
       "\n",
       "    .dataframe tbody tr th {\n",
       "        vertical-align: top;\n",
       "    }\n",
       "\n",
       "    .dataframe thead th {\n",
       "        text-align: right;\n",
       "    }\n",
       "</style>\n",
       "<table border=\"1\" class=\"dataframe\">\n",
       "  <thead>\n",
       "    <tr style=\"text-align: right;\">\n",
       "      <th></th>\n",
       "      <th>make</th>\n",
       "      <th>model</th>\n",
       "      <th>year</th>\n",
       "      <th>engine_hp</th>\n",
       "      <th>engine_cylinders</th>\n",
       "      <th>transmission_type</th>\n",
       "      <th>vehicle_style</th>\n",
       "      <th>highway_mpg</th>\n",
       "      <th>city_mpg</th>\n",
       "      <th>price</th>\n",
       "    </tr>\n",
       "  </thead>\n",
       "  <tbody>\n",
       "    <tr>\n",
       "      <th>0</th>\n",
       "      <td>BMW</td>\n",
       "      <td>1 Series M</td>\n",
       "      <td>2011</td>\n",
       "      <td>335.0</td>\n",
       "      <td>6.0</td>\n",
       "      <td>MANUAL</td>\n",
       "      <td>Coupe</td>\n",
       "      <td>26</td>\n",
       "      <td>19</td>\n",
       "      <td>46135</td>\n",
       "    </tr>\n",
       "    <tr>\n",
       "      <th>1</th>\n",
       "      <td>BMW</td>\n",
       "      <td>1 Series</td>\n",
       "      <td>2011</td>\n",
       "      <td>300.0</td>\n",
       "      <td>6.0</td>\n",
       "      <td>MANUAL</td>\n",
       "      <td>Convertible</td>\n",
       "      <td>28</td>\n",
       "      <td>19</td>\n",
       "      <td>40650</td>\n",
       "    </tr>\n",
       "    <tr>\n",
       "      <th>2</th>\n",
       "      <td>BMW</td>\n",
       "      <td>1 Series</td>\n",
       "      <td>2011</td>\n",
       "      <td>300.0</td>\n",
       "      <td>6.0</td>\n",
       "      <td>MANUAL</td>\n",
       "      <td>Coupe</td>\n",
       "      <td>28</td>\n",
       "      <td>20</td>\n",
       "      <td>36350</td>\n",
       "    </tr>\n",
       "    <tr>\n",
       "      <th>3</th>\n",
       "      <td>BMW</td>\n",
       "      <td>1 Series</td>\n",
       "      <td>2011</td>\n",
       "      <td>230.0</td>\n",
       "      <td>6.0</td>\n",
       "      <td>MANUAL</td>\n",
       "      <td>Coupe</td>\n",
       "      <td>28</td>\n",
       "      <td>18</td>\n",
       "      <td>29450</td>\n",
       "    </tr>\n",
       "    <tr>\n",
       "      <th>4</th>\n",
       "      <td>BMW</td>\n",
       "      <td>1 Series</td>\n",
       "      <td>2011</td>\n",
       "      <td>230.0</td>\n",
       "      <td>6.0</td>\n",
       "      <td>MANUAL</td>\n",
       "      <td>Convertible</td>\n",
       "      <td>28</td>\n",
       "      <td>18</td>\n",
       "      <td>34500</td>\n",
       "    </tr>\n",
       "  </tbody>\n",
       "</table>\n",
       "</div>"
      ],
      "text/plain": [
       "  make       model  year  engine_hp  engine_cylinders transmission_type  \\\n",
       "0  BMW  1 Series M  2011      335.0               6.0            MANUAL   \n",
       "1  BMW    1 Series  2011      300.0               6.0            MANUAL   \n",
       "2  BMW    1 Series  2011      300.0               6.0            MANUAL   \n",
       "3  BMW    1 Series  2011      230.0               6.0            MANUAL   \n",
       "4  BMW    1 Series  2011      230.0               6.0            MANUAL   \n",
       "\n",
       "  vehicle_style  highway_mpg  city_mpg  price  \n",
       "0         Coupe           26        19  46135  \n",
       "1   Convertible           28        19  40650  \n",
       "2         Coupe           28        20  36350  \n",
       "3         Coupe           28        18  29450  \n",
       "4   Convertible           28        18  34500  "
      ]
     },
     "execution_count": 17,
     "metadata": {},
     "output_type": "execute_result"
    }
   ],
   "source": [
    "# Fill missing values with 0\n",
    "df_selected.fillna(0, inplace=True)\n",
    "\n",
    "# Rename 'MSRP' variable to 'price'\n",
    "df_selected.rename(columns={'msrp': 'price'}, inplace=True)\n",
    "\n",
    "# Display the updated DataFrame\n",
    "df_selected.head()"
   ]
  },
  {
   "cell_type": "markdown",
   "id": "dd888125",
   "metadata": {},
   "source": [
    "### Question 1\n",
    "\n",
    "What is the most frequent observation (mode) for the column `transmission_type`?\n",
    "\n",
    "- `AUTOMATIC`\n",
    "- `MANUAL`\n",
    "- `AUTOMATED_MANUAL`\n",
    "- `DIRECT_DRIVE`"
   ]
  },
  {
   "cell_type": "code",
   "execution_count": 19,
   "id": "0ce12e05",
   "metadata": {
    "ExecuteTime": {
     "end_time": "2023-10-02T11:51:45.552856Z",
     "start_time": "2023-10-02T11:51:45.543033Z"
    }
   },
   "outputs": [
    {
     "data": {
      "text/plain": [
       "AUTOMATIC           8266\n",
       "MANUAL              2935\n",
       "AUTOMATED_MANUAL     626\n",
       "DIRECT_DRIVE          68\n",
       "UNKNOWN               19\n",
       "Name: transmission_type, dtype: int64"
      ]
     },
     "execution_count": 19,
     "metadata": {},
     "output_type": "execute_result"
    }
   ],
   "source": [
    "df_selected['transmission_type'].value_counts()"
   ]
  },
  {
   "cell_type": "code",
   "execution_count": 20,
   "id": "8be5ef14",
   "metadata": {
    "ExecuteTime": {
     "end_time": "2023-10-02T11:51:56.185645Z",
     "start_time": "2023-10-02T11:51:56.179078Z"
    }
   },
   "outputs": [
    {
     "data": {
      "text/plain": [
       "0    AUTOMATIC\n",
       "dtype: object"
      ]
     },
     "execution_count": 20,
     "metadata": {},
     "output_type": "execute_result"
    }
   ],
   "source": [
    "df_selected['transmission_type'].mode()"
   ]
  },
  {
   "cell_type": "markdown",
   "id": "bd03140c",
   "metadata": {},
   "source": [
    "### Question 2\n",
    "\n",
    "Create the [correlation matrix](https://www.google.com/search?q=correlation+matrix) for the numerical features of your dataset. \n",
    "In a correlation matrix, you compute the correlation coefficient between every pair of features in the dataset.\n",
    "\n",
    "What are the two features that have the biggest correlation in this dataset?\n",
    "\n",
    "- `engine_hp` and `year`\n",
    "- `engine_hp` and `engine_cylinders`\n",
    "- `highway_mpg` and `engine_cylinders`\n",
    "- `highway_mpg` and `city_mpg`\n",
    "\n",
    "\n"
   ]
  },
  {
   "cell_type": "code",
   "execution_count": 35,
   "id": "765fcc6d",
   "metadata": {
    "ExecuteTime": {
     "end_time": "2023-10-02T12:03:43.505284Z",
     "start_time": "2023-10-02T12:03:43.491720Z"
    },
    "scrolled": true
   },
   "outputs": [
    {
     "name": "stdout",
     "output_type": "stream",
     "text": [
      "Correlation Matrix:\n"
     ]
    },
    {
     "data": {
      "text/html": [
       "<div>\n",
       "<style scoped>\n",
       "    .dataframe tbody tr th:only-of-type {\n",
       "        vertical-align: middle;\n",
       "    }\n",
       "\n",
       "    .dataframe tbody tr th {\n",
       "        vertical-align: top;\n",
       "    }\n",
       "\n",
       "    .dataframe thead th {\n",
       "        text-align: right;\n",
       "    }\n",
       "</style>\n",
       "<table border=\"1\" class=\"dataframe\">\n",
       "  <thead>\n",
       "    <tr style=\"text-align: right;\">\n",
       "      <th></th>\n",
       "      <th>year</th>\n",
       "      <th>engine_hp</th>\n",
       "      <th>engine_cylinders</th>\n",
       "      <th>highway_mpg</th>\n",
       "      <th>city_mpg</th>\n",
       "      <th>price</th>\n",
       "    </tr>\n",
       "  </thead>\n",
       "  <tbody>\n",
       "    <tr>\n",
       "      <th>year</th>\n",
       "      <td>1.000000</td>\n",
       "      <td>0.338714</td>\n",
       "      <td>-0.040708</td>\n",
       "      <td>0.258240</td>\n",
       "      <td>0.198171</td>\n",
       "      <td>0.227590</td>\n",
       "    </tr>\n",
       "    <tr>\n",
       "      <th>engine_hp</th>\n",
       "      <td>0.338714</td>\n",
       "      <td>1.000000</td>\n",
       "      <td>0.774851</td>\n",
       "      <td>-0.415707</td>\n",
       "      <td>-0.424918</td>\n",
       "      <td>0.650095</td>\n",
       "    </tr>\n",
       "    <tr>\n",
       "      <th>engine_cylinders</th>\n",
       "      <td>-0.040708</td>\n",
       "      <td>0.774851</td>\n",
       "      <td>1.000000</td>\n",
       "      <td>-0.614541</td>\n",
       "      <td>-0.587306</td>\n",
       "      <td>0.526274</td>\n",
       "    </tr>\n",
       "    <tr>\n",
       "      <th>highway_mpg</th>\n",
       "      <td>0.258240</td>\n",
       "      <td>-0.415707</td>\n",
       "      <td>-0.614541</td>\n",
       "      <td>1.000000</td>\n",
       "      <td>0.886829</td>\n",
       "      <td>-0.160043</td>\n",
       "    </tr>\n",
       "    <tr>\n",
       "      <th>city_mpg</th>\n",
       "      <td>0.198171</td>\n",
       "      <td>-0.424918</td>\n",
       "      <td>-0.587306</td>\n",
       "      <td>0.886829</td>\n",
       "      <td>1.000000</td>\n",
       "      <td>-0.157676</td>\n",
       "    </tr>\n",
       "    <tr>\n",
       "      <th>price</th>\n",
       "      <td>0.227590</td>\n",
       "      <td>0.650095</td>\n",
       "      <td>0.526274</td>\n",
       "      <td>-0.160043</td>\n",
       "      <td>-0.157676</td>\n",
       "      <td>1.000000</td>\n",
       "    </tr>\n",
       "  </tbody>\n",
       "</table>\n",
       "</div>"
      ],
      "text/plain": [
       "                      year  engine_hp  engine_cylinders  highway_mpg  \\\n",
       "year              1.000000   0.338714         -0.040708     0.258240   \n",
       "engine_hp         0.338714   1.000000          0.774851    -0.415707   \n",
       "engine_cylinders -0.040708   0.774851          1.000000    -0.614541   \n",
       "highway_mpg       0.258240  -0.415707         -0.614541     1.000000   \n",
       "city_mpg          0.198171  -0.424918         -0.587306     0.886829   \n",
       "price             0.227590   0.650095          0.526274    -0.160043   \n",
       "\n",
       "                  city_mpg     price  \n",
       "year              0.198171  0.227590  \n",
       "engine_hp        -0.424918  0.650095  \n",
       "engine_cylinders -0.587306  0.526274  \n",
       "highway_mpg       0.886829 -0.160043  \n",
       "city_mpg          1.000000 -0.157676  \n",
       "price            -0.157676  1.000000  "
      ]
     },
     "execution_count": 35,
     "metadata": {},
     "output_type": "execute_result"
    }
   ],
   "source": [
    "# Calculate the correlation matrix\n",
    "correlation_matrix = df_selected.corr()\n",
    "\n",
    "# Print the correlation matrix\n",
    "print(\"Correlation Matrix:\")\n",
    "correlation_matrix"
   ]
  },
  {
   "cell_type": "code",
   "execution_count": 29,
   "id": "3e374e1d",
   "metadata": {
    "ExecuteTime": {
     "end_time": "2023-10-02T12:02:37.943588Z",
     "start_time": "2023-10-02T12:02:37.934602Z"
    }
   },
   "outputs": [
    {
     "data": {
      "text/plain": [
       "year              year                1.000000\n",
       "engine_hp         engine_hp           1.000000\n",
       "city_mpg          city_mpg            1.000000\n",
       "highway_mpg       highway_mpg         1.000000\n",
       "engine_cylinders  engine_cylinders    1.000000\n",
       "price             price               1.000000\n",
       "highway_mpg       city_mpg            0.886829\n",
       "city_mpg          highway_mpg         0.886829\n",
       "engine_hp         engine_cylinders    0.774851\n",
       "engine_cylinders  engine_hp           0.774851\n",
       "engine_hp         price               0.650095\n",
       "price             engine_hp           0.650095\n",
       "engine_cylinders  highway_mpg         0.614541\n",
       "highway_mpg       engine_cylinders    0.614541\n",
       "engine_cylinders  city_mpg            0.587306\n",
       "city_mpg          engine_cylinders    0.587306\n",
       "engine_cylinders  price               0.526274\n",
       "price             engine_cylinders    0.526274\n",
       "city_mpg          engine_hp           0.424918\n",
       "engine_hp         city_mpg            0.424918\n",
       "highway_mpg       engine_hp           0.415707\n",
       "engine_hp         highway_mpg         0.415707\n",
       "year              engine_hp           0.338714\n",
       "engine_hp         year                0.338714\n",
       "year              highway_mpg         0.258240\n",
       "highway_mpg       year                0.258240\n",
       "year              price               0.227590\n",
       "price             year                0.227590\n",
       "city_mpg          year                0.198171\n",
       "year              city_mpg            0.198171\n",
       "highway_mpg       price               0.160043\n",
       "price             highway_mpg         0.160043\n",
       "city_mpg          price               0.157676\n",
       "price             city_mpg            0.157676\n",
       "year              engine_cylinders    0.040708\n",
       "engine_cylinders  year                0.040708\n",
       "dtype: float64"
      ]
     },
     "execution_count": 29,
     "metadata": {},
     "output_type": "execute_result"
    }
   ],
   "source": [
    "correlation_matrix.abs().unstack().sort_values(ascending=False)"
   ]
  },
  {
   "cell_type": "code",
   "execution_count": 36,
   "id": "6643b52a",
   "metadata": {
    "ExecuteTime": {
     "end_time": "2023-10-02T12:03:48.650940Z",
     "start_time": "2023-10-02T12:03:48.641012Z"
    }
   },
   "outputs": [
    {
     "name": "stdout",
     "output_type": "stream",
     "text": [
      "\n",
      "The two features with the biggest correlation:\n"
     ]
    },
    {
     "data": {
      "text/plain": [
       "highway_mpg  city_mpg       0.886829\n",
       "city_mpg     highway_mpg    0.886829\n",
       "dtype: float64"
      ]
     },
     "execution_count": 36,
     "metadata": {},
     "output_type": "execute_result"
    }
   ],
   "source": [
    "# Find the two features with the biggest correlation\n",
    "max_corr = correlation_matrix.abs().unstack().sort_values(ascending=False)\n",
    "print(\"\\nThe two features with the biggest correlation:\")\n",
    "max_corr[max_corr < 1].head(2)"
   ]
  },
  {
   "cell_type": "markdown",
   "id": "d6f132e2",
   "metadata": {},
   "source": [
    "### Make `price` binary\n",
    "\n",
    "* Now we need to turn the `price` variable from numeric into a binary format.\n",
    "* Let's create a variable `above_average` which is `1` if the `price` is above its mean value and `0` otherwise.\n",
    "\n"
   ]
  },
  {
   "cell_type": "code",
   "execution_count": 39,
   "id": "fe9ec29d",
   "metadata": {
    "ExecuteTime": {
     "end_time": "2023-10-02T16:03:22.716014Z",
     "start_time": "2023-10-02T16:03:22.709891Z"
    }
   },
   "outputs": [
    {
     "data": {
      "text/plain": [
       "40594.737032063116"
      ]
     },
     "execution_count": 39,
     "metadata": {},
     "output_type": "execute_result"
    }
   ],
   "source": [
    "df_selected['price'].mean()"
   ]
  },
  {
   "cell_type": "code",
   "execution_count": 38,
   "id": "0a8573a9",
   "metadata": {
    "ExecuteTime": {
     "end_time": "2023-10-02T16:03:10.336415Z",
     "start_time": "2023-10-02T16:03:10.289091Z"
    }
   },
   "outputs": [
    {
     "data": {
      "text/html": [
       "<div>\n",
       "<style scoped>\n",
       "    .dataframe tbody tr th:only-of-type {\n",
       "        vertical-align: middle;\n",
       "    }\n",
       "\n",
       "    .dataframe tbody tr th {\n",
       "        vertical-align: top;\n",
       "    }\n",
       "\n",
       "    .dataframe thead th {\n",
       "        text-align: right;\n",
       "    }\n",
       "</style>\n",
       "<table border=\"1\" class=\"dataframe\">\n",
       "  <thead>\n",
       "    <tr style=\"text-align: right;\">\n",
       "      <th></th>\n",
       "      <th>make</th>\n",
       "      <th>model</th>\n",
       "      <th>year</th>\n",
       "      <th>engine_hp</th>\n",
       "      <th>engine_cylinders</th>\n",
       "      <th>transmission_type</th>\n",
       "      <th>vehicle_style</th>\n",
       "      <th>highway_mpg</th>\n",
       "      <th>city_mpg</th>\n",
       "      <th>price</th>\n",
       "      <th>above_average</th>\n",
       "    </tr>\n",
       "  </thead>\n",
       "  <tbody>\n",
       "    <tr>\n",
       "      <th>0</th>\n",
       "      <td>BMW</td>\n",
       "      <td>1 Series M</td>\n",
       "      <td>2011</td>\n",
       "      <td>335.0</td>\n",
       "      <td>6.0</td>\n",
       "      <td>MANUAL</td>\n",
       "      <td>Coupe</td>\n",
       "      <td>26</td>\n",
       "      <td>19</td>\n",
       "      <td>46135</td>\n",
       "      <td>1</td>\n",
       "    </tr>\n",
       "    <tr>\n",
       "      <th>1</th>\n",
       "      <td>BMW</td>\n",
       "      <td>1 Series</td>\n",
       "      <td>2011</td>\n",
       "      <td>300.0</td>\n",
       "      <td>6.0</td>\n",
       "      <td>MANUAL</td>\n",
       "      <td>Convertible</td>\n",
       "      <td>28</td>\n",
       "      <td>19</td>\n",
       "      <td>40650</td>\n",
       "      <td>1</td>\n",
       "    </tr>\n",
       "    <tr>\n",
       "      <th>2</th>\n",
       "      <td>BMW</td>\n",
       "      <td>1 Series</td>\n",
       "      <td>2011</td>\n",
       "      <td>300.0</td>\n",
       "      <td>6.0</td>\n",
       "      <td>MANUAL</td>\n",
       "      <td>Coupe</td>\n",
       "      <td>28</td>\n",
       "      <td>20</td>\n",
       "      <td>36350</td>\n",
       "      <td>0</td>\n",
       "    </tr>\n",
       "    <tr>\n",
       "      <th>3</th>\n",
       "      <td>BMW</td>\n",
       "      <td>1 Series</td>\n",
       "      <td>2011</td>\n",
       "      <td>230.0</td>\n",
       "      <td>6.0</td>\n",
       "      <td>MANUAL</td>\n",
       "      <td>Coupe</td>\n",
       "      <td>28</td>\n",
       "      <td>18</td>\n",
       "      <td>29450</td>\n",
       "      <td>0</td>\n",
       "    </tr>\n",
       "    <tr>\n",
       "      <th>4</th>\n",
       "      <td>BMW</td>\n",
       "      <td>1 Series</td>\n",
       "      <td>2011</td>\n",
       "      <td>230.0</td>\n",
       "      <td>6.0</td>\n",
       "      <td>MANUAL</td>\n",
       "      <td>Convertible</td>\n",
       "      <td>28</td>\n",
       "      <td>18</td>\n",
       "      <td>34500</td>\n",
       "      <td>0</td>\n",
       "    </tr>\n",
       "  </tbody>\n",
       "</table>\n",
       "</div>"
      ],
      "text/plain": [
       "  make       model  year  engine_hp  engine_cylinders transmission_type  \\\n",
       "0  BMW  1 Series M  2011      335.0               6.0            MANUAL   \n",
       "1  BMW    1 Series  2011      300.0               6.0            MANUAL   \n",
       "2  BMW    1 Series  2011      300.0               6.0            MANUAL   \n",
       "3  BMW    1 Series  2011      230.0               6.0            MANUAL   \n",
       "4  BMW    1 Series  2011      230.0               6.0            MANUAL   \n",
       "\n",
       "  vehicle_style  highway_mpg  city_mpg  price  above_average  \n",
       "0         Coupe           26        19  46135              1  \n",
       "1   Convertible           28        19  40650              1  \n",
       "2         Coupe           28        20  36350              0  \n",
       "3         Coupe           28        18  29450              0  \n",
       "4   Convertible           28        18  34500              0  "
      ]
     },
     "execution_count": 38,
     "metadata": {},
     "output_type": "execute_result"
    }
   ],
   "source": [
    "# Calculate the mean of the 'price' variable\n",
    "mean_price = df_selected['price'].mean()\n",
    "\n",
    "# Create a new column 'above_average' with binary values\n",
    "df_selected['above_average'] = df_selected['price'].apply(lambda x: 1 if x > mean_price else 0)\n",
    "\n",
    "# Display the updated DataFrame\n",
    "df_selected.head()"
   ]
  },
  {
   "cell_type": "markdown",
   "id": "b8b0aeb1",
   "metadata": {},
   "source": [
    "### Split the data\n",
    "\n",
    "* Split your data in train/val/test sets with 60%/20%/20% distribution.\n",
    "* Use Scikit-Learn for that (the `train_test_split` function) and set the seed to `42`.\n",
    "* Make sure that the target value (`above_average`) is not in your dataframe."
   ]
  },
  {
   "cell_type": "code",
   "execution_count": 56,
   "id": "b7114f13",
   "metadata": {
    "ExecuteTime": {
     "end_time": "2023-10-02T17:14:51.501720Z",
     "start_time": "2023-10-02T17:14:51.483352Z"
    }
   },
   "outputs": [
    {
     "name": "stdout",
     "output_type": "stream",
     "text": [
      "Train set shape: (7148, 9) (7148,)\n",
      "Validation set shape: (2383, 9) (2383,)\n",
      "Test set shape: (2383, 9) (2383,)\n"
     ]
    }
   ],
   "source": [
    "from sklearn.model_selection import train_test_split\n",
    "\n",
    "# Separate features (X) from the target (y)\n",
    "X = df_selected.drop(columns=['above_average','price'])  # Features\n",
    "y = df_selected['above_average']  # Target\n",
    "\n",
    "# Split the data into train, validation, and test sets\n",
    "# Use a 60%/20%/20% distribution and set the random seed to 42 for reproducibility\n",
    "X_train, X_temp, y_train, y_temp = train_test_split(X, y, test_size=0.4, random_state=42)\n",
    "X_val, X_test, y_val, y_test = train_test_split(X_temp, y_temp, test_size=0.5, random_state=42)\n",
    "\n",
    "# Display the shapes of the resulting sets\n",
    "print(\"Train set shape:\", X_train.shape, y_train.shape)\n",
    "print(\"Validation set shape:\", X_val.shape, y_val.shape)\n",
    "print(\"Test set shape:\", X_test.shape, y_test.shape)"
   ]
  },
  {
   "cell_type": "code",
   "execution_count": 57,
   "id": "6b713942",
   "metadata": {
    "ExecuteTime": {
     "end_time": "2023-10-02T17:14:57.080370Z",
     "start_time": "2023-10-02T17:14:57.068859Z"
    }
   },
   "outputs": [
    {
     "data": {
      "text/html": [
       "<div>\n",
       "<style scoped>\n",
       "    .dataframe tbody tr th:only-of-type {\n",
       "        vertical-align: middle;\n",
       "    }\n",
       "\n",
       "    .dataframe tbody tr th {\n",
       "        vertical-align: top;\n",
       "    }\n",
       "\n",
       "    .dataframe thead th {\n",
       "        text-align: right;\n",
       "    }\n",
       "</style>\n",
       "<table border=\"1\" class=\"dataframe\">\n",
       "  <thead>\n",
       "    <tr style=\"text-align: right;\">\n",
       "      <th></th>\n",
       "      <th>make</th>\n",
       "      <th>model</th>\n",
       "      <th>year</th>\n",
       "      <th>engine_hp</th>\n",
       "      <th>engine_cylinders</th>\n",
       "      <th>transmission_type</th>\n",
       "      <th>vehicle_style</th>\n",
       "      <th>highway_mpg</th>\n",
       "      <th>city_mpg</th>\n",
       "    </tr>\n",
       "  </thead>\n",
       "  <tbody>\n",
       "    <tr>\n",
       "      <th>0</th>\n",
       "      <td>BMW</td>\n",
       "      <td>1 Series M</td>\n",
       "      <td>2011</td>\n",
       "      <td>335.0</td>\n",
       "      <td>6.0</td>\n",
       "      <td>MANUAL</td>\n",
       "      <td>Coupe</td>\n",
       "      <td>26</td>\n",
       "      <td>19</td>\n",
       "    </tr>\n",
       "    <tr>\n",
       "      <th>1</th>\n",
       "      <td>BMW</td>\n",
       "      <td>1 Series</td>\n",
       "      <td>2011</td>\n",
       "      <td>300.0</td>\n",
       "      <td>6.0</td>\n",
       "      <td>MANUAL</td>\n",
       "      <td>Convertible</td>\n",
       "      <td>28</td>\n",
       "      <td>19</td>\n",
       "    </tr>\n",
       "  </tbody>\n",
       "</table>\n",
       "</div>"
      ],
      "text/plain": [
       "  make       model  year  engine_hp  engine_cylinders transmission_type  \\\n",
       "0  BMW  1 Series M  2011      335.0               6.0            MANUAL   \n",
       "1  BMW    1 Series  2011      300.0               6.0            MANUAL   \n",
       "\n",
       "  vehicle_style  highway_mpg  city_mpg  \n",
       "0         Coupe           26        19  \n",
       "1   Convertible           28        19  "
      ]
     },
     "execution_count": 57,
     "metadata": {},
     "output_type": "execute_result"
    }
   ],
   "source": [
    "X.head(2)"
   ]
  },
  {
   "cell_type": "code",
   "execution_count": 43,
   "id": "08181c50",
   "metadata": {
    "ExecuteTime": {
     "end_time": "2023-10-02T16:05:06.026188Z",
     "start_time": "2023-10-02T16:05:06.018065Z"
    }
   },
   "outputs": [
    {
     "data": {
      "text/plain": [
       "0    1\n",
       "1    1\n",
       "Name: above_average, dtype: int64"
      ]
     },
     "execution_count": 43,
     "metadata": {},
     "output_type": "execute_result"
    }
   ],
   "source": [
    "y.head(2)"
   ]
  },
  {
   "cell_type": "markdown",
   "id": "dd25a648",
   "metadata": {},
   "source": [
    "### Question 3\n",
    "\n",
    "* Calculate the mutual information score between `above_average` and other categorical variables in our dataset. \n",
    "  Use the training set only.\n",
    "* Round the scores to 2 decimals using `round(score, 2)`.\n",
    "\n",
    "Which of these variables has the lowest mutual information score?\n",
    "  \n",
    "- `make`\n",
    "- `model`\n",
    "- `transmission_type`\n",
    "- `vehicle_style`"
   ]
  },
  {
   "cell_type": "code",
   "execution_count": 58,
   "id": "a2f98ce5",
   "metadata": {
    "ExecuteTime": {
     "end_time": "2023-10-02T17:15:09.372443Z",
     "start_time": "2023-10-02T17:15:09.359119Z"
    }
   },
   "outputs": [],
   "source": [
    "from sklearn.preprocessing import LabelEncoder\n",
    "from sklearn.feature_selection import mutual_info_classif\n",
    "\n",
    "# Categorical variables for which we want to calculate mutual information\n",
    "categorical_vars = ['make', 'model', 'transmission_type', 'vehicle_style']\n",
    "\n",
    "# Initialize LabelEncoder\n",
    "label_encoder = LabelEncoder()\n",
    "\n",
    "# Label encode the categorical variables in the training set\n",
    "X_train_encoded = X_train[categorical_vars].apply(label_encoder.fit_transform)"
   ]
  },
  {
   "cell_type": "code",
   "execution_count": 59,
   "id": "04033745",
   "metadata": {
    "ExecuteTime": {
     "end_time": "2023-10-02T17:15:11.739453Z",
     "start_time": "2023-10-02T17:15:11.721591Z"
    }
   },
   "outputs": [
    {
     "name": "stdout",
     "output_type": "stream",
     "text": [
      "Mutual Information score for make: 0.24\n",
      "Mutual Information score for model: 0.46\n",
      "Mutual Information score for transmission_type: 0.02\n",
      "Mutual Information score for vehicle_style: 0.08\n",
      "\n",
      "The variable with the lowest mutual information score: transmission_type\n"
     ]
    }
   ],
   "source": [
    "# Calculate mutual information scores using the training set\n",
    "mi_scores = mutual_info_classif(X_train_encoded, y_train, discrete_features=True, random_state=42)\n",
    "\n",
    "# Create a dictionary to store variable -> mutual information score\n",
    "mi_scores_dict = dict(zip(categorical_vars, mi_scores))\n",
    "\n",
    "# Print the mutual information scores for each variable, rounded to 2 decimals\n",
    "for var, score in mi_scores_dict.items():\n",
    "    print(f\"Mutual Information score for {var}: {round(score, 2)}\")\n",
    "\n",
    "# Find the variable with the lowest mutual information score\n",
    "lowest_mi_variable = min(mi_scores_dict, key=mi_scores_dict.get)\n",
    "print(f\"\\nThe variable with the lowest mutual information score: {lowest_mi_variable}\")"
   ]
  },
  {
   "cell_type": "markdown",
   "id": "519683ef",
   "metadata": {},
   "source": [
    "### Question 4\n",
    "\n",
    "* Now let's train a logistic regression.\n",
    "* Remember that we have several categorical variables in the dataset. Include them using one-hot encoding.\n",
    "* Fit the model on the training dataset.\n",
    "    - To make sure the results are reproducible across different versions of Scikit-Learn, fit the model with these parameters:\n",
    "    - `model = LogisticRegression(solver='liblinear', C=10, max_iter=1000, random_state=42)`\n",
    "* Calculate the accuracy on the validation dataset and round it to 2 decimal digits.\n",
    "\n",
    "What accuracy did you get?\n",
    "\n",
    "- 0.60\n",
    "- 0.72\n",
    "- 0.84\n",
    "- 0.95"
   ]
  },
  {
   "cell_type": "code",
   "execution_count": 62,
   "id": "7b7fe457",
   "metadata": {
    "ExecuteTime": {
     "end_time": "2023-10-02T17:15:53.035940Z",
     "start_time": "2023-10-02T17:15:52.850549Z"
    }
   },
   "outputs": [
    {
     "name": "stdout",
     "output_type": "stream",
     "text": [
      "Accuracy on the validation dataset: 0.94\n"
     ]
    }
   ],
   "source": [
    "from sklearn.linear_model import LogisticRegression\n",
    "from sklearn.preprocessing import OneHotEncoder\n",
    "from sklearn.compose import ColumnTransformer\n",
    "from sklearn.pipeline import Pipeline\n",
    "from sklearn.metrics import accuracy_score\n",
    "\n",
    "# Categorical variables for one-hot encoding\n",
    "categorical_vars = ['make', 'model', 'transmission_type', 'vehicle_style']\n",
    "\n",
    "# Create the logistic regression model with specified parameters\n",
    "model = LogisticRegression(solver='liblinear', C=10, max_iter=1000, random_state=42)\n",
    "\n",
    "# Create a ColumnTransformer to apply OneHotEncoder to specified columns\n",
    "preprocessor = ColumnTransformer(\n",
    "    transformers=[\n",
    "        ('onehot', OneHotEncoder(handle_unknown='ignore', sparse=False), categorical_vars)],\n",
    "    remainder='passthrough'\n",
    ")\n",
    "\n",
    "# Update the pipeline to use the preprocessor\n",
    "pipeline = Pipeline([\n",
    "    ('preprocessor', preprocessor),\n",
    "    ('model', model)\n",
    "])\n",
    "\n",
    "# Fit the model on the training dataset\n",
    "pipeline.fit(X_train, y_train)\n",
    "\n",
    "# Predict on the validation dataset\n",
    "y_val_pred = pipeline.predict(X_val)\n",
    "\n",
    "# Calculate accuracy on the validation dataset\n",
    "accuracy = accuracy_score(y_val, y_val_pred)\n",
    "\n",
    "# Print the rounded accuracy\n",
    "print(\"Accuracy on the validation dataset:\", round(accuracy, 2))"
   ]
  },
  {
   "cell_type": "markdown",
   "id": "70e2e026",
   "metadata": {},
   "source": [
    "### Question 5 \n",
    "\n",
    "* Let's find the least useful feature using the *feature elimination* technique.\n",
    "* Train a model with all these features (using the same parameters as in Q4).\n",
    "* Now exclude each feature from this set and train a model without it. Record the accuracy for each model.\n",
    "* For each feature, calculate the difference between the original accuracy and the accuracy without the feature. \n",
    "\n",
    "Which of following feature has the smallest difference?\n",
    "\n",
    "- `year`\n",
    "- `engine_hp`\n",
    "- `transmission_type`\n",
    "- `city_mpg`\n",
    "\n",
    "> **Note**: the difference doesn't have to be positive"
   ]
  },
  {
   "cell_type": "code",
   "execution_count": 93,
   "id": "e14e3ce9",
   "metadata": {
    "ExecuteTime": {
     "end_time": "2023-10-02T17:43:45.035360Z",
     "start_time": "2023-10-02T17:43:45.030424Z"
    },
    "scrolled": true
   },
   "outputs": [
    {
     "data": {
      "text/plain": [
       "Index(['make', 'model', 'year', 'engine_hp', 'engine_cylinders',\n",
       "       'transmission_type', 'vehicle_style', 'highway_mpg', 'city_mpg'],\n",
       "      dtype='object')"
      ]
     },
     "execution_count": 93,
     "metadata": {},
     "output_type": "execute_result"
    }
   ],
   "source": [
    "X_train.columns"
   ]
  },
  {
   "cell_type": "code",
   "execution_count": null,
   "id": "07b27737",
   "metadata": {},
   "outputs": [],
   "source": [
    "# Create a ColumnTransformer to apply OneHotEncoder to specified columns\n",
    "preprocessor = ColumnTransformer(\n",
    "    transformers=[\n",
    "        ('onehot', OneHotEncoder(handle_unknown='ignore', sparse=False), categorical_vars)],\n",
    "    remainder='passthrough'\n",
    ")\n",
    "\n",
    "# Update the pipeline to use the preprocessor\n",
    "pipeline = Pipeline([\n",
    "    ('preprocessor', preprocessor),\n",
    "    ('model', model)\n",
    "])"
   ]
  },
  {
   "cell_type": "code",
   "execution_count": 96,
   "id": "6a9d303d",
   "metadata": {
    "ExecuteTime": {
     "end_time": "2023-10-02T17:48:44.842155Z",
     "start_time": "2023-10-02T17:48:44.031263Z"
    }
   },
   "outputs": [
    {
     "name": "stdout",
     "output_type": "stream",
     "text": [
      "['make', 'model', 'transmission_type', 'vehicle_style']\n",
      "['make', 'model', 'transmission_type', 'vehicle_style']\n",
      "['make', 'model', 'vehicle_style']\n",
      "['make', 'model', 'transmission_type', 'vehicle_style']\n",
      "Feature with the smallest difference: city_mpg\n",
      "Smallest difference: -0.004196391103650887\n"
     ]
    }
   ],
   "source": [
    "# Features to be considered\n",
    "features = ['year', 'engine_hp', 'transmission_type', 'city_mpg']\n",
    "categorical_vars = ['make', 'model', 'transmission_type', 'vehicle_style']\n",
    "# Train a model with all features\n",
    "pipeline.fit(X_train, y_train)\n",
    "accuracy_all_features = accuracy_score(y_val, pipeline.predict(X_val))\n",
    "\n",
    "# Dictionary to store accuracy differences for each feature\n",
    "accuracy_differences = {}\n",
    "\n",
    "# Iterate through each feature and calculate accuracy difference when excluding it\n",
    "for feature in features:\n",
    "    # Exclude the feature\n",
    "    features_subset = [f for f in categorical_vars if f != feature]\n",
    "    print(features_subset)\n",
    "    # Create a new preprocessor without the feature\n",
    "    preprocessor_subset = ColumnTransformer(\n",
    "        transformers=[\n",
    "            ('onehot', OneHotEncoder(handle_unknown='ignore', sparse=False), \n",
    "             features_subset)],\n",
    "        remainder='passthrough'\n",
    "    )\n",
    "    \n",
    "    # Replace the preprocessor in a new pipeline\n",
    "    new_pipeline = Pipeline([\n",
    "        ('preprocessor', preprocessor_subset),\n",
    "        ('model', LogisticRegression(solver='liblinear', C=10, max_iter=1000, random_state=42))\n",
    "    ])\n",
    "    \n",
    "    X_train_subset = X_train.drop(feature, axis=1)\n",
    "    X_val_subset = X_val.drop(feature, axis=1)\n",
    "    \n",
    "    # Fit and predict with the modified pipeline\n",
    "    new_pipeline.fit(X_train_subset, y_train)\n",
    "    accuracy_without_feature = accuracy_score(y_val, new_pipeline.predict(X_val_subset))\n",
    "    \n",
    "    # Calculate the difference in accuracy\n",
    "    difference = accuracy_all_features - accuracy_without_feature\n",
    "    \n",
    "    # Store the difference for the feature\n",
    "    accuracy_differences[feature] = difference\n",
    "\n",
    "# Find the feature with the smallest difference\n",
    "smallest_difference_feature = min(accuracy_differences, key=accuracy_differences.get)\n",
    "smallest_difference = accuracy_differences[smallest_difference_feature]\n",
    "\n",
    "# Print the feature with the smallest difference and the difference itself\n",
    "print(\"Feature with the smallest difference:\", smallest_difference_feature)\n",
    "print(\"Smallest difference:\", smallest_difference)\n"
   ]
  },
  {
   "cell_type": "markdown",
   "id": "ba77be1e",
   "metadata": {},
   "source": [
    "### Question 6\n",
    "\n",
    "* For this question, we'll see how to use a linear regression model from Scikit-Learn.\n",
    "* We'll need to use the original column `price`. Apply the logarithmic transformation to this column.\n",
    "* Fit the Ridge regression model on the training data with a solver `'sag'`. Set the seed to `42`.\n",
    "* This model also has a parameter `alpha`. Let's try the following values: `[0, 0.01, 0.1, 1, 10]`.\n",
    "* Round your RMSE scores to 3 decimal digits.\n",
    "\n",
    "Which of these alphas leads to the best RMSE on the validation set?\n",
    "\n",
    "- 0\n",
    "- 0.01\n",
    "- 0.1\n",
    "- 1\n",
    "- 10\n",
    "\n",
    "> **Note**: If there are multiple options, select the smallest `alpha`."
   ]
  },
  {
   "cell_type": "code",
   "execution_count": 100,
   "id": "29cb6d71",
   "metadata": {
    "ExecuteTime": {
     "end_time": "2023-10-02T18:02:50.566250Z",
     "start_time": "2023-10-02T18:02:50.562920Z"
    }
   },
   "outputs": [],
   "source": [
    "from sklearn.linear_model import Ridge\n",
    "from sklearn.metrics import mean_squared_error\n",
    "import numpy as np"
   ]
  },
  {
   "cell_type": "code",
   "execution_count": 101,
   "id": "e47e0eee",
   "metadata": {
    "ExecuteTime": {
     "end_time": "2023-10-02T18:03:04.925343Z",
     "start_time": "2023-10-02T18:03:04.919611Z"
    }
   },
   "outputs": [],
   "source": [
    "# Apply logarithmic transformation to the 'price' column\n",
    "df_selected['log_price'] = np.log1p(df_selected['price'])\n",
    "\n",
    "# Separate features (X) and target (y)\n",
    "X = df_selected.drop(['above_average', 'price'], axis=1)\n",
    "y = df_selected['log_price']"
   ]
  },
  {
   "cell_type": "code",
   "execution_count": 105,
   "id": "8bf57733",
   "metadata": {
    "ExecuteTime": {
     "end_time": "2023-10-02T18:09:40.231711Z",
     "start_time": "2023-10-02T18:06:51.383065Z"
    }
   },
   "outputs": [
    {
     "name": "stdout",
     "output_type": "stream",
     "text": [
      "RMSE scores for different alpha values:\n",
      "{0: 0.097, 0.01: 0.097, 0.1: 0.097, 1: 0.097, 10: 0.099}\n",
      "\n",
      "Best alpha with the lowest RMSE on the validation set: 0\n",
      "RMSE with the best alpha: 0.097\n"
     ]
    }
   ],
   "source": [
    "# Split the data into training and validation sets\n",
    "X_train, X_val, y_train, y_val = train_test_split(X, y, test_size=0.2, random_state=42)\n",
    "\n",
    "# Categorical variables for one-hot encoding\n",
    "categorical_vars = ['make', 'model', 'transmission_type', 'vehicle_style']\n",
    "\n",
    "# Create a preprocessor to apply one-hot encoding to categorical variables\n",
    "preprocessor = ColumnTransformer(\n",
    "    transformers=[\n",
    "        ('onehot', OneHotEncoder(handle_unknown='ignore', sparse=False), categorical_vars)],\n",
    "    remainder='passthrough'\n",
    ")\n",
    "\n",
    "# List of alpha values to try\n",
    "alphas = [0, 0.01, 0.1, 1, 10]\n",
    "\n",
    "# Dictionary to store RMSE for each alpha\n",
    "rmse_scores = {}\n",
    "\n",
    "# Fit Ridge regression models with different alpha values\n",
    "for alpha in alphas:\n",
    "    # Create a new pipeline with the current alpha\n",
    "    pipeline = Pipeline([\n",
    "        ('preprocessor', preprocessor),\n",
    "        ('model', Ridge(alpha=alpha, solver='sag', random_state=42))\n",
    "    ])\n",
    "    \n",
    "    # Fit the model and predict on the validation set\n",
    "    pipeline.fit(X_train, y_train)\n",
    "    y_val_pred = pipeline.predict(X_val)\n",
    "    \n",
    "    # Calculate RMSE for the current alpha\n",
    "    rmse = np.sqrt(mean_squared_error(y_val, y_val_pred))\n",
    "    rmse_scores[alpha] = round(rmse, 3)\n",
    "\n",
    "# Find the alpha with the lowest RMSE\n",
    "best_alpha = min(rmse_scores, key=rmse_scores.get)\n",
    "best_rmse = rmse_scores[best_alpha]\n",
    "\n",
    "# Print the results\n",
    "print(\"RMSE scores for different alpha values:\")\n",
    "print(rmse_scores)\n",
    "print(\"\\nBest alpha with the lowest RMSE on the validation set:\", best_alpha)\n",
    "print(\"RMSE with the best alpha:\", best_rmse)"
   ]
  },
  {
   "cell_type": "markdown",
   "id": "70f496b4",
   "metadata": {},
   "source": [
    "## Submit the results\n",
    "\n",
    "* Submit your results here: https://forms.gle/FFfNjEP4jU4rxnL26\n",
    "* You can submit your solution multiple times. In this case, only the last submission will be used \n",
    "* If your answer doesn't match options exactly, select the closest one\n",
    "\n",
    "\n",
    "## Deadline\n",
    "\n",
    "The deadline for submitting is 2 October (Monday), 23:00 CEST.\n",
    "\n",
    "After that, the form will be closed.\n"
   ]
  },
  {
   "cell_type": "code",
   "execution_count": null,
   "id": "d3a08cfb",
   "metadata": {},
   "outputs": [],
   "source": []
  }
 ],
 "metadata": {
  "kernelspec": {
   "display_name": "sa_env",
   "language": "python",
   "name": "sa_env"
  },
  "language_info": {
   "codemirror_mode": {
    "name": "ipython",
    "version": 3
   },
   "file_extension": ".py",
   "mimetype": "text/x-python",
   "name": "python",
   "nbconvert_exporter": "python",
   "pygments_lexer": "ipython3",
   "version": "3.7.2"
  },
  "toc": {
   "base_numbering": 1,
   "nav_menu": {},
   "number_sections": true,
   "sideBar": true,
   "skip_h1_title": false,
   "title_cell": "Table of Contents",
   "title_sidebar": "Contents",
   "toc_cell": false,
   "toc_position": {},
   "toc_section_display": true,
   "toc_window_display": false
  }
 },
 "nbformat": 4,
 "nbformat_minor": 5
}
