{
 "cells": [
  {
   "cell_type": "code",
   "execution_count": null,
   "id": "042799c3",
   "metadata": {},
   "outputs": [],
   "source": []
  },
  {
   "cell_type": "markdown",
   "id": "824f6611",
   "metadata": {},
   "source": [
    "## Homework\n",
    "\n",
    "> Note: sometimes your answer doesn't match one of the options exactly. That's fine. \n",
    "Select the option that's closest to your solution.\n",
    "\n",
    "### Dataset\n",
    "\n",
    "In this homework, we will use the Car price dataset. Download it from [here](https://raw.githubusercontent.com/alexeygrigorev/mlbookcamp-code/master/chapter-02-car-price/data.csv).\n",
    "\n",
    "Or you can do it with `wget`:\n",
    "\n",
    "```bash\n",
    "wget https://raw.githubusercontent.com/alexeygrigorev/mlbookcamp-code/master/chapter-02-car-price/data.csv\n",
    "```\n",
    "\n",
    "We'll keep working with the `MSRP` variable, and we'll transform it to a classification task. \n",
    "\n",
    "### Features\n",
    "\n",
    "For the rest of the homework, you'll need to use only these columns:\n",
    "\n",
    "* `Make`,\n",
    "* `Model`,\n",
    "* `Year`,\n",
    "* `Engine HP`,\n",
    "* `Engine Cylinders`,\n",
    "* `Transmission Type`,\n",
    "* `Vehicle Style`,\n",
    "* `highway MPG`,\n",
    "* `city mpg`,\n",
    "* `MSRP`"
   ]
  },
  {
   "cell_type": "code",
   "execution_count": 2,
   "id": "31bdb948",
   "metadata": {
    "ExecuteTime": {
     "end_time": "2023-10-02T11:35:52.138191Z",
     "start_time": "2023-10-02T11:35:48.815385Z"
    }
   },
   "outputs": [],
   "source": [
    "import pandas as pd"
   ]
  },
  {
   "cell_type": "code",
   "execution_count": 3,
   "id": "803bd5a5",
   "metadata": {
    "ExecuteTime": {
     "end_time": "2023-10-02T11:35:53.108171Z",
     "start_time": "2023-10-02T11:35:52.141527Z"
    }
   },
   "outputs": [],
   "source": [
    "df_car_price = pd.read_csv('https://raw.githubusercontent.com/alexeygrigorev/mlbookcamp-code/master/chapter-02-car-price/data.csv')"
   ]
  },
  {
   "cell_type": "code",
   "execution_count": 5,
   "id": "e8a2ca6b",
   "metadata": {
    "ExecuteTime": {
     "end_time": "2023-10-02T11:36:07.215886Z",
     "start_time": "2023-10-02T11:36:07.210324Z"
    }
   },
   "outputs": [
    {
     "data": {
      "text/plain": [
       "Index(['Make', 'Model', 'Year', 'Engine Fuel Type', 'Engine HP',\n",
       "       'Engine Cylinders', 'Transmission Type', 'Driven_Wheels',\n",
       "       'Number of Doors', 'Market Category', 'Vehicle Size', 'Vehicle Style',\n",
       "       'highway MPG', 'city mpg', 'Popularity', 'MSRP'],\n",
       "      dtype='object')"
      ]
     },
     "execution_count": 5,
     "metadata": {},
     "output_type": "execute_result"
    }
   ],
   "source": [
    "df_car_price.columns"
   ]
  },
  {
   "cell_type": "markdown",
   "id": "4a6d59a9",
   "metadata": {},
   "source": [
    "### Data preparation\n",
    "\n",
    "* Select only the features from above and transform their names using the next line:\n",
    "  ```\n",
    "  data.columns = data.columns.str.replace(' ', '_').str.lower()\n",
    "  ```\n",
    "* Fill in the missing values of the selected features with 0.\n",
    "* Rename `MSRP` variable to `price`.\n"
   ]
  },
  {
   "cell_type": "code",
   "execution_count": 114,
   "id": "4b411b06",
   "metadata": {
    "ExecuteTime": {
     "end_time": "2023-10-02T18:22:57.465664Z",
     "start_time": "2023-10-02T18:22:57.450921Z"
    }
   },
   "outputs": [],
   "source": [
    "# Select the desired columns\n",
    "selected_columns = ['Make', 'Model', 'Year', 'Engine HP', 'Engine Cylinders',\n",
    "                    'Transmission Type', 'Vehicle Style', 'highway MPG',\n",
    "                    'city mpg', 'MSRP']\n",
    "\n",
    "# Subset the DataFrame with the selected columns\n",
    "df_selected = df_car_price[selected_columns].copy()\n",
    "\n",
    "# Transform column names\n",
    "df_selected.columns = df_selected.columns.str.replace(' ', '_').str.lower()"
   ]
  },
  {
   "cell_type": "code",
   "execution_count": 115,
   "id": "67170c4b",
   "metadata": {
    "ExecuteTime": {
     "end_time": "2023-10-02T18:22:58.348931Z",
     "start_time": "2023-10-02T18:22:58.332492Z"
    }
   },
   "outputs": [
    {
     "data": {
      "text/html": [
       "<div>\n",
       "<style scoped>\n",
       "    .dataframe tbody tr th:only-of-type {\n",
       "        vertical-align: middle;\n",
       "    }\n",
       "\n",
       "    .dataframe tbody tr th {\n",
       "        vertical-align: top;\n",
       "    }\n",
       "\n",
       "    .dataframe thead th {\n",
       "        text-align: right;\n",
       "    }\n",
       "</style>\n",
       "<table border=\"1\" class=\"dataframe\">\n",
       "  <thead>\n",
       "    <tr style=\"text-align: right;\">\n",
       "      <th></th>\n",
       "      <th>make</th>\n",
       "      <th>model</th>\n",
       "      <th>year</th>\n",
       "      <th>engine_hp</th>\n",
       "      <th>engine_cylinders</th>\n",
       "      <th>transmission_type</th>\n",
       "      <th>vehicle_style</th>\n",
       "      <th>highway_mpg</th>\n",
       "      <th>city_mpg</th>\n",
       "      <th>price</th>\n",
       "    </tr>\n",
       "  </thead>\n",
       "  <tbody>\n",
       "    <tr>\n",
       "      <th>0</th>\n",
       "      <td>BMW</td>\n",
       "      <td>1 Series M</td>\n",
       "      <td>2011</td>\n",
       "      <td>335.0</td>\n",
       "      <td>6.0</td>\n",
       "      <td>MANUAL</td>\n",
       "      <td>Coupe</td>\n",
       "      <td>26</td>\n",
       "      <td>19</td>\n",
       "      <td>46135</td>\n",
       "    </tr>\n",
       "    <tr>\n",
       "      <th>1</th>\n",
       "      <td>BMW</td>\n",
       "      <td>1 Series</td>\n",
       "      <td>2011</td>\n",
       "      <td>300.0</td>\n",
       "      <td>6.0</td>\n",
       "      <td>MANUAL</td>\n",
       "      <td>Convertible</td>\n",
       "      <td>28</td>\n",
       "      <td>19</td>\n",
       "      <td>40650</td>\n",
       "    </tr>\n",
       "    <tr>\n",
       "      <th>2</th>\n",
       "      <td>BMW</td>\n",
       "      <td>1 Series</td>\n",
       "      <td>2011</td>\n",
       "      <td>300.0</td>\n",
       "      <td>6.0</td>\n",
       "      <td>MANUAL</td>\n",
       "      <td>Coupe</td>\n",
       "      <td>28</td>\n",
       "      <td>20</td>\n",
       "      <td>36350</td>\n",
       "    </tr>\n",
       "    <tr>\n",
       "      <th>3</th>\n",
       "      <td>BMW</td>\n",
       "      <td>1 Series</td>\n",
       "      <td>2011</td>\n",
       "      <td>230.0</td>\n",
       "      <td>6.0</td>\n",
       "      <td>MANUAL</td>\n",
       "      <td>Coupe</td>\n",
       "      <td>28</td>\n",
       "      <td>18</td>\n",
       "      <td>29450</td>\n",
       "    </tr>\n",
       "    <tr>\n",
       "      <th>4</th>\n",
       "      <td>BMW</td>\n",
       "      <td>1 Series</td>\n",
       "      <td>2011</td>\n",
       "      <td>230.0</td>\n",
       "      <td>6.0</td>\n",
       "      <td>MANUAL</td>\n",
       "      <td>Convertible</td>\n",
       "      <td>28</td>\n",
       "      <td>18</td>\n",
       "      <td>34500</td>\n",
       "    </tr>\n",
       "  </tbody>\n",
       "</table>\n",
       "</div>"
      ],
      "text/plain": [
       "  make       model  year  engine_hp  engine_cylinders transmission_type  \\\n",
       "0  BMW  1 Series M  2011      335.0               6.0            MANUAL   \n",
       "1  BMW    1 Series  2011      300.0               6.0            MANUAL   \n",
       "2  BMW    1 Series  2011      300.0               6.0            MANUAL   \n",
       "3  BMW    1 Series  2011      230.0               6.0            MANUAL   \n",
       "4  BMW    1 Series  2011      230.0               6.0            MANUAL   \n",
       "\n",
       "  vehicle_style  highway_mpg  city_mpg  price  \n",
       "0         Coupe           26        19  46135  \n",
       "1   Convertible           28        19  40650  \n",
       "2         Coupe           28        20  36350  \n",
       "3         Coupe           28        18  29450  \n",
       "4   Convertible           28        18  34500  "
      ]
     },
     "execution_count": 115,
     "metadata": {},
     "output_type": "execute_result"
    }
   ],
   "source": [
    "# Fill missing values with 0\n",
    "df_selected.fillna(0, inplace=True)\n",
    "\n",
    "# Rename 'MSRP' variable to 'price'\n",
    "df_selected.rename(columns={'msrp': 'price'}, inplace=True)\n",
    "\n",
    "# Display the updated DataFrame\n",
    "df_selected.head()"
   ]
  },
  {
   "cell_type": "markdown",
   "id": "05708fa4",
   "metadata": {},
   "source": [
    "### Question 1\n",
    "\n",
    "What is the most frequent observation (mode) for the column `transmission_type`?\n",
    "\n",
    "- `AUTOMATIC`\n",
    "- `MANUAL`\n",
    "- `AUTOMATED_MANUAL`\n",
    "- `DIRECT_DRIVE`"
   ]
  },
  {
   "cell_type": "code",
   "execution_count": 19,
   "id": "6992a960",
   "metadata": {
    "ExecuteTime": {
     "end_time": "2023-10-02T11:51:45.552856Z",
     "start_time": "2023-10-02T11:51:45.543033Z"
    }
   },
   "outputs": [
    {
     "data": {
      "text/plain": [
       "AUTOMATIC           8266\n",
       "MANUAL              2935\n",
       "AUTOMATED_MANUAL     626\n",
       "DIRECT_DRIVE          68\n",
       "UNKNOWN               19\n",
       "Name: transmission_type, dtype: int64"
      ]
     },
     "execution_count": 19,
     "metadata": {},
     "output_type": "execute_result"
    }
   ],
   "source": [
    "df_selected['transmission_type'].value_counts()"
   ]
  },
  {
   "cell_type": "code",
   "execution_count": 20,
   "id": "f37377a5",
   "metadata": {
    "ExecuteTime": {
     "end_time": "2023-10-02T11:51:56.185645Z",
     "start_time": "2023-10-02T11:51:56.179078Z"
    }
   },
   "outputs": [
    {
     "data": {
      "text/plain": [
       "0    AUTOMATIC\n",
       "dtype: object"
      ]
     },
     "execution_count": 20,
     "metadata": {},
     "output_type": "execute_result"
    }
   ],
   "source": [
    "df_selected['transmission_type'].mode()"
   ]
  },
  {
   "cell_type": "markdown",
   "id": "df52721d",
   "metadata": {},
   "source": [
    "### Question 2\n",
    "\n",
    "Create the [correlation matrix](https://www.google.com/search?q=correlation+matrix) for the numerical features of your dataset. \n",
    "In a correlation matrix, you compute the correlation coefficient between every pair of features in the dataset.\n",
    "\n",
    "What are the two features that have the biggest correlation in this dataset?\n",
    "\n",
    "- `engine_hp` and `year`\n",
    "- `engine_hp` and `engine_cylinders`\n",
    "- `highway_mpg` and `engine_cylinders`\n",
    "- `highway_mpg` and `city_mpg`\n",
    "\n",
    "\n"
   ]
  },
  {
   "cell_type": "code",
   "execution_count": 35,
   "id": "1df4f0f3",
   "metadata": {
    "ExecuteTime": {
     "end_time": "2023-10-02T12:03:43.505284Z",
     "start_time": "2023-10-02T12:03:43.491720Z"
    },
    "scrolled": true
   },
   "outputs": [
    {
     "name": "stdout",
     "output_type": "stream",
     "text": [
      "Correlation Matrix:\n"
     ]
    },
    {
     "data": {
      "text/html": [
       "<div>\n",
       "<style scoped>\n",
       "    .dataframe tbody tr th:only-of-type {\n",
       "        vertical-align: middle;\n",
       "    }\n",
       "\n",
       "    .dataframe tbody tr th {\n",
       "        vertical-align: top;\n",
       "    }\n",
       "\n",
       "    .dataframe thead th {\n",
       "        text-align: right;\n",
       "    }\n",
       "</style>\n",
       "<table border=\"1\" class=\"dataframe\">\n",
       "  <thead>\n",
       "    <tr style=\"text-align: right;\">\n",
       "      <th></th>\n",
       "      <th>year</th>\n",
       "      <th>engine_hp</th>\n",
       "      <th>engine_cylinders</th>\n",
       "      <th>highway_mpg</th>\n",
       "      <th>city_mpg</th>\n",
       "      <th>price</th>\n",
       "    </tr>\n",
       "  </thead>\n",
       "  <tbody>\n",
       "    <tr>\n",
       "      <th>year</th>\n",
       "      <td>1.000000</td>\n",
       "      <td>0.338714</td>\n",
       "      <td>-0.040708</td>\n",
       "      <td>0.258240</td>\n",
       "      <td>0.198171</td>\n",
       "      <td>0.227590</td>\n",
       "    </tr>\n",
       "    <tr>\n",
       "      <th>engine_hp</th>\n",
       "      <td>0.338714</td>\n",
       "      <td>1.000000</td>\n",
       "      <td>0.774851</td>\n",
       "      <td>-0.415707</td>\n",
       "      <td>-0.424918</td>\n",
       "      <td>0.650095</td>\n",
       "    </tr>\n",
       "    <tr>\n",
       "      <th>engine_cylinders</th>\n",
       "      <td>-0.040708</td>\n",
       "      <td>0.774851</td>\n",
       "      <td>1.000000</td>\n",
       "      <td>-0.614541</td>\n",
       "      <td>-0.587306</td>\n",
       "      <td>0.526274</td>\n",
       "    </tr>\n",
       "    <tr>\n",
       "      <th>highway_mpg</th>\n",
       "      <td>0.258240</td>\n",
       "      <td>-0.415707</td>\n",
       "      <td>-0.614541</td>\n",
       "      <td>1.000000</td>\n",
       "      <td>0.886829</td>\n",
       "      <td>-0.160043</td>\n",
       "    </tr>\n",
       "    <tr>\n",
       "      <th>city_mpg</th>\n",
       "      <td>0.198171</td>\n",
       "      <td>-0.424918</td>\n",
       "      <td>-0.587306</td>\n",
       "      <td>0.886829</td>\n",
       "      <td>1.000000</td>\n",
       "      <td>-0.157676</td>\n",
       "    </tr>\n",
       "    <tr>\n",
       "      <th>price</th>\n",
       "      <td>0.227590</td>\n",
       "      <td>0.650095</td>\n",
       "      <td>0.526274</td>\n",
       "      <td>-0.160043</td>\n",
       "      <td>-0.157676</td>\n",
       "      <td>1.000000</td>\n",
       "    </tr>\n",
       "  </tbody>\n",
       "</table>\n",
       "</div>"
      ],
      "text/plain": [
       "                      year  engine_hp  engine_cylinders  highway_mpg  \\\n",
       "year              1.000000   0.338714         -0.040708     0.258240   \n",
       "engine_hp         0.338714   1.000000          0.774851    -0.415707   \n",
       "engine_cylinders -0.040708   0.774851          1.000000    -0.614541   \n",
       "highway_mpg       0.258240  -0.415707         -0.614541     1.000000   \n",
       "city_mpg          0.198171  -0.424918         -0.587306     0.886829   \n",
       "price             0.227590   0.650095          0.526274    -0.160043   \n",
       "\n",
       "                  city_mpg     price  \n",
       "year              0.198171  0.227590  \n",
       "engine_hp        -0.424918  0.650095  \n",
       "engine_cylinders -0.587306  0.526274  \n",
       "highway_mpg       0.886829 -0.160043  \n",
       "city_mpg          1.000000 -0.157676  \n",
       "price            -0.157676  1.000000  "
      ]
     },
     "execution_count": 35,
     "metadata": {},
     "output_type": "execute_result"
    }
   ],
   "source": [
    "# Calculate the correlation matrix\n",
    "correlation_matrix = df_selected.corr()\n",
    "\n",
    "# Print the correlation matrix\n",
    "print(\"Correlation Matrix:\")\n",
    "correlation_matrix"
   ]
  },
  {
   "cell_type": "code",
   "execution_count": 29,
   "id": "25e18b19",
   "metadata": {
    "ExecuteTime": {
     "end_time": "2023-10-02T12:02:37.943588Z",
     "start_time": "2023-10-02T12:02:37.934602Z"
    }
   },
   "outputs": [
    {
     "data": {
      "text/plain": [
       "year              year                1.000000\n",
       "engine_hp         engine_hp           1.000000\n",
       "city_mpg          city_mpg            1.000000\n",
       "highway_mpg       highway_mpg         1.000000\n",
       "engine_cylinders  engine_cylinders    1.000000\n",
       "price             price               1.000000\n",
       "highway_mpg       city_mpg            0.886829\n",
       "city_mpg          highway_mpg         0.886829\n",
       "engine_hp         engine_cylinders    0.774851\n",
       "engine_cylinders  engine_hp           0.774851\n",
       "engine_hp         price               0.650095\n",
       "price             engine_hp           0.650095\n",
       "engine_cylinders  highway_mpg         0.614541\n",
       "highway_mpg       engine_cylinders    0.614541\n",
       "engine_cylinders  city_mpg            0.587306\n",
       "city_mpg          engine_cylinders    0.587306\n",
       "engine_cylinders  price               0.526274\n",
       "price             engine_cylinders    0.526274\n",
       "city_mpg          engine_hp           0.424918\n",
       "engine_hp         city_mpg            0.424918\n",
       "highway_mpg       engine_hp           0.415707\n",
       "engine_hp         highway_mpg         0.415707\n",
       "year              engine_hp           0.338714\n",
       "engine_hp         year                0.338714\n",
       "year              highway_mpg         0.258240\n",
       "highway_mpg       year                0.258240\n",
       "year              price               0.227590\n",
       "price             year                0.227590\n",
       "city_mpg          year                0.198171\n",
       "year              city_mpg            0.198171\n",
       "highway_mpg       price               0.160043\n",
       "price             highway_mpg         0.160043\n",
       "city_mpg          price               0.157676\n",
       "price             city_mpg            0.157676\n",
       "year              engine_cylinders    0.040708\n",
       "engine_cylinders  year                0.040708\n",
       "dtype: float64"
      ]
     },
     "execution_count": 29,
     "metadata": {},
     "output_type": "execute_result"
    }
   ],
   "source": [
    "correlation_matrix.abs().unstack().sort_values(ascending=False)"
   ]
  },
  {
   "cell_type": "code",
   "execution_count": 36,
   "id": "1060ce54",
   "metadata": {
    "ExecuteTime": {
     "end_time": "2023-10-02T12:03:48.650940Z",
     "start_time": "2023-10-02T12:03:48.641012Z"
    }
   },
   "outputs": [
    {
     "name": "stdout",
     "output_type": "stream",
     "text": [
      "\n",
      "The two features with the biggest correlation:\n"
     ]
    },
    {
     "data": {
      "text/plain": [
       "highway_mpg  city_mpg       0.886829\n",
       "city_mpg     highway_mpg    0.886829\n",
       "dtype: float64"
      ]
     },
     "execution_count": 36,
     "metadata": {},
     "output_type": "execute_result"
    }
   ],
   "source": [
    "# Find the two features with the biggest correlation\n",
    "max_corr = correlation_matrix.abs().unstack().sort_values(ascending=False)\n",
    "print(\"\\nThe two features with the biggest correlation:\")\n",
    "max_corr[max_corr < 1].head(2)"
   ]
  },
  {
   "cell_type": "markdown",
   "id": "e1491003",
   "metadata": {},
   "source": [
    "### Make `price` binary\n",
    "\n",
    "* Now we need to turn the `price` variable from numeric into a binary format.\n",
    "* Let's create a variable `above_average` which is `1` if the `price` is above its mean value and `0` otherwise.\n",
    "\n"
   ]
  },
  {
   "cell_type": "code",
   "execution_count": 39,
   "id": "47f151f3",
   "metadata": {
    "ExecuteTime": {
     "end_time": "2023-10-02T16:03:22.716014Z",
     "start_time": "2023-10-02T16:03:22.709891Z"
    }
   },
   "outputs": [
    {
     "data": {
      "text/plain": [
       "40594.737032063116"
      ]
     },
     "execution_count": 39,
     "metadata": {},
     "output_type": "execute_result"
    }
   ],
   "source": [
    "df_selected['price'].mean()"
   ]
  },
  {
   "cell_type": "code",
   "execution_count": 117,
   "id": "835c1898",
   "metadata": {
    "ExecuteTime": {
     "end_time": "2023-10-02T18:23:17.584677Z",
     "start_time": "2023-10-02T18:23:17.566085Z"
    }
   },
   "outputs": [
    {
     "data": {
      "text/html": [
       "<div>\n",
       "<style scoped>\n",
       "    .dataframe tbody tr th:only-of-type {\n",
       "        vertical-align: middle;\n",
       "    }\n",
       "\n",
       "    .dataframe tbody tr th {\n",
       "        vertical-align: top;\n",
       "    }\n",
       "\n",
       "    .dataframe thead th {\n",
       "        text-align: right;\n",
       "    }\n",
       "</style>\n",
       "<table border=\"1\" class=\"dataframe\">\n",
       "  <thead>\n",
       "    <tr style=\"text-align: right;\">\n",
       "      <th></th>\n",
       "      <th>make</th>\n",
       "      <th>model</th>\n",
       "      <th>year</th>\n",
       "      <th>engine_hp</th>\n",
       "      <th>engine_cylinders</th>\n",
       "      <th>transmission_type</th>\n",
       "      <th>vehicle_style</th>\n",
       "      <th>highway_mpg</th>\n",
       "      <th>city_mpg</th>\n",
       "      <th>price</th>\n",
       "      <th>above_average</th>\n",
       "    </tr>\n",
       "  </thead>\n",
       "  <tbody>\n",
       "    <tr>\n",
       "      <th>0</th>\n",
       "      <td>BMW</td>\n",
       "      <td>1 Series M</td>\n",
       "      <td>2011</td>\n",
       "      <td>335.0</td>\n",
       "      <td>6.0</td>\n",
       "      <td>MANUAL</td>\n",
       "      <td>Coupe</td>\n",
       "      <td>26</td>\n",
       "      <td>19</td>\n",
       "      <td>46135</td>\n",
       "      <td>1</td>\n",
       "    </tr>\n",
       "    <tr>\n",
       "      <th>1</th>\n",
       "      <td>BMW</td>\n",
       "      <td>1 Series</td>\n",
       "      <td>2011</td>\n",
       "      <td>300.0</td>\n",
       "      <td>6.0</td>\n",
       "      <td>MANUAL</td>\n",
       "      <td>Convertible</td>\n",
       "      <td>28</td>\n",
       "      <td>19</td>\n",
       "      <td>40650</td>\n",
       "      <td>1</td>\n",
       "    </tr>\n",
       "    <tr>\n",
       "      <th>2</th>\n",
       "      <td>BMW</td>\n",
       "      <td>1 Series</td>\n",
       "      <td>2011</td>\n",
       "      <td>300.0</td>\n",
       "      <td>6.0</td>\n",
       "      <td>MANUAL</td>\n",
       "      <td>Coupe</td>\n",
       "      <td>28</td>\n",
       "      <td>20</td>\n",
       "      <td>36350</td>\n",
       "      <td>0</td>\n",
       "    </tr>\n",
       "    <tr>\n",
       "      <th>3</th>\n",
       "      <td>BMW</td>\n",
       "      <td>1 Series</td>\n",
       "      <td>2011</td>\n",
       "      <td>230.0</td>\n",
       "      <td>6.0</td>\n",
       "      <td>MANUAL</td>\n",
       "      <td>Coupe</td>\n",
       "      <td>28</td>\n",
       "      <td>18</td>\n",
       "      <td>29450</td>\n",
       "      <td>0</td>\n",
       "    </tr>\n",
       "    <tr>\n",
       "      <th>4</th>\n",
       "      <td>BMW</td>\n",
       "      <td>1 Series</td>\n",
       "      <td>2011</td>\n",
       "      <td>230.0</td>\n",
       "      <td>6.0</td>\n",
       "      <td>MANUAL</td>\n",
       "      <td>Convertible</td>\n",
       "      <td>28</td>\n",
       "      <td>18</td>\n",
       "      <td>34500</td>\n",
       "      <td>0</td>\n",
       "    </tr>\n",
       "  </tbody>\n",
       "</table>\n",
       "</div>"
      ],
      "text/plain": [
       "  make       model  year  engine_hp  engine_cylinders transmission_type  \\\n",
       "0  BMW  1 Series M  2011      335.0               6.0            MANUAL   \n",
       "1  BMW    1 Series  2011      300.0               6.0            MANUAL   \n",
       "2  BMW    1 Series  2011      300.0               6.0            MANUAL   \n",
       "3  BMW    1 Series  2011      230.0               6.0            MANUAL   \n",
       "4  BMW    1 Series  2011      230.0               6.0            MANUAL   \n",
       "\n",
       "  vehicle_style  highway_mpg  city_mpg  price  above_average  \n",
       "0         Coupe           26        19  46135              1  \n",
       "1   Convertible           28        19  40650              1  \n",
       "2         Coupe           28        20  36350              0  \n",
       "3         Coupe           28        18  29450              0  \n",
       "4   Convertible           28        18  34500              0  "
      ]
     },
     "execution_count": 117,
     "metadata": {},
     "output_type": "execute_result"
    }
   ],
   "source": [
    "# Calculate the mean of the 'price' variable\n",
    "mean_price = df_selected['price'].mean()\n",
    "\n",
    "# Create a new column 'above_average' with binary values\n",
    "df_selected['above_average'] = df_selected['price'].apply(lambda x: 1 if x > mean_price else 0)\n",
    "\n",
    "# Display the updated DataFrame\n",
    "df_selected.head()"
   ]
  },
  {
   "cell_type": "markdown",
   "id": "d5600bdb",
   "metadata": {},
   "source": [
    "### Split the data\n",
    "\n",
    "* Split your data in train/val/test sets with 60%/20%/20% distribution.\n",
    "* Use Scikit-Learn for that (the `train_test_split` function) and set the seed to `42`.\n",
    "* Make sure that the target value (`above_average`) is not in your dataframe."
   ]
  },
  {
   "cell_type": "code",
   "execution_count": 132,
   "id": "995bd374",
   "metadata": {
    "ExecuteTime": {
     "end_time": "2023-10-03T09:47:25.991268Z",
     "start_time": "2023-10-03T09:47:25.759491Z"
    }
   },
   "outputs": [
    {
     "name": "stdout",
     "output_type": "stream",
     "text": [
      "Train set shape: (7148, 9) (7148,)\n",
      "Validation set shape: (2383, 9) (2383,)\n",
      "Test set shape: (2383, 9) (2383,)\n"
     ]
    }
   ],
   "source": [
    "from sklearn.model_selection import train_test_split\n",
    "\n",
    "# Separate features (X) from the target (y)\n",
    "X = df_selected.drop(columns=['above_average','price'])  # Features\n",
    "y = df_selected['above_average']  # Target\n",
    "\n",
    "# Split the data into train, validation, and test sets\n",
    "# Use a 60%/20%/20% distribution and set the random seed to 42 for reproducibility\n",
    "X_train, X_temp, y_train, y_temp = train_test_split(X, y, test_size=0.4, random_state=42)\n",
    "X_val, X_test, y_val, y_test = train_test_split(X_temp, y_temp, test_size=0.5, random_state=42)\n",
    "\n",
    "# Display the shapes of the resulting sets\n",
    "print(\"Train set shape:\", X_train.shape, y_train.shape)\n",
    "print(\"Validation set shape:\", X_val.shape, y_val.shape)\n",
    "print(\"Test set shape:\", X_test.shape, y_test.shape)"
   ]
  },
  {
   "cell_type": "code",
   "execution_count": 57,
   "id": "df341304",
   "metadata": {
    "ExecuteTime": {
     "end_time": "2023-10-02T17:14:57.080370Z",
     "start_time": "2023-10-02T17:14:57.068859Z"
    }
   },
   "outputs": [
    {
     "data": {
      "text/html": [
       "<div>\n",
       "<style scoped>\n",
       "    .dataframe tbody tr th:only-of-type {\n",
       "        vertical-align: middle;\n",
       "    }\n",
       "\n",
       "    .dataframe tbody tr th {\n",
       "        vertical-align: top;\n",
       "    }\n",
       "\n",
       "    .dataframe thead th {\n",
       "        text-align: right;\n",
       "    }\n",
       "</style>\n",
       "<table border=\"1\" class=\"dataframe\">\n",
       "  <thead>\n",
       "    <tr style=\"text-align: right;\">\n",
       "      <th></th>\n",
       "      <th>make</th>\n",
       "      <th>model</th>\n",
       "      <th>year</th>\n",
       "      <th>engine_hp</th>\n",
       "      <th>engine_cylinders</th>\n",
       "      <th>transmission_type</th>\n",
       "      <th>vehicle_style</th>\n",
       "      <th>highway_mpg</th>\n",
       "      <th>city_mpg</th>\n",
       "    </tr>\n",
       "  </thead>\n",
       "  <tbody>\n",
       "    <tr>\n",
       "      <th>0</th>\n",
       "      <td>BMW</td>\n",
       "      <td>1 Series M</td>\n",
       "      <td>2011</td>\n",
       "      <td>335.0</td>\n",
       "      <td>6.0</td>\n",
       "      <td>MANUAL</td>\n",
       "      <td>Coupe</td>\n",
       "      <td>26</td>\n",
       "      <td>19</td>\n",
       "    </tr>\n",
       "    <tr>\n",
       "      <th>1</th>\n",
       "      <td>BMW</td>\n",
       "      <td>1 Series</td>\n",
       "      <td>2011</td>\n",
       "      <td>300.0</td>\n",
       "      <td>6.0</td>\n",
       "      <td>MANUAL</td>\n",
       "      <td>Convertible</td>\n",
       "      <td>28</td>\n",
       "      <td>19</td>\n",
       "    </tr>\n",
       "  </tbody>\n",
       "</table>\n",
       "</div>"
      ],
      "text/plain": [
       "  make       model  year  engine_hp  engine_cylinders transmission_type  \\\n",
       "0  BMW  1 Series M  2011      335.0               6.0            MANUAL   \n",
       "1  BMW    1 Series  2011      300.0               6.0            MANUAL   \n",
       "\n",
       "  vehicle_style  highway_mpg  city_mpg  \n",
       "0         Coupe           26        19  \n",
       "1   Convertible           28        19  "
      ]
     },
     "execution_count": 57,
     "metadata": {},
     "output_type": "execute_result"
    }
   ],
   "source": [
    "X.head(2)"
   ]
  },
  {
   "cell_type": "code",
   "execution_count": 43,
   "id": "7c131085",
   "metadata": {
    "ExecuteTime": {
     "end_time": "2023-10-02T16:05:06.026188Z",
     "start_time": "2023-10-02T16:05:06.018065Z"
    }
   },
   "outputs": [
    {
     "data": {
      "text/plain": [
       "0    1\n",
       "1    1\n",
       "Name: above_average, dtype: int64"
      ]
     },
     "execution_count": 43,
     "metadata": {},
     "output_type": "execute_result"
    }
   ],
   "source": [
    "y.head(2)"
   ]
  },
  {
   "cell_type": "markdown",
   "id": "512d6f0c",
   "metadata": {},
   "source": [
    "### Question 3\n",
    "\n",
    "* Calculate the mutual information score between `above_average` and other categorical variables in our dataset. \n",
    "  Use the training set only.\n",
    "* Round the scores to 2 decimals using `round(score, 2)`.\n",
    "\n",
    "Which of these variables has the lowest mutual information score?\n",
    "  \n",
    "- `make`\n",
    "- `model`\n",
    "- `transmission_type`\n",
    "- `vehicle_style`"
   ]
  },
  {
   "cell_type": "code",
   "execution_count": 133,
   "id": "37bd7d4a",
   "metadata": {
    "ExecuteTime": {
     "end_time": "2023-10-03T09:47:32.368735Z",
     "start_time": "2023-10-03T09:47:32.325614Z"
    }
   },
   "outputs": [
    {
     "data": {
      "text/plain": [
       "0.23528465531020354"
      ]
     },
     "execution_count": 133,
     "metadata": {},
     "output_type": "execute_result"
    }
   ],
   "source": [
    "mutual_info_score(X_train['make'], y_train)"
   ]
  },
  {
   "cell_type": "code",
   "execution_count": 134,
   "id": "5520dbf7",
   "metadata": {
    "ExecuteTime": {
     "end_time": "2023-10-03T09:47:50.065988Z",
     "start_time": "2023-10-03T09:47:50.022800Z"
    }
   },
   "outputs": [
    {
     "data": {
      "text/html": [
       "<div>\n",
       "<style scoped>\n",
       "    .dataframe tbody tr th:only-of-type {\n",
       "        vertical-align: middle;\n",
       "    }\n",
       "\n",
       "    .dataframe tbody tr th {\n",
       "        vertical-align: top;\n",
       "    }\n",
       "\n",
       "    .dataframe thead th {\n",
       "        text-align: right;\n",
       "    }\n",
       "</style>\n",
       "<table border=\"1\" class=\"dataframe\">\n",
       "  <thead>\n",
       "    <tr style=\"text-align: right;\">\n",
       "      <th></th>\n",
       "      <th>make</th>\n",
       "      <th>model</th>\n",
       "      <th>year</th>\n",
       "      <th>engine_hp</th>\n",
       "      <th>engine_cylinders</th>\n",
       "      <th>transmission_type</th>\n",
       "      <th>vehicle_style</th>\n",
       "      <th>highway_mpg</th>\n",
       "      <th>city_mpg</th>\n",
       "    </tr>\n",
       "  </thead>\n",
       "  <tbody>\n",
       "    <tr>\n",
       "      <th>4949</th>\n",
       "      <td>Nissan</td>\n",
       "      <td>Frontier</td>\n",
       "      <td>2015</td>\n",
       "      <td>261.0</td>\n",
       "      <td>6.0</td>\n",
       "      <td>AUTOMATIC</td>\n",
       "      <td>Crew Cab Pickup</td>\n",
       "      <td>21</td>\n",
       "      <td>15</td>\n",
       "    </tr>\n",
       "    <tr>\n",
       "      <th>579</th>\n",
       "      <td>FIAT</td>\n",
       "      <td>500L</td>\n",
       "      <td>2016</td>\n",
       "      <td>160.0</td>\n",
       "      <td>4.0</td>\n",
       "      <td>MANUAL</td>\n",
       "      <td>Wagon</td>\n",
       "      <td>33</td>\n",
       "      <td>25</td>\n",
       "    </tr>\n",
       "    <tr>\n",
       "      <th>8364</th>\n",
       "      <td>Ford</td>\n",
       "      <td>Ranger</td>\n",
       "      <td>2011</td>\n",
       "      <td>207.0</td>\n",
       "      <td>6.0</td>\n",
       "      <td>MANUAL</td>\n",
       "      <td>Extended Cab Pickup</td>\n",
       "      <td>21</td>\n",
       "      <td>16</td>\n",
       "    </tr>\n",
       "    <tr>\n",
       "      <th>8775</th>\n",
       "      <td>Chevrolet</td>\n",
       "      <td>S-10</td>\n",
       "      <td>2003</td>\n",
       "      <td>120.0</td>\n",
       "      <td>4.0</td>\n",
       "      <td>MANUAL</td>\n",
       "      <td>Extended Cab Pickup</td>\n",
       "      <td>25</td>\n",
       "      <td>19</td>\n",
       "    </tr>\n",
       "    <tr>\n",
       "      <th>7370</th>\n",
       "      <td>Mitsubishi</td>\n",
       "      <td>Outlander Sport</td>\n",
       "      <td>2016</td>\n",
       "      <td>168.0</td>\n",
       "      <td>4.0</td>\n",
       "      <td>AUTOMATIC</td>\n",
       "      <td>4dr SUV</td>\n",
       "      <td>27</td>\n",
       "      <td>22</td>\n",
       "    </tr>\n",
       "    <tr>\n",
       "      <th>...</th>\n",
       "      <td>...</td>\n",
       "      <td>...</td>\n",
       "      <td>...</td>\n",
       "      <td>...</td>\n",
       "      <td>...</td>\n",
       "      <td>...</td>\n",
       "      <td>...</td>\n",
       "      <td>...</td>\n",
       "      <td>...</td>\n",
       "    </tr>\n",
       "    <tr>\n",
       "      <th>11284</th>\n",
       "      <td>Toyota</td>\n",
       "      <td>Venza</td>\n",
       "      <td>2014</td>\n",
       "      <td>181.0</td>\n",
       "      <td>4.0</td>\n",
       "      <td>AUTOMATIC</td>\n",
       "      <td>Wagon</td>\n",
       "      <td>26</td>\n",
       "      <td>20</td>\n",
       "    </tr>\n",
       "    <tr>\n",
       "      <th>5191</th>\n",
       "      <td>Pontiac</td>\n",
       "      <td>G6</td>\n",
       "      <td>2009</td>\n",
       "      <td>219.0</td>\n",
       "      <td>6.0</td>\n",
       "      <td>AUTOMATIC</td>\n",
       "      <td>Sedan</td>\n",
       "      <td>26</td>\n",
       "      <td>17</td>\n",
       "    </tr>\n",
       "    <tr>\n",
       "      <th>5390</th>\n",
       "      <td>Volkswagen</td>\n",
       "      <td>Golf GTI</td>\n",
       "      <td>2016</td>\n",
       "      <td>220.0</td>\n",
       "      <td>4.0</td>\n",
       "      <td>AUTOMATED_MANUAL</td>\n",
       "      <td>2dr Hatchback</td>\n",
       "      <td>33</td>\n",
       "      <td>25</td>\n",
       "    </tr>\n",
       "    <tr>\n",
       "      <th>860</th>\n",
       "      <td>Saab</td>\n",
       "      <td>9-5</td>\n",
       "      <td>2009</td>\n",
       "      <td>260.0</td>\n",
       "      <td>4.0</td>\n",
       "      <td>AUTOMATIC</td>\n",
       "      <td>Wagon</td>\n",
       "      <td>27</td>\n",
       "      <td>17</td>\n",
       "    </tr>\n",
       "    <tr>\n",
       "      <th>7270</th>\n",
       "      <td>Lexus</td>\n",
       "      <td>NX 200t</td>\n",
       "      <td>2015</td>\n",
       "      <td>235.0</td>\n",
       "      <td>4.0</td>\n",
       "      <td>AUTOMATIC</td>\n",
       "      <td>4dr SUV</td>\n",
       "      <td>28</td>\n",
       "      <td>21</td>\n",
       "    </tr>\n",
       "  </tbody>\n",
       "</table>\n",
       "<p>7148 rows × 9 columns</p>\n",
       "</div>"
      ],
      "text/plain": [
       "             make            model  year  engine_hp  engine_cylinders  \\\n",
       "4949       Nissan         Frontier  2015      261.0               6.0   \n",
       "579          FIAT             500L  2016      160.0               4.0   \n",
       "8364         Ford           Ranger  2011      207.0               6.0   \n",
       "8775    Chevrolet             S-10  2003      120.0               4.0   \n",
       "7370   Mitsubishi  Outlander Sport  2016      168.0               4.0   \n",
       "...           ...              ...   ...        ...               ...   \n",
       "11284      Toyota            Venza  2014      181.0               4.0   \n",
       "5191      Pontiac               G6  2009      219.0               6.0   \n",
       "5390   Volkswagen         Golf GTI  2016      220.0               4.0   \n",
       "860          Saab              9-5  2009      260.0               4.0   \n",
       "7270        Lexus          NX 200t  2015      235.0               4.0   \n",
       "\n",
       "      transmission_type        vehicle_style  highway_mpg  city_mpg  \n",
       "4949          AUTOMATIC      Crew Cab Pickup           21        15  \n",
       "579              MANUAL                Wagon           33        25  \n",
       "8364             MANUAL  Extended Cab Pickup           21        16  \n",
       "8775             MANUAL  Extended Cab Pickup           25        19  \n",
       "7370          AUTOMATIC              4dr SUV           27        22  \n",
       "...                 ...                  ...          ...       ...  \n",
       "11284         AUTOMATIC                Wagon           26        20  \n",
       "5191          AUTOMATIC                Sedan           26        17  \n",
       "5390   AUTOMATED_MANUAL        2dr Hatchback           33        25  \n",
       "860           AUTOMATIC                Wagon           27        17  \n",
       "7270          AUTOMATIC              4dr SUV           28        21  \n",
       "\n",
       "[7148 rows x 9 columns]"
      ]
     },
     "execution_count": 134,
     "metadata": {},
     "output_type": "execute_result"
    }
   ],
   "source": [
    "X_train"
   ]
  },
  {
   "cell_type": "code",
   "execution_count": 135,
   "id": "5c51c671",
   "metadata": {
    "ExecuteTime": {
     "end_time": "2023-10-03T09:48:04.333354Z",
     "start_time": "2023-10-03T09:48:04.298441Z"
    }
   },
   "outputs": [
    {
     "name": "stdout",
     "output_type": "stream",
     "text": [
      "Mutual Information score for make: 0.24\n",
      "Mutual Information score for model: 0.46\n",
      "Mutual Information score for transmission_type: 0.02\n",
      "Mutual Information score for vehicle_style: 0.08\n",
      "\n",
      "The variable with the lowest mutual information score: transmission_type\n"
     ]
    }
   ],
   "source": [
    "from sklearn.metrics import mutual_info_score\n",
    "\n",
    "# Categorical variables to calculate mutual information for\n",
    "categorical_vars = ['make', 'model', 'transmission_type', 'vehicle_style']\n",
    "\n",
    "# Dictionary to store mutual information scores for each variable\n",
    "mi_scores_dict = {}\n",
    "\n",
    "# Calculate mutual information scores using the training set\n",
    "for var in categorical_vars:\n",
    "    mi_score = mutual_info_score(X_train[var], y_train)\n",
    "    mi_scores_dict[var] = round(mi_score, 2)\n",
    "\n",
    "# Print the mutual information scores for each variable\n",
    "for var, score in mi_scores_dict.items():\n",
    "    print(f\"Mutual Information score for {var}: {score}\")\n",
    "\n",
    "# Find the variable with the lowest mutual information score\n",
    "lowest_mi_variable = min(mi_scores_dict, key=mi_scores_dict.get)\n",
    "print(f\"\\nThe variable with the lowest mutual information score: {lowest_mi_variable}\")\n"
   ]
  },
  {
   "cell_type": "code",
   "execution_count": 119,
   "id": "cb247a2d",
   "metadata": {
    "ExecuteTime": {
     "end_time": "2023-10-02T18:23:22.380737Z",
     "start_time": "2023-10-02T18:23:22.368057Z"
    }
   },
   "outputs": [],
   "source": [
    "# from sklearn.preprocessing import LabelEncoder\n",
    "# from sklearn.feature_selection import mutual_info_classif\n",
    "\n",
    "# # Categorical variables for which we want to calculate mutual information\n",
    "# categorical_vars = ['make', 'model', 'transmission_type', 'vehicle_style']\n",
    "\n",
    "# # Initialize LabelEncoder\n",
    "# label_encoder = LabelEncoder()\n",
    "\n",
    "# # Label encode the categorical variables in the training set\n",
    "# X_train_encoded = X_train[categorical_vars].apply(label_encoder.fit_transform)\n",
    "\n",
    "# # Calculate mutual information scores using the training set\n",
    "# mi_scores = mutual_info_classif(X_train_encoded, y_train, discrete_features=True, random_state=42)\n",
    "\n",
    "# # Create a dictionary to store variable -> mutual information score\n",
    "# mi_scores_dict = dict(zip(categorical_vars, mi_scores))\n",
    "\n",
    "# # Print the mutual information scores for each variable, rounded to 2 decimals\n",
    "# for var, score in mi_scores_dict.items():\n",
    "#     print(f\"Mutual Information score for {var}: {round(score, 2)}\")\n",
    "\n",
    "# # Find the variable with the lowest mutual information score\n",
    "# lowest_mi_variable = min(mi_scores_dict, key=mi_scores_dict.get)\n",
    "# print(f\"\\nThe variable with the lowest mutual information score: {lowest_mi_variable}\")"
   ]
  },
  {
   "cell_type": "markdown",
   "id": "47539d42",
   "metadata": {},
   "source": [
    "### Question 4\n",
    "\n",
    "* Now let's train a logistic regression.\n",
    "* Remember that we have several categorical variables in the dataset. Include them using one-hot encoding.\n",
    "* Fit the model on the training dataset.\n",
    "    - To make sure the results are reproducible across different versions of Scikit-Learn, fit the model with these parameters:\n",
    "    - `model = LogisticRegression(solver='liblinear', C=10, max_iter=1000, random_state=42)`\n",
    "* Calculate the accuracy on the validation dataset and round it to 2 decimal digits.\n",
    "\n",
    "What accuracy did you get?\n",
    "\n",
    "- 0.60\n",
    "- 0.72\n",
    "- 0.84\n",
    "- 0.95"
   ]
  },
  {
   "cell_type": "code",
   "execution_count": 121,
   "id": "3686f688",
   "metadata": {
    "ExecuteTime": {
     "end_time": "2023-10-02T18:23:25.473165Z",
     "start_time": "2023-10-02T18:23:25.311485Z"
    }
   },
   "outputs": [
    {
     "name": "stdout",
     "output_type": "stream",
     "text": [
      "Accuracy on the validation dataset: 0.94\n"
     ]
    }
   ],
   "source": [
    "from sklearn.linear_model import LogisticRegression\n",
    "from sklearn.preprocessing import OneHotEncoder\n",
    "from sklearn.compose import ColumnTransformer\n",
    "from sklearn.pipeline import Pipeline\n",
    "from sklearn.metrics import accuracy_score\n",
    "\n",
    "# Categorical variables for one-hot encoding\n",
    "categorical_vars = ['make', 'model', 'transmission_type', 'vehicle_style']\n",
    "\n",
    "# Create the logistic regression model with specified parameters\n",
    "model = LogisticRegression(solver='liblinear', C=10, max_iter=1000, random_state=42)\n",
    "\n",
    "# Create a ColumnTransformer to apply OneHotEncoder to specified columns\n",
    "preprocessor = ColumnTransformer(\n",
    "    transformers=[\n",
    "        ('onehot', OneHotEncoder(handle_unknown='ignore', sparse=False), categorical_vars)],\n",
    "    remainder='passthrough'\n",
    ")\n",
    "\n",
    "# Update the pipeline to use the preprocessor\n",
    "pipeline = Pipeline([\n",
    "    ('preprocessor', preprocessor),\n",
    "    ('model', model)\n",
    "])\n",
    "\n",
    "# Fit the model on the training dataset\n",
    "pipeline.fit(X_train, y_train)\n",
    "\n",
    "# Predict on the validation dataset\n",
    "y_val_pred = pipeline.predict(X_val)\n",
    "\n",
    "# Calculate accuracy on the validation dataset\n",
    "accuracy = accuracy_score(y_val, y_val_pred)\n",
    "\n",
    "# Print the rounded accuracy\n",
    "print(\"Accuracy on the validation dataset:\", round(accuracy, 2))"
   ]
  },
  {
   "cell_type": "markdown",
   "id": "1644cf4f",
   "metadata": {},
   "source": [
    "### Question 5 \n",
    "\n",
    "* Let's find the least useful feature using the *feature elimination* technique.\n",
    "* Train a model with all these features (using the same parameters as in Q4).\n",
    "* Now exclude each feature from this set and train a model without it. Record the accuracy for each model.\n",
    "* For each feature, calculate the difference between the original accuracy and the accuracy without the feature. \n",
    "\n",
    "Which of following feature has the smallest difference?\n",
    "\n",
    "- `year`\n",
    "- `engine_hp`\n",
    "- `transmission_type`\n",
    "- `city_mpg`\n",
    "\n",
    "> **Note**: the difference doesn't have to be positive"
   ]
  },
  {
   "cell_type": "code",
   "execution_count": 93,
   "id": "6733e204",
   "metadata": {
    "ExecuteTime": {
     "end_time": "2023-10-02T17:43:45.035360Z",
     "start_time": "2023-10-02T17:43:45.030424Z"
    },
    "scrolled": true
   },
   "outputs": [
    {
     "data": {
      "text/plain": [
       "Index(['make', 'model', 'year', 'engine_hp', 'engine_cylinders',\n",
       "       'transmission_type', 'vehicle_style', 'highway_mpg', 'city_mpg'],\n",
       "      dtype='object')"
      ]
     },
     "execution_count": 93,
     "metadata": {},
     "output_type": "execute_result"
    }
   ],
   "source": [
    "X_train.columns"
   ]
  },
  {
   "cell_type": "code",
   "execution_count": 129,
   "id": "265f8844",
   "metadata": {
    "ExecuteTime": {
     "end_time": "2023-10-02T18:26:09.517383Z",
     "start_time": "2023-10-02T18:26:08.747407Z"
    }
   },
   "outputs": [
    {
     "name": "stdout",
     "output_type": "stream",
     "text": [
      "year\n",
      "accuracy all features 0.9433487201007134\n",
      "year 0.946286193873269\n",
      "\n",
      "\n",
      "engine_hp\n",
      "accuracy all features 0.9433487201007134\n",
      "engine_hp 0.9341166596726815\n",
      "\n",
      "\n",
      "transmission_type\n",
      "accuracy all features 0.9433487201007134\n",
      "transmission_type 0.9437683592110785\n",
      "\n",
      "\n",
      "city_mpg\n",
      "accuracy all features 0.9433487201007134\n",
      "city_mpg 0.9475451112043642\n",
      "\n",
      "\n",
      "Feature with the smallest difference: transmission_type\n",
      "Smallest difference: 0.00041963911036513313\n"
     ]
    }
   ],
   "source": [
    "# Features to be considered\n",
    "features = ['year', 'engine_hp', 'transmission_type', 'city_mpg']\n",
    "categorical_vars = ['make', 'model', 'transmission_type', 'vehicle_style']\n",
    "# Train a model with all features\n",
    "pipeline.fit(X_train, y_train)\n",
    "accuracy_all_features = accuracy_score(y_val, pipeline.predict(X_val))\n",
    "\n",
    "# Dictionary to store accuracy differences for each feature\n",
    "accuracy_differences = {}\n",
    "\n",
    "# Iterate through each feature and calculate accuracy difference when excluding it\n",
    "for feature in features:\n",
    "    # Exclude the feature\n",
    "    features_subset = [f for f in categorical_vars if f != feature]\n",
    "    print(feature)\n",
    "    # Create a new preprocessor without the feature\n",
    "    preprocessor_subset = ColumnTransformer(\n",
    "        transformers=[\n",
    "            ('onehot', OneHotEncoder(handle_unknown='ignore', sparse=False), \n",
    "             features_subset)],\n",
    "        remainder='passthrough'\n",
    "    )\n",
    "    \n",
    "    # Replace the preprocessor in a new pipeline\n",
    "    new_pipeline = Pipeline([\n",
    "        ('preprocessor', preprocessor_subset),\n",
    "        ('model', LogisticRegression(solver='liblinear', C=10, max_iter=1000, random_state=42))\n",
    "    ])\n",
    "    \n",
    "    X_train_subset = X_train.drop(feature, axis=1)\n",
    "    X_val_subset = X_val.drop(feature, axis=1)\n",
    "    \n",
    "    # Fit and predict with the modified pipeline\n",
    "    new_pipeline.fit(X_train_subset, y_train)\n",
    "    accuracy_without_feature = accuracy_score(y_val, new_pipeline.predict(X_val_subset))\n",
    "    print('accuracy all features', accuracy_all_features)\n",
    "    print(feature, accuracy_without_feature)\n",
    "    print()\n",
    "    print()\n",
    "    # Calculate the difference in accuracy\n",
    "    difference = np.abs(accuracy_all_features - accuracy_without_feature)\n",
    "    \n",
    "    # Store the difference for the feature\n",
    "    accuracy_differences[feature] = difference\n",
    "\n",
    "# Find the feature with the smallest difference\n",
    "smallest_difference_feature = min(accuracy_differences, key=accuracy_differences.get)\n",
    "smallest_difference = accuracy_differences[smallest_difference_feature]\n",
    "\n",
    "# Print the feature with the smallest difference and the difference itself\n",
    "print(\"Feature with the smallest difference:\", smallest_difference_feature)\n",
    "print(\"Smallest difference:\", smallest_difference)\n"
   ]
  },
  {
   "cell_type": "code",
   "execution_count": 127,
   "id": "5d2bc0e2",
   "metadata": {
    "ExecuteTime": {
     "end_time": "2023-10-02T18:24:46.591351Z",
     "start_time": "2023-10-02T18:24:46.586396Z"
    }
   },
   "outputs": [
    {
     "data": {
      "text/plain": [
       "{'year': 0.002937473772555599,\n",
       " 'engine_hp': 0.009232060428031819,\n",
       " 'transmission_type': 0.00041963911036513313,\n",
       " 'city_mpg': 0.004196391103650887}"
      ]
     },
     "execution_count": 127,
     "metadata": {},
     "output_type": "execute_result"
    }
   ],
   "source": [
    "accuracy_differences"
   ]
  },
  {
   "cell_type": "markdown",
   "id": "da18ac83",
   "metadata": {},
   "source": [
    "### Question 6\n",
    "\n",
    "* For this question, we'll see how to use a linear regression model from Scikit-Learn.\n",
    "* We'll need to use the original column `price`. Apply the logarithmic transformation to this column.\n",
    "* Fit the Ridge regression model on the training data with a solver `'sag'`. Set the seed to `42`.\n",
    "* This model also has a parameter `alpha`. Let's try the following values: `[0, 0.01, 0.1, 1, 10]`.\n",
    "* Round your RMSE scores to 3 decimal digits.\n",
    "\n",
    "Which of these alphas leads to the best RMSE on the validation set?\n",
    "\n",
    "- 0\n",
    "- 0.01\n",
    "- 0.1\n",
    "- 1\n",
    "- 10\n",
    "\n",
    "> **Note**: If there are multiple options, select the smallest `alpha`."
   ]
  },
  {
   "cell_type": "code",
   "execution_count": 100,
   "id": "c6f33b4d",
   "metadata": {
    "ExecuteTime": {
     "end_time": "2023-10-02T18:02:50.566250Z",
     "start_time": "2023-10-02T18:02:50.562920Z"
    }
   },
   "outputs": [],
   "source": [
    "from sklearn.linear_model import Ridge\n",
    "from sklearn.metrics import mean_squared_error\n",
    "import numpy as np"
   ]
  },
  {
   "cell_type": "code",
   "execution_count": 101,
   "id": "ffdf4217",
   "metadata": {
    "ExecuteTime": {
     "end_time": "2023-10-02T18:03:04.925343Z",
     "start_time": "2023-10-02T18:03:04.919611Z"
    }
   },
   "outputs": [],
   "source": [
    "# Apply logarithmic transformation to the 'price' column\n",
    "df_selected['log_price'] = np.log1p(df_selected['price'])\n",
    "\n",
    "# Separate features (X) and target (y)\n",
    "X = df_selected.drop(['above_average', 'price'], axis=1)\n",
    "y = df_selected['log_price']"
   ]
  },
  {
   "cell_type": "code",
   "execution_count": 105,
   "id": "e5fb68e1",
   "metadata": {
    "ExecuteTime": {
     "end_time": "2023-10-02T18:09:40.231711Z",
     "start_time": "2023-10-02T18:06:51.383065Z"
    }
   },
   "outputs": [
    {
     "name": "stdout",
     "output_type": "stream",
     "text": [
      "RMSE scores for different alpha values:\n",
      "{0: 0.097, 0.01: 0.097, 0.1: 0.097, 1: 0.097, 10: 0.099}\n",
      "\n",
      "Best alpha with the lowest RMSE on the validation set: 0\n",
      "RMSE with the best alpha: 0.097\n"
     ]
    }
   ],
   "source": [
    "# Split the data into training and validation sets\n",
    "X_train, X_val, y_train, y_val = train_test_split(X, y, test_size=0.2, random_state=42)\n",
    "\n",
    "# Categorical variables for one-hot encoding\n",
    "categorical_vars = ['make', 'model', 'transmission_type', 'vehicle_style']\n",
    "\n",
    "# Create a preprocessor to apply one-hot encoding to categorical variables\n",
    "preprocessor = ColumnTransformer(\n",
    "    transformers=[\n",
    "        ('onehot', OneHotEncoder(handle_unknown='ignore', sparse=False), categorical_vars)],\n",
    "    remainder='passthrough'\n",
    ")\n",
    "\n",
    "# List of alpha values to try\n",
    "alphas = [0, 0.01, 0.1, 1, 10]\n",
    "\n",
    "# Dictionary to store RMSE for each alpha\n",
    "rmse_scores = {}\n",
    "\n",
    "# Fit Ridge regression models with different alpha values\n",
    "for alpha in alphas:\n",
    "    # Create a new pipeline with the current alpha\n",
    "    pipeline = Pipeline([\n",
    "        ('preprocessor', preprocessor),\n",
    "        ('model', Ridge(alpha=alpha, solver='sag', random_state=42))\n",
    "    ])\n",
    "    \n",
    "    # Fit the model and predict on the validation set\n",
    "    pipeline.fit(X_train, y_train)\n",
    "    y_val_pred = pipeline.predict(X_val)\n",
    "    \n",
    "    # Calculate RMSE for the current alpha\n",
    "    rmse = np.sqrt(mean_squared_error(y_val, y_val_pred))\n",
    "    rmse_scores[alpha] = round(rmse, 3)\n",
    "\n",
    "# Find the alpha with the lowest RMSE\n",
    "best_alpha = min(rmse_scores, key=rmse_scores.get)\n",
    "best_rmse = rmse_scores[best_alpha]\n",
    "\n",
    "# Print the results\n",
    "print(\"RMSE scores for different alpha values:\")\n",
    "print(rmse_scores)\n",
    "print(\"\\nBest alpha with the lowest RMSE on the validation set:\", best_alpha)\n",
    "print(\"RMSE with the best alpha:\", best_rmse)"
   ]
  },
  {
   "cell_type": "markdown",
   "id": "dbfdcf82",
   "metadata": {},
   "source": [
    "## Submit the results\n",
    "\n",
    "* Submit your results here: https://forms.gle/FFfNjEP4jU4rxnL26\n",
    "* You can submit your solution multiple times. In this case, only the last submission will be used \n",
    "* If your answer doesn't match options exactly, select the closest one\n",
    "\n",
    "\n",
    "## Deadline\n",
    "\n",
    "The deadline for submitting is 2 October (Monday), 23:00 CEST.\n",
    "\n",
    "After that, the form will be closed.\n"
   ]
  },
  {
   "cell_type": "code",
   "execution_count": null,
   "id": "6a4eebce",
   "metadata": {},
   "outputs": [],
   "source": []
  }
 ],
 "metadata": {
  "kernelspec": {
   "display_name": "sa_env",
   "language": "python",
   "name": "sa_env"
  },
  "language_info": {
   "codemirror_mode": {
    "name": "ipython",
    "version": 3
   },
   "file_extension": ".py",
   "mimetype": "text/x-python",
   "name": "python",
   "nbconvert_exporter": "python",
   "pygments_lexer": "ipython3",
   "version": "3.7.2"
  },
  "toc": {
   "base_numbering": 1,
   "nav_menu": {},
   "number_sections": true,
   "sideBar": true,
   "skip_h1_title": false,
   "title_cell": "Table of Contents",
   "title_sidebar": "Contents",
   "toc_cell": false,
   "toc_position": {},
   "toc_section_display": true,
   "toc_window_display": false
  }
 },
 "nbformat": 4,
 "nbformat_minor": 5
}
