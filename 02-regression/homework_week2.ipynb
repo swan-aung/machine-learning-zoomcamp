{
 "cells": [
  {
   "cell_type": "markdown",
   "id": "12ff5605",
   "metadata": {},
   "source": [
    "## Homework\n",
    "\n",
    "> Note: sometimes your answer doesn't match one of \n",
    "> the options exactly. That's fine. \n",
    "> Select the option that's closest to your solution.\n",
    "\n",
    "### Dataset\n",
    "\n",
    "In this homework, we will use the California Housing Prices from [Kaggle](https://www.kaggle.com/datasets/camnugent/california-housing-prices).\n",
    "\n",
    "Here's a wget-able [link](https://raw.githubusercontent.com/alexeygrigorev/datasets/master/housing.csv):\n",
    "\n",
    "```bash\n",
    "wget https://raw.githubusercontent.com/alexeygrigorev/datasets/master/housing.csv\n",
    "```"
   ]
  },
  {
   "cell_type": "markdown",
   "id": "19367305",
   "metadata": {},
   "source": [
    "\n",
    "\n",
    "The goal of this homework is to create a regression model for predicting housing prices (column `'median_house_value'`).\n",
    "\n",
    "### EDA\n",
    "\n",
    "* Load the data.\n",
    "* Look at the `median_house_value` variable. Does it have a long tail? \n",
    "\n",
    "\n"
   ]
  },
  {
   "cell_type": "code",
   "execution_count": 1,
   "id": "ad13b10a",
   "metadata": {
    "ExecuteTime": {
     "end_time": "2023-09-25T03:48:43.182203Z",
     "start_time": "2023-09-25T03:48:37.965257Z"
    }
   },
   "outputs": [],
   "source": [
    "import pandas as pd\n",
    "from sklearn.model_selection import train_test_split\n",
    "import numpy as np"
   ]
  },
  {
   "cell_type": "code",
   "execution_count": 2,
   "id": "35f5fcb0",
   "metadata": {
    "ExecuteTime": {
     "end_time": "2023-09-25T03:48:44.892239Z",
     "start_time": "2023-09-25T03:48:43.449471Z"
    }
   },
   "outputs": [],
   "source": [
    "df = pd.read_csv('https://raw.githubusercontent.com/alexeygrigorev/datasets/master/housing.csv')"
   ]
  },
  {
   "cell_type": "code",
   "execution_count": 3,
   "id": "536c1a63",
   "metadata": {
    "ExecuteTime": {
     "end_time": "2023-09-25T03:48:45.267675Z",
     "start_time": "2023-09-25T03:48:45.214671Z"
    }
   },
   "outputs": [
    {
     "data": {
      "text/html": [
       "<div>\n",
       "<style scoped>\n",
       "    .dataframe tbody tr th:only-of-type {\n",
       "        vertical-align: middle;\n",
       "    }\n",
       "\n",
       "    .dataframe tbody tr th {\n",
       "        vertical-align: top;\n",
       "    }\n",
       "\n",
       "    .dataframe thead th {\n",
       "        text-align: right;\n",
       "    }\n",
       "</style>\n",
       "<table border=\"1\" class=\"dataframe\">\n",
       "  <thead>\n",
       "    <tr style=\"text-align: right;\">\n",
       "      <th></th>\n",
       "      <th>longitude</th>\n",
       "      <th>latitude</th>\n",
       "      <th>housing_median_age</th>\n",
       "      <th>total_rooms</th>\n",
       "      <th>total_bedrooms</th>\n",
       "      <th>population</th>\n",
       "      <th>households</th>\n",
       "      <th>median_income</th>\n",
       "      <th>median_house_value</th>\n",
       "      <th>ocean_proximity</th>\n",
       "    </tr>\n",
       "  </thead>\n",
       "  <tbody>\n",
       "    <tr>\n",
       "      <th>0</th>\n",
       "      <td>-122.23</td>\n",
       "      <td>37.88</td>\n",
       "      <td>41.0</td>\n",
       "      <td>880.0</td>\n",
       "      <td>129.0</td>\n",
       "      <td>322.0</td>\n",
       "      <td>126.0</td>\n",
       "      <td>8.3252</td>\n",
       "      <td>452600.0</td>\n",
       "      <td>NEAR BAY</td>\n",
       "    </tr>\n",
       "    <tr>\n",
       "      <th>1</th>\n",
       "      <td>-122.22</td>\n",
       "      <td>37.86</td>\n",
       "      <td>21.0</td>\n",
       "      <td>7099.0</td>\n",
       "      <td>1106.0</td>\n",
       "      <td>2401.0</td>\n",
       "      <td>1138.0</td>\n",
       "      <td>8.3014</td>\n",
       "      <td>358500.0</td>\n",
       "      <td>NEAR BAY</td>\n",
       "    </tr>\n",
       "    <tr>\n",
       "      <th>2</th>\n",
       "      <td>-122.24</td>\n",
       "      <td>37.85</td>\n",
       "      <td>52.0</td>\n",
       "      <td>1467.0</td>\n",
       "      <td>190.0</td>\n",
       "      <td>496.0</td>\n",
       "      <td>177.0</td>\n",
       "      <td>7.2574</td>\n",
       "      <td>352100.0</td>\n",
       "      <td>NEAR BAY</td>\n",
       "    </tr>\n",
       "    <tr>\n",
       "      <th>3</th>\n",
       "      <td>-122.25</td>\n",
       "      <td>37.85</td>\n",
       "      <td>52.0</td>\n",
       "      <td>1274.0</td>\n",
       "      <td>235.0</td>\n",
       "      <td>558.0</td>\n",
       "      <td>219.0</td>\n",
       "      <td>5.6431</td>\n",
       "      <td>341300.0</td>\n",
       "      <td>NEAR BAY</td>\n",
       "    </tr>\n",
       "    <tr>\n",
       "      <th>4</th>\n",
       "      <td>-122.25</td>\n",
       "      <td>37.85</td>\n",
       "      <td>52.0</td>\n",
       "      <td>1627.0</td>\n",
       "      <td>280.0</td>\n",
       "      <td>565.0</td>\n",
       "      <td>259.0</td>\n",
       "      <td>3.8462</td>\n",
       "      <td>342200.0</td>\n",
       "      <td>NEAR BAY</td>\n",
       "    </tr>\n",
       "    <tr>\n",
       "      <th>...</th>\n",
       "      <td>...</td>\n",
       "      <td>...</td>\n",
       "      <td>...</td>\n",
       "      <td>...</td>\n",
       "      <td>...</td>\n",
       "      <td>...</td>\n",
       "      <td>...</td>\n",
       "      <td>...</td>\n",
       "      <td>...</td>\n",
       "      <td>...</td>\n",
       "    </tr>\n",
       "    <tr>\n",
       "      <th>20635</th>\n",
       "      <td>-121.09</td>\n",
       "      <td>39.48</td>\n",
       "      <td>25.0</td>\n",
       "      <td>1665.0</td>\n",
       "      <td>374.0</td>\n",
       "      <td>845.0</td>\n",
       "      <td>330.0</td>\n",
       "      <td>1.5603</td>\n",
       "      <td>78100.0</td>\n",
       "      <td>INLAND</td>\n",
       "    </tr>\n",
       "    <tr>\n",
       "      <th>20636</th>\n",
       "      <td>-121.21</td>\n",
       "      <td>39.49</td>\n",
       "      <td>18.0</td>\n",
       "      <td>697.0</td>\n",
       "      <td>150.0</td>\n",
       "      <td>356.0</td>\n",
       "      <td>114.0</td>\n",
       "      <td>2.5568</td>\n",
       "      <td>77100.0</td>\n",
       "      <td>INLAND</td>\n",
       "    </tr>\n",
       "    <tr>\n",
       "      <th>20637</th>\n",
       "      <td>-121.22</td>\n",
       "      <td>39.43</td>\n",
       "      <td>17.0</td>\n",
       "      <td>2254.0</td>\n",
       "      <td>485.0</td>\n",
       "      <td>1007.0</td>\n",
       "      <td>433.0</td>\n",
       "      <td>1.7000</td>\n",
       "      <td>92300.0</td>\n",
       "      <td>INLAND</td>\n",
       "    </tr>\n",
       "    <tr>\n",
       "      <th>20638</th>\n",
       "      <td>-121.32</td>\n",
       "      <td>39.43</td>\n",
       "      <td>18.0</td>\n",
       "      <td>1860.0</td>\n",
       "      <td>409.0</td>\n",
       "      <td>741.0</td>\n",
       "      <td>349.0</td>\n",
       "      <td>1.8672</td>\n",
       "      <td>84700.0</td>\n",
       "      <td>INLAND</td>\n",
       "    </tr>\n",
       "    <tr>\n",
       "      <th>20639</th>\n",
       "      <td>-121.24</td>\n",
       "      <td>39.37</td>\n",
       "      <td>16.0</td>\n",
       "      <td>2785.0</td>\n",
       "      <td>616.0</td>\n",
       "      <td>1387.0</td>\n",
       "      <td>530.0</td>\n",
       "      <td>2.3886</td>\n",
       "      <td>89400.0</td>\n",
       "      <td>INLAND</td>\n",
       "    </tr>\n",
       "  </tbody>\n",
       "</table>\n",
       "<p>20640 rows × 10 columns</p>\n",
       "</div>"
      ],
      "text/plain": [
       "       longitude  latitude  housing_median_age  total_rooms  total_bedrooms  \\\n",
       "0        -122.23     37.88                41.0        880.0           129.0   \n",
       "1        -122.22     37.86                21.0       7099.0          1106.0   \n",
       "2        -122.24     37.85                52.0       1467.0           190.0   \n",
       "3        -122.25     37.85                52.0       1274.0           235.0   \n",
       "4        -122.25     37.85                52.0       1627.0           280.0   \n",
       "...          ...       ...                 ...          ...             ...   \n",
       "20635    -121.09     39.48                25.0       1665.0           374.0   \n",
       "20636    -121.21     39.49                18.0        697.0           150.0   \n",
       "20637    -121.22     39.43                17.0       2254.0           485.0   \n",
       "20638    -121.32     39.43                18.0       1860.0           409.0   \n",
       "20639    -121.24     39.37                16.0       2785.0           616.0   \n",
       "\n",
       "       population  households  median_income  median_house_value  \\\n",
       "0           322.0       126.0         8.3252            452600.0   \n",
       "1          2401.0      1138.0         8.3014            358500.0   \n",
       "2           496.0       177.0         7.2574            352100.0   \n",
       "3           558.0       219.0         5.6431            341300.0   \n",
       "4           565.0       259.0         3.8462            342200.0   \n",
       "...           ...         ...            ...                 ...   \n",
       "20635       845.0       330.0         1.5603             78100.0   \n",
       "20636       356.0       114.0         2.5568             77100.0   \n",
       "20637      1007.0       433.0         1.7000             92300.0   \n",
       "20638       741.0       349.0         1.8672             84700.0   \n",
       "20639      1387.0       530.0         2.3886             89400.0   \n",
       "\n",
       "      ocean_proximity  \n",
       "0            NEAR BAY  \n",
       "1            NEAR BAY  \n",
       "2            NEAR BAY  \n",
       "3            NEAR BAY  \n",
       "4            NEAR BAY  \n",
       "...               ...  \n",
       "20635          INLAND  \n",
       "20636          INLAND  \n",
       "20637          INLAND  \n",
       "20638          INLAND  \n",
       "20639          INLAND  \n",
       "\n",
       "[20640 rows x 10 columns]"
      ]
     },
     "execution_count": 3,
     "metadata": {},
     "output_type": "execute_result"
    }
   ],
   "source": [
    "df"
   ]
  },
  {
   "cell_type": "markdown",
   "id": "d0f85ac1",
   "metadata": {},
   "source": [
    "### Preparing the dataset \n",
    "\n",
    "For this homework, we only want to use a subset of data. \n",
    "\n",
    "First, keep only the records where `ocean_proximity` is either `'<1H OCEAN'` or `'INLAND'`\n",
    "\n",
    "Next, use only the following columns:\n",
    "\n",
    "* `'latitude'`,\n",
    "* `'longitude'`,\n",
    "* `'housing_median_age'`,\n",
    "* `'total_rooms'`,\n",
    "* `'total_bedrooms'`,\n",
    "* `'population'`,\n",
    "* `'households'`,\n",
    "* `'median_income'`,\n",
    "* `'median_house_value'`"
   ]
  },
  {
   "cell_type": "code",
   "execution_count": 4,
   "id": "0252b666",
   "metadata": {
    "ExecuteTime": {
     "end_time": "2023-09-25T03:48:47.300386Z",
     "start_time": "2023-09-25T03:48:47.289984Z"
    }
   },
   "outputs": [
    {
     "data": {
      "text/plain": [
       "<1H OCEAN     9136\n",
       "INLAND        6551\n",
       "NEAR OCEAN    2658\n",
       "NEAR BAY      2290\n",
       "ISLAND           5\n",
       "Name: ocean_proximity, dtype: int64"
      ]
     },
     "execution_count": 4,
     "metadata": {},
     "output_type": "execute_result"
    }
   ],
   "source": [
    "df['ocean_proximity'].value_counts()"
   ]
  },
  {
   "cell_type": "code",
   "execution_count": 5,
   "id": "f383e31d",
   "metadata": {
    "ExecuteTime": {
     "end_time": "2023-09-25T03:48:48.121379Z",
     "start_time": "2023-09-25T03:48:48.099165Z"
    }
   },
   "outputs": [],
   "source": [
    "df = df[df['ocean_proximity'].isin(['<1H OCEAN','INLAND'])]"
   ]
  },
  {
   "cell_type": "code",
   "execution_count": 6,
   "id": "b3aaf7c8",
   "metadata": {
    "ExecuteTime": {
     "end_time": "2023-09-25T03:48:48.786154Z",
     "start_time": "2023-09-25T03:48:48.776074Z"
    }
   },
   "outputs": [],
   "source": [
    "columns_to_select = ['latitude', 'longitude', 'housing_median_age', 'total_rooms',\n",
    "                     'total_bedrooms', 'population', 'households', 'median_income', 'median_house_value']\n",
    "\n",
    "selected_columns_df = df[columns_to_select]  # Using indexing\n",
    "\n",
    "# Alternatively, you can use loc to select by label\n",
    "selected_columns_df = df.loc[:, columns_to_select]"
   ]
  },
  {
   "cell_type": "markdown",
   "id": "1dde6344",
   "metadata": {},
   "source": [
    "### Question 1\n",
    "\n",
    "There's one feature with missing values. What is it?\n",
    "\n",
    "* `total_rooms`\n",
    "* `total_bedrooms`\n",
    "* `population`\n",
    "* `households`"
   ]
  },
  {
   "cell_type": "code",
   "execution_count": 7,
   "id": "09e19fe3",
   "metadata": {
    "ExecuteTime": {
     "end_time": "2023-09-25T03:48:50.658546Z",
     "start_time": "2023-09-25T03:48:50.649541Z"
    }
   },
   "outputs": [
    {
     "data": {
      "text/plain": [
       "latitude                0\n",
       "longitude               0\n",
       "housing_median_age      0\n",
       "total_rooms             0\n",
       "total_bedrooms        157\n",
       "population              0\n",
       "households              0\n",
       "median_income           0\n",
       "median_house_value      0\n",
       "dtype: int64"
      ]
     },
     "execution_count": 7,
     "metadata": {},
     "output_type": "execute_result"
    }
   ],
   "source": [
    "selected_columns_df.isnull().sum()"
   ]
  },
  {
   "cell_type": "markdown",
   "id": "43d07705",
   "metadata": {},
   "source": [
    "`total_bedrooms` column have missing values"
   ]
  },
  {
   "cell_type": "markdown",
   "id": "3180f3c9",
   "metadata": {},
   "source": [
    "### Question 2\n",
    "\n",
    "What's the median (50% percentile) for variable `'population'`?\n",
    "\n",
    "- 995\n",
    "- 1095\n",
    "- 1195\n",
    "- 1295"
   ]
  },
  {
   "cell_type": "code",
   "execution_count": 8,
   "id": "a8b90a4b",
   "metadata": {
    "ExecuteTime": {
     "end_time": "2023-09-25T03:48:53.087594Z",
     "start_time": "2023-09-25T03:48:53.078563Z"
    }
   },
   "outputs": [
    {
     "data": {
      "text/plain": [
       "1195.0"
      ]
     },
     "execution_count": 8,
     "metadata": {},
     "output_type": "execute_result"
    }
   ],
   "source": [
    "selected_columns_df['population'].quantile(0.5)"
   ]
  },
  {
   "cell_type": "code",
   "execution_count": 17,
   "id": "ba58e42e",
   "metadata": {
    "ExecuteTime": {
     "end_time": "2023-09-24T09:29:52.547357Z",
     "start_time": "2023-09-24T09:29:52.542160Z"
    }
   },
   "outputs": [
    {
     "data": {
      "text/plain": [
       "1195.0"
      ]
     },
     "execution_count": 17,
     "metadata": {},
     "output_type": "execute_result"
    }
   ],
   "source": [
    "selected_columns_df['population'].median()"
   ]
  },
  {
   "cell_type": "markdown",
   "id": "add8a867",
   "metadata": {},
   "source": [
    "#### Prepare and split the dataset\n",
    "\n",
    "* Shuffle the dataset (the filtered one you created above), use seed `42`.\n",
    "* Split your data in train/val/test sets, with 60%/20%/20% distribution.\n",
    "* Apply the log transformation to the `median_house_value` variable using the `np.log1p()` function."
   ]
  },
  {
   "cell_type": "code",
   "execution_count": 9,
   "id": "83f49b2c",
   "metadata": {
    "ExecuteTime": {
     "end_time": "2023-09-25T03:48:54.582617Z",
     "start_time": "2023-09-25T03:48:54.563894Z"
    }
   },
   "outputs": [],
   "source": [
    "shuffled_df = selected_columns_df.sample(frac=1, random_state=42)"
   ]
  },
  {
   "cell_type": "code",
   "execution_count": 9,
   "id": "2768c301",
   "metadata": {
    "ExecuteTime": {
     "end_time": "2023-09-24T12:07:50.282609Z",
     "start_time": "2023-09-24T12:07:50.266343Z"
    }
   },
   "outputs": [
    {
     "data": {
      "text/html": [
       "<div>\n",
       "<style scoped>\n",
       "    .dataframe tbody tr th:only-of-type {\n",
       "        vertical-align: middle;\n",
       "    }\n",
       "\n",
       "    .dataframe tbody tr th {\n",
       "        vertical-align: top;\n",
       "    }\n",
       "\n",
       "    .dataframe thead th {\n",
       "        text-align: right;\n",
       "    }\n",
       "</style>\n",
       "<table border=\"1\" class=\"dataframe\">\n",
       "  <thead>\n",
       "    <tr style=\"text-align: right;\">\n",
       "      <th></th>\n",
       "      <th>latitude</th>\n",
       "      <th>longitude</th>\n",
       "      <th>housing_median_age</th>\n",
       "      <th>total_rooms</th>\n",
       "      <th>total_bedrooms</th>\n",
       "      <th>population</th>\n",
       "      <th>households</th>\n",
       "      <th>median_income</th>\n",
       "      <th>median_house_value</th>\n",
       "    </tr>\n",
       "  </thead>\n",
       "  <tbody>\n",
       "    <tr>\n",
       "      <th>19963</th>\n",
       "      <td>36.23</td>\n",
       "      <td>-119.14</td>\n",
       "      <td>22.0</td>\n",
       "      <td>2935.0</td>\n",
       "      <td>523.0</td>\n",
       "      <td>1927.0</td>\n",
       "      <td>530.0</td>\n",
       "      <td>2.5875</td>\n",
       "      <td>70400.0</td>\n",
       "    </tr>\n",
       "    <tr>\n",
       "      <th>5929</th>\n",
       "      <td>34.12</td>\n",
       "      <td>-117.79</td>\n",
       "      <td>16.0</td>\n",
       "      <td>2426.0</td>\n",
       "      <td>426.0</td>\n",
       "      <td>1319.0</td>\n",
       "      <td>446.0</td>\n",
       "      <td>4.8125</td>\n",
       "      <td>224500.0</td>\n",
       "    </tr>\n",
       "    <tr>\n",
       "      <th>11377</th>\n",
       "      <td>33.68</td>\n",
       "      <td>-117.97</td>\n",
       "      <td>26.0</td>\n",
       "      <td>3653.0</td>\n",
       "      <td>568.0</td>\n",
       "      <td>1930.0</td>\n",
       "      <td>585.0</td>\n",
       "      <td>5.7301</td>\n",
       "      <td>260900.0</td>\n",
       "    </tr>\n",
       "    <tr>\n",
       "      <th>6443</th>\n",
       "      <td>34.10</td>\n",
       "      <td>-118.03</td>\n",
       "      <td>32.0</td>\n",
       "      <td>2668.0</td>\n",
       "      <td>609.0</td>\n",
       "      <td>1512.0</td>\n",
       "      <td>541.0</td>\n",
       "      <td>2.9422</td>\n",
       "      <td>233100.0</td>\n",
       "    </tr>\n",
       "    <tr>\n",
       "      <th>17546</th>\n",
       "      <td>37.34</td>\n",
       "      <td>-121.87</td>\n",
       "      <td>39.0</td>\n",
       "      <td>2479.0</td>\n",
       "      <td>541.0</td>\n",
       "      <td>1990.0</td>\n",
       "      <td>506.0</td>\n",
       "      <td>2.4306</td>\n",
       "      <td>289100.0</td>\n",
       "    </tr>\n",
       "    <tr>\n",
       "      <th>...</th>\n",
       "      <td>...</td>\n",
       "      <td>...</td>\n",
       "      <td>...</td>\n",
       "      <td>...</td>\n",
       "      <td>...</td>\n",
       "      <td>...</td>\n",
       "      <td>...</td>\n",
       "      <td>...</td>\n",
       "      <td>...</td>\n",
       "    </tr>\n",
       "    <tr>\n",
       "      <th>6651</th>\n",
       "      <td>34.15</td>\n",
       "      <td>-118.14</td>\n",
       "      <td>41.0</td>\n",
       "      <td>1256.0</td>\n",
       "      <td>407.0</td>\n",
       "      <td>855.0</td>\n",
       "      <td>383.0</td>\n",
       "      <td>1.9923</td>\n",
       "      <td>500001.0</td>\n",
       "    </tr>\n",
       "    <tr>\n",
       "      <th>17810</th>\n",
       "      <td>37.40</td>\n",
       "      <td>-121.86</td>\n",
       "      <td>19.0</td>\n",
       "      <td>4043.0</td>\n",
       "      <td>764.0</td>\n",
       "      <td>2196.0</td>\n",
       "      <td>708.0</td>\n",
       "      <td>6.1504</td>\n",
       "      <td>268400.0</td>\n",
       "    </tr>\n",
       "    <tr>\n",
       "      <th>6850</th>\n",
       "      <td>34.07</td>\n",
       "      <td>-118.15</td>\n",
       "      <td>52.0</td>\n",
       "      <td>1983.0</td>\n",
       "      <td>344.0</td>\n",
       "      <td>887.0</td>\n",
       "      <td>331.0</td>\n",
       "      <td>3.2875</td>\n",
       "      <td>234400.0</td>\n",
       "    </tr>\n",
       "    <tr>\n",
       "      <th>2161</th>\n",
       "      <td>36.78</td>\n",
       "      <td>-119.81</td>\n",
       "      <td>37.0</td>\n",
       "      <td>1965.0</td>\n",
       "      <td>364.0</td>\n",
       "      <td>796.0</td>\n",
       "      <td>335.0</td>\n",
       "      <td>3.6250</td>\n",
       "      <td>83400.0</td>\n",
       "    </tr>\n",
       "    <tr>\n",
       "      <th>8992</th>\n",
       "      <td>34.00</td>\n",
       "      <td>-118.35</td>\n",
       "      <td>46.0</td>\n",
       "      <td>3402.0</td>\n",
       "      <td>503.0</td>\n",
       "      <td>1389.0</td>\n",
       "      <td>504.0</td>\n",
       "      <td>5.3462</td>\n",
       "      <td>270400.0</td>\n",
       "    </tr>\n",
       "  </tbody>\n",
       "</table>\n",
       "<p>15687 rows × 9 columns</p>\n",
       "</div>"
      ],
      "text/plain": [
       "       latitude  longitude  housing_median_age  total_rooms  total_bedrooms  \\\n",
       "19963     36.23    -119.14                22.0       2935.0           523.0   \n",
       "5929      34.12    -117.79                16.0       2426.0           426.0   \n",
       "11377     33.68    -117.97                26.0       3653.0           568.0   \n",
       "6443      34.10    -118.03                32.0       2668.0           609.0   \n",
       "17546     37.34    -121.87                39.0       2479.0           541.0   \n",
       "...         ...        ...                 ...          ...             ...   \n",
       "6651      34.15    -118.14                41.0       1256.0           407.0   \n",
       "17810     37.40    -121.86                19.0       4043.0           764.0   \n",
       "6850      34.07    -118.15                52.0       1983.0           344.0   \n",
       "2161      36.78    -119.81                37.0       1965.0           364.0   \n",
       "8992      34.00    -118.35                46.0       3402.0           503.0   \n",
       "\n",
       "       population  households  median_income  median_house_value  \n",
       "19963      1927.0       530.0         2.5875             70400.0  \n",
       "5929       1319.0       446.0         4.8125            224500.0  \n",
       "11377      1930.0       585.0         5.7301            260900.0  \n",
       "6443       1512.0       541.0         2.9422            233100.0  \n",
       "17546      1990.0       506.0         2.4306            289100.0  \n",
       "...           ...         ...            ...                 ...  \n",
       "6651        855.0       383.0         1.9923            500001.0  \n",
       "17810      2196.0       708.0         6.1504            268400.0  \n",
       "6850        887.0       331.0         3.2875            234400.0  \n",
       "2161        796.0       335.0         3.6250             83400.0  \n",
       "8992       1389.0       504.0         5.3462            270400.0  \n",
       "\n",
       "[15687 rows x 9 columns]"
      ]
     },
     "execution_count": 9,
     "metadata": {},
     "output_type": "execute_result"
    }
   ],
   "source": [
    "shuffled_df"
   ]
  },
  {
   "cell_type": "code",
   "execution_count": 13,
   "id": "1fd508f3",
   "metadata": {
    "ExecuteTime": {
     "end_time": "2023-09-25T03:49:51.142180Z",
     "start_time": "2023-09-25T03:49:51.132794Z"
    }
   },
   "outputs": [],
   "source": [
    "# Split the data into train/val/test sets (60%/20%/20%)\n",
    "train_df, temp_df = train_test_split(shuffled_df, test_size=0.4, random_state=42)\n",
    "val_df, test_df = train_test_split(temp_df, test_size=0.5, random_state=42)"
   ]
  },
  {
   "cell_type": "code",
   "execution_count": 14,
   "id": "cbe79a2f",
   "metadata": {
    "ExecuteTime": {
     "end_time": "2023-09-25T03:49:53.040477Z",
     "start_time": "2023-09-25T03:49:53.014331Z"
    }
   },
   "outputs": [
    {
     "name": "stdout",
     "output_type": "stream",
     "text": [
      "Train dataset:\n",
      "       latitude  longitude  housing_median_age  total_rooms  total_bedrooms  \\\n",
      "16677     35.13    -120.66                41.0       2666.0           751.0   \n",
      "3158      35.26    -118.95                24.0       1341.0           214.0   \n",
      "2355      36.77    -119.68                21.0       1260.0           182.0   \n",
      "12879     38.65    -121.38                34.0        825.0           173.0   \n",
      "9526      39.13    -123.16                33.0       1320.0           303.0   \n",
      "\n",
      "       population  households  median_income  median_house_value  \n",
      "16677       940.0       507.0         1.9653           12.372015  \n",
      "3158        667.0       184.0         4.0000           11.456366  \n",
      "2355        583.0       205.0         6.0132           11.923716  \n",
      "12879       355.0       130.0         3.1858           11.603689  \n",
      "9526       1048.0       303.0         1.7813           11.458480  \n",
      "\n",
      "Validation dataset:\n",
      "      latitude  longitude  housing_median_age  total_rooms  total_bedrooms  \\\n",
      "4055     34.15    -118.44                29.0       5474.0          1457.0   \n",
      "8878     34.04    -118.50                52.0       3000.0           374.0   \n",
      "2669     33.24    -115.51                32.0       1995.0           523.0   \n",
      "2010     36.72    -119.82                17.0       1276.0           242.0   \n",
      "3472     34.29    -118.49                26.0       4516.0           611.0   \n",
      "\n",
      "      population  households  median_income  median_house_value  \n",
      "4055      2352.0      1326.0         3.4150           12.854487  \n",
      "8878      1143.0       375.0        15.0001           13.122367  \n",
      "2669      1069.0       410.0         1.6552           10.675931  \n",
      "2010       927.0       238.0         2.6176           10.898608  \n",
      "3472      1714.0       581.0         9.2873           12.975720  \n",
      "\n",
      "Test dataset:\n",
      "       latitude  longitude  housing_median_age  total_rooms  total_bedrooms  \\\n",
      "4385      34.08    -118.26                52.0        984.0           276.0   \n",
      "9826      36.78    -121.71                19.0       2371.0           324.0   \n",
      "18477     37.11    -121.65                14.0       6006.0           914.0   \n",
      "15514     33.17    -117.06                 4.0       5465.0           974.0   \n",
      "4796      34.03    -118.35                43.0       2122.0           524.0   \n",
      "\n",
      "       population  households  median_income  median_house_value  \n",
      "4385        994.0       260.0         2.3816           12.023957  \n",
      "9826        944.0       332.0         5.9175           12.389231  \n",
      "18477      2915.0       898.0         5.9356           12.681378  \n",
      "15514      2844.0       950.0         4.4477           12.071403  \n",
      "4796       1510.0       436.0         2.2273           11.722384  \n"
     ]
    }
   ],
   "source": [
    "# Apply log transformation to the 'median_house_value' variable\n",
    "train_df['median_house_value'] = np.log1p(train_df['median_house_value'])\n",
    "val_df['median_house_value'] = np.log1p(val_df['median_house_value'])\n",
    "test_df['median_house_value'] = np.log1p(test_df['median_house_value'])\n",
    "\n",
    "# Print the first few rows of each dataset\n",
    "print(\"Train dataset:\")\n",
    "print(train_df.head())\n",
    "\n",
    "print(\"\\nValidation dataset:\")\n",
    "print(val_df.head())\n",
    "\n",
    "print(\"\\nTest dataset:\")\n",
    "print(test_df.head())"
   ]
  },
  {
   "cell_type": "markdown",
   "id": "da223be8",
   "metadata": {},
   "source": [
    "### Question 3\n",
    "\n",
    "* We need to deal with missing values for the column from Q1.\n",
    "* We have two options: fill it with 0 or with the mean of this variable.\n",
    "* Try both options. For each, train a linear regression model without regularization using the code from the lessons.\n",
    "* For computing the mean, use the training only!\n",
    "* Use the validation dataset to evaluate the models and compare the RMSE of each option.\n",
    "* Round the RMSE scores to 2 decimal digits using `round(score, 2)`\n",
    "* Which option gives better RMSE?\n",
    "\n",
    "Options:\n",
    "\n",
    "- With 0\n",
    "- With mean\n",
    "- Both are equally good"
   ]
  },
  {
   "cell_type": "code",
   "execution_count": 15,
   "id": "e8265d91",
   "metadata": {
    "ExecuteTime": {
     "end_time": "2023-09-25T03:50:05.573355Z",
     "start_time": "2023-09-25T03:50:05.558201Z"
    },
    "scrolled": true
   },
   "outputs": [
    {
     "data": {
      "text/html": [
       "<div>\n",
       "<style scoped>\n",
       "    .dataframe tbody tr th:only-of-type {\n",
       "        vertical-align: middle;\n",
       "    }\n",
       "\n",
       "    .dataframe tbody tr th {\n",
       "        vertical-align: top;\n",
       "    }\n",
       "\n",
       "    .dataframe thead th {\n",
       "        text-align: right;\n",
       "    }\n",
       "</style>\n",
       "<table border=\"1\" class=\"dataframe\">\n",
       "  <thead>\n",
       "    <tr style=\"text-align: right;\">\n",
       "      <th></th>\n",
       "      <th>latitude</th>\n",
       "      <th>longitude</th>\n",
       "      <th>housing_median_age</th>\n",
       "      <th>total_rooms</th>\n",
       "      <th>total_bedrooms</th>\n",
       "      <th>population</th>\n",
       "      <th>households</th>\n",
       "      <th>median_income</th>\n",
       "      <th>median_house_value</th>\n",
       "    </tr>\n",
       "  </thead>\n",
       "  <tbody>\n",
       "    <tr>\n",
       "      <th>16677</th>\n",
       "      <td>35.13</td>\n",
       "      <td>-120.66</td>\n",
       "      <td>41.0</td>\n",
       "      <td>2666.0</td>\n",
       "      <td>751.0</td>\n",
       "      <td>940.0</td>\n",
       "      <td>507.0</td>\n",
       "      <td>1.9653</td>\n",
       "      <td>12.372015</td>\n",
       "    </tr>\n",
       "    <tr>\n",
       "      <th>3158</th>\n",
       "      <td>35.26</td>\n",
       "      <td>-118.95</td>\n",
       "      <td>24.0</td>\n",
       "      <td>1341.0</td>\n",
       "      <td>214.0</td>\n",
       "      <td>667.0</td>\n",
       "      <td>184.0</td>\n",
       "      <td>4.0000</td>\n",
       "      <td>11.456366</td>\n",
       "    </tr>\n",
       "  </tbody>\n",
       "</table>\n",
       "</div>"
      ],
      "text/plain": [
       "       latitude  longitude  housing_median_age  total_rooms  total_bedrooms  \\\n",
       "16677     35.13    -120.66                41.0       2666.0           751.0   \n",
       "3158      35.26    -118.95                24.0       1341.0           214.0   \n",
       "\n",
       "       population  households  median_income  median_house_value  \n",
       "16677       940.0       507.0         1.9653           12.372015  \n",
       "3158        667.0       184.0         4.0000           11.456366  "
      ]
     },
     "execution_count": 15,
     "metadata": {},
     "output_type": "execute_result"
    }
   ],
   "source": [
    "train_df.head(2)"
   ]
  },
  {
   "cell_type": "code",
   "execution_count": 18,
   "id": "372db75a",
   "metadata": {
    "ExecuteTime": {
     "end_time": "2023-09-25T03:51:56.409413Z",
     "start_time": "2023-09-25T03:51:56.403118Z"
    }
   },
   "outputs": [],
   "source": [
    "# Replace missing values with 0 for 'total_bedrooms'\n",
    "train_df_fill_0 = train_df.fillna(0)\n",
    "val_df_fill_0 = val_df.fillna(0)"
   ]
  },
  {
   "cell_type": "code",
   "execution_count": 20,
   "id": "8e1fd274",
   "metadata": {
    "ExecuteTime": {
     "end_time": "2023-09-25T03:52:23.442238Z",
     "start_time": "2023-09-25T03:52:23.435364Z"
    }
   },
   "outputs": [],
   "source": [
    "# Calculate the mean of 'total_bedrooms' using the training data\n",
    "mean_total_bedrooms = train_df['total_bedrooms'].mean()\n",
    "\n",
    "# Replace missing values with the mean for 'total_bedrooms'\n",
    "train_df_fill_mean = train_df.fillna({'total_bedrooms': mean_total_bedrooms})\n",
    "val_df_fill_mean = val_df.fillna({'total_bedrooms': mean_total_bedrooms})"
   ]
  },
  {
   "cell_type": "code",
   "execution_count": 25,
   "id": "c4ce5ff9",
   "metadata": {
    "ExecuteTime": {
     "end_time": "2023-09-25T04:04:07.027930Z",
     "start_time": "2023-09-25T04:04:06.862586Z"
    }
   },
   "outputs": [],
   "source": [
    "from sklearn.linear_model import LinearRegression\n",
    "from sklearn.metrics import mean_squared_error\n",
    "from math import sqrt\n",
    "\n",
    "\n",
    "# Function to train a linear regression model and calculate RMSE\n",
    "def train_and_evaluate(df_train, df_val):\n",
    "    X_train = df_train.drop('median_house_value', axis=1)\n",
    "    y_train = df_train['median_house_value']\n",
    "    \n",
    "    X_val = df_val.drop('median_house_value', axis=1)\n",
    "    y_val = df_val['median_house_value']\n",
    "    \n",
    "    model = LinearRegression()\n",
    "    model.fit(X_train, y_train)\n",
    "    \n",
    "    # Predict on the validation set\n",
    "    y_pred = model.predict(X_val)\n",
    "    \n",
    "    # Calculate RMSE\n",
    "    rmse = sqrt(mean_squared_error(y_val, y_pred))\n",
    "    \n",
    "    return rmse"
   ]
  },
  {
   "cell_type": "code",
   "execution_count": 26,
   "id": "c55709ba",
   "metadata": {
    "ExecuteTime": {
     "end_time": "2023-09-25T04:04:08.278503Z",
     "start_time": "2023-09-25T04:04:08.126083Z"
    }
   },
   "outputs": [],
   "source": [
    "# Train models and calculate RMSE for both options\n",
    "rmse_0 = train_and_evaluate(train_df_fill_0, val_df_fill_0)\n",
    "rmse_mean = train_and_evaluate(train_df_fill_mean, val_df_fill_mean)"
   ]
  },
  {
   "cell_type": "code",
   "execution_count": 28,
   "id": "13207408",
   "metadata": {
    "ExecuteTime": {
     "end_time": "2023-09-25T04:04:18.760651Z",
     "start_time": "2023-09-25T04:04:18.755543Z"
    }
   },
   "outputs": [
    {
     "data": {
      "text/plain": [
       "0.34646080984445854"
      ]
     },
     "execution_count": 28,
     "metadata": {},
     "output_type": "execute_result"
    }
   ],
   "source": [
    "rmse_0"
   ]
  },
  {
   "cell_type": "code",
   "execution_count": 29,
   "id": "c4eef71d",
   "metadata": {
    "ExecuteTime": {
     "end_time": "2023-09-25T04:04:23.337730Z",
     "start_time": "2023-09-25T04:04:23.331572Z"
    }
   },
   "outputs": [
    {
     "data": {
      "text/plain": [
       "0.34620971085273505"
      ]
     },
     "execution_count": 29,
     "metadata": {},
     "output_type": "execute_result"
    }
   ],
   "source": [
    "rmse_mean"
   ]
  },
  {
   "cell_type": "code",
   "execution_count": 32,
   "id": "0cf6d78f",
   "metadata": {
    "ExecuteTime": {
     "end_time": "2023-09-25T04:06:21.388941Z",
     "start_time": "2023-09-25T04:06:21.383030Z"
    }
   },
   "outputs": [
    {
     "name": "stdout",
     "output_type": "stream",
     "text": [
      "RMSE with 0: 0.35\n",
      "RMSE with mean: 0.35\n",
      "Option: Both are equally good\n"
     ]
    }
   ],
   "source": [
    "# Compare RMSE scores and determine the better option\n",
    "better_option = None\n",
    "rmse_0 = round(rmse_0, 2)\n",
    "rmse_mean = round(rmse_mean, 2)\n",
    "if rmse_0 < rmse_mean:\n",
    "    better_option = 'With 0'\n",
    "elif rmse_mean < rmse_0:\n",
    "    better_option = 'With mean'\n",
    "else:\n",
    "    better_option = 'Both are equally good'\n",
    "\n",
    "# Print the RMSE scores rounded to 2 decimal places and the better option\n",
    "print(\"RMSE with 0:\", round(rmse_0, 2))\n",
    "print(\"RMSE with mean:\", round(rmse_mean, 2))\n",
    "print(\"Option:\", better_option)"
   ]
  },
  {
   "cell_type": "markdown",
   "id": "47703da6",
   "metadata": {},
   "source": [
    "### Question 4\n",
    "\n",
    "* Now let's train a regularized linear regression.\n",
    "* For this question, fill the NAs with 0. \n",
    "* Try different values of `r` from this list: `[0, 0.000001, 0.0001, 0.001, 0.01, 0.1, 1, 5, 10]`.\n",
    "* Use RMSE to evaluate the model on the validation dataset.\n",
    "* Round the RMSE scores to 2 decimal digits.\n",
    "* Which `r` gives the best RMSE?\n",
    "\n",
    "If there are multiple options, select the smallest `r`.\n",
    "\n",
    "Options:\n",
    "\n",
    "- 0\n",
    "- 0.000001\n",
    "- 0.001\n",
    "- 0.0001"
   ]
  },
  {
   "cell_type": "code",
   "execution_count": 55,
   "id": "904a3195",
   "metadata": {
    "ExecuteTime": {
     "end_time": "2023-09-25T05:22:27.057949Z",
     "start_time": "2023-09-25T05:22:27.050911Z"
    }
   },
   "outputs": [],
   "source": [
    "from sklearn.linear_model import Ridge\n",
    "from sklearn.metrics import mean_squared_error\n",
    "\n",
    "# List of regularization parameters to try\n",
    "regularization_params = [0, 0.000001, 0.0001, 0.001, 0.01, 0.1, 1, 5, 10]\n",
    "\n",
    "# Fill missing values with 0 for 'total_bedrooms'\n",
    "train_df_fill_0 = train_df.fillna(0)\n",
    "val_df_fill_0 = val_df.fillna(0)\n",
    "\n",
    "# Function to train a regularized linear regression model and calculate RMSE\n",
    "def train_and_evaluate_ridge(df_train, df_val, alpha):\n",
    "    X_train = df_train.drop('median_house_value', axis=1)\n",
    "    y_train = df_train['median_house_value']\n",
    "    \n",
    "    X_val = df_val.drop('median_house_value', axis=1)\n",
    "    y_val = df_val['median_house_value']\n",
    "    \n",
    "    model = Ridge(alpha=alpha)\n",
    "    model.fit(X_train, y_train)\n",
    "    \n",
    "    # Predict on the validation set\n",
    "    y_pred = model.predict(X_val)\n",
    "    \n",
    "    # Calculate RMSE using mean_squared_error\n",
    "    rmse = sqrt(mean_squared_error(y_val, y_pred))\n",
    "    \n",
    "    return rmse"
   ]
  },
  {
   "cell_type": "code",
   "execution_count": 56,
   "id": "b4376016",
   "metadata": {
    "ExecuteTime": {
     "end_time": "2023-09-25T05:22:27.570727Z",
     "start_time": "2023-09-25T05:22:27.521973Z"
    }
   },
   "outputs": [],
   "source": [
    "# Dictionary to store RMSE scores for each regularization parameter\n",
    "rmse_scores = {}\n",
    "\n",
    "# Train models and calculate RMSE for each value of alpha\n",
    "for alpha in regularization_params:\n",
    "    rmse = train_and_evaluate_ridge(train_df_fill_0, val_df_fill_0, alpha)\n",
    "    rmse_scores[alpha] = round(rmse, 2)\n",
    "\n",
    "# Find the best alpha (smallest RMSE)\n",
    "best_alpha = min(rmse_scores, key=rmse_scores.get)"
   ]
  },
  {
   "cell_type": "code",
   "execution_count": 57,
   "id": "9eea55d8",
   "metadata": {
    "ExecuteTime": {
     "end_time": "2023-09-25T05:22:29.472979Z",
     "start_time": "2023-09-25T05:22:29.467963Z"
    }
   },
   "outputs": [
    {
     "data": {
      "text/plain": [
       "{0: 0.35,\n",
       " 1e-06: 0.35,\n",
       " 0.0001: 0.35,\n",
       " 0.001: 0.35,\n",
       " 0.01: 0.35,\n",
       " 0.1: 0.35,\n",
       " 1: 0.35,\n",
       " 5: 0.35,\n",
       " 10: 0.35}"
      ]
     },
     "execution_count": 57,
     "metadata": {},
     "output_type": "execute_result"
    }
   ],
   "source": [
    "rmse_scores"
   ]
  },
  {
   "cell_type": "markdown",
   "id": "89089f99",
   "metadata": {},
   "source": [
    "### Question 5 \n",
    "\n",
    "* We used seed 42 for splitting the data. Let's find out how selecting the seed influences our score.\n",
    "* Try different seed values: `[0, 1, 2, 3, 4, 5, 6, 7, 8, 9]`.\n",
    "* For each seed, do the train/validation/test split with 60%/20%/20% distribution.\n",
    "* Fill the missing values with 0 and train a model without regularization.\n",
    "* For each seed, evaluate the model on the validation dataset and collect the RMSE scores. \n",
    "* What's the standard deviation of all the scores? To compute the standard deviation, use `np.std`.\n",
    "* Round the result to 3 decimal digits (`round(std, 3)`)\n",
    "\n",
    "What's the value of std?\n",
    "\n",
    "- 0.5\n",
    "- 0.05\n",
    "- 0.005\n",
    "- 0.0005\n",
    "\n",
    "> Note: Standard deviation shows how different the values are.\n",
    "> If it's low, then all values are approximately the same.\n",
    "> If it's high, the values are different. \n",
    "> If standard deviation of scores is low, then our model is *stable*."
   ]
  },
  {
   "cell_type": "code",
   "execution_count": 79,
   "id": "e60e1f12",
   "metadata": {
    "ExecuteTime": {
     "end_time": "2023-09-25T05:31:03.998330Z",
     "start_time": "2023-09-25T05:31:03.892945Z"
    }
   },
   "outputs": [],
   "source": [
    "seed_values = [0, 1, 2, 3, 4, 5, 6, 7, 8, 9]\n",
    "\n",
    "# List to store RMSE scores for each seed\n",
    "rmse_scores = []\n",
    "\n",
    "# Function to perform train/validation/test split and calculate RMSE\n",
    "def calculate_rmse(seed):\n",
    "    # Split the data using the current seed\n",
    "    train_df, temp_df = train_test_split(shuffled_df, test_size=0.4, random_state=seed)\n",
    "    val_df, test_df = train_test_split(temp_df, test_size=0.5, random_state=seed)\n",
    "    \n",
    "    train_df['median_house_value'] = np.log1p(train_df['median_house_value'])\n",
    "    val_df['median_house_value'] = np.log1p(val_df['median_house_value'])\n",
    "    test_df['median_house_value'] = np.log1p(test_df['median_house_value'])\n",
    "    # Fill missing values with 0 for 'total_bedrooms'\n",
    "    train_df_fill_0 = train_df.fillna(0)\n",
    "    val_df_fill_0 = val_df.fillna(0)\n",
    "\n",
    "    # Train a model without regularization and calculate RMSE\n",
    "    rmse = train_and_evaluate(train_df_fill_0, val_df_fill_0)\n",
    "\n",
    "    return rmse\n",
    "\n",
    "# Calculate RMSE for each seed and collect the scores\n",
    "for seed in seed_values:\n",
    "    rmse = calculate_rmse(seed)\n",
    "    rmse_scores.append(rmse)"
   ]
  },
  {
   "cell_type": "code",
   "execution_count": 81,
   "id": "03640493",
   "metadata": {
    "ExecuteTime": {
     "end_time": "2023-09-25T05:31:12.612214Z",
     "start_time": "2023-09-25T05:31:12.606539Z"
    }
   },
   "outputs": [
    {
     "name": "stdout",
     "output_type": "stream",
     "text": [
      "Standard deviation of RMSE scores: 0.006\n"
     ]
    }
   ],
   "source": [
    "# Calculate the standard deviation of RMSE scores\n",
    "std_deviation = np.std(rmse_scores)\n",
    "\n",
    "# Round the standard deviation to 3 decimal places\n",
    "rounded_std_deviation = round(std_deviation, 3)\n",
    "\n",
    "# Print the standard deviation\n",
    "print(\"Standard deviation of RMSE scores:\", rounded_std_deviation)"
   ]
  },
  {
   "cell_type": "markdown",
   "id": "d3e6be90",
   "metadata": {},
   "source": [
    "### Question 6\n",
    "\n",
    "* Split the dataset like previously, use seed 9.\n",
    "* Combine train and validation datasets.\n",
    "* Fill the missing values with 0 and train a model with `r=0.001`. \n",
    "* What's the RMSE on the test dataset?\n",
    "\n",
    "Options:\n",
    "\n",
    "- 0.13\n",
    "- 0.23\n",
    "- 0.33\n",
    "- 0.43"
   ]
  },
  {
   "cell_type": "code",
   "execution_count": 82,
   "id": "bd4f623d",
   "metadata": {
    "ExecuteTime": {
     "end_time": "2023-09-25T05:41:33.973805Z",
     "start_time": "2023-09-25T05:41:33.944193Z"
    }
   },
   "outputs": [],
   "source": [
    "# Split the data using seed 9\n",
    "train_df, temp_df = train_test_split(shuffled_df, test_size=0.4, random_state=9)\n",
    "val_df, test_df = train_test_split(temp_df, test_size=0.5, random_state=9)\n",
    "\n",
    "train_df['median_house_value'] = np.log1p(train_df['median_house_value'])\n",
    "val_df['median_house_value'] = np.log1p(val_df['median_house_value'])\n",
    "test_df['median_house_value'] = np.log1p(test_df['median_house_value'])\n",
    "\n",
    "# Combine train and validation datasets\n",
    "train_val_df = pd.concat([train_df, val_df])\n",
    "\n",
    "# Fill missing values with 0 for 'total_bedrooms'\n",
    "train_val_df_fill_0 = train_val_df.fillna(0)\n",
    "test_df_fill_0 = test_df.fillna(0)\n",
    "\n",
    "# Train a regularized linear regression model with r=0.001\n",
    "alpha = 0.001\n",
    "X_train_val = train_val_df_fill_0.drop('median_house_value', axis=1)\n",
    "y_train_val = train_val_df_fill_0['median_house_value']\n",
    "\n",
    "X_test = test_df_fill_0.drop('median_house_value', axis=1)\n",
    "y_test = test_df_fill_0['median_house_value']\n",
    "\n",
    "model = Ridge(alpha=alpha)\n",
    "model.fit(X_train_val, y_train_val)\n",
    "\n",
    "# Predict on the test set\n",
    "y_pred_test = model.predict(X_test)"
   ]
  },
  {
   "cell_type": "code",
   "execution_count": null,
   "id": "96f4e077",
   "metadata": {},
   "outputs": [],
   "source": [
    "# Calculate RMSE on the test dataset\n",
    "rmse_test = mean_squared_error(y_test, y_pred_test, squared=False)"
   ]
  },
  {
   "cell_type": "code",
   "execution_count": 86,
   "id": "8c80fbd9",
   "metadata": {
    "ExecuteTime": {
     "end_time": "2023-09-25T05:43:01.240911Z",
     "start_time": "2023-09-25T05:43:01.235233Z"
    }
   },
   "outputs": [
    {
     "name": "stdout",
     "output_type": "stream",
     "text": [
      "RMSE on the test dataset: 0.34\n"
     ]
    }
   ],
   "source": [
    "# Calculate RMSE on the test dataset\n",
    "rmse_test = mean_squared_error(y_test, y_pred_test, squared=False)\n",
    "\n",
    "# Print the RMSE on the test dataset\n",
    "print(\"RMSE on the test dataset:\", round(rmse_test, 2))"
   ]
  },
  {
   "cell_type": "markdown",
   "id": "d6da6ae0",
   "metadata": {},
   "source": [
    "## Submit the results\n",
    "\n",
    "- Submit your results here: https://forms.gle/nNUTLzz3F9KiFHNp9\n",
    "- If your answer doesn't match options exactly, select the closest one.\n",
    "- You can submit your solution multiple times. In this case, only the last submission will be used\n",
    "\n",
    "## Deadline\n",
    "\n",
    "The deadline for submitting is September 25 (Monday), 23:00 CET. After that the form will be closed."
   ]
  },
  {
   "cell_type": "code",
   "execution_count": null,
   "id": "bd3b5608",
   "metadata": {},
   "outputs": [],
   "source": []
  }
 ],
 "metadata": {
  "kernelspec": {
   "display_name": "sa_env",
   "language": "python",
   "name": "sa_env"
  },
  "language_info": {
   "codemirror_mode": {
    "name": "ipython",
    "version": 3
   },
   "file_extension": ".py",
   "mimetype": "text/x-python",
   "name": "python",
   "nbconvert_exporter": "python",
   "pygments_lexer": "ipython3",
   "version": "3.7.2"
  },
  "toc": {
   "base_numbering": 1,
   "nav_menu": {},
   "number_sections": true,
   "sideBar": true,
   "skip_h1_title": false,
   "title_cell": "Table of Contents",
   "title_sidebar": "Contents",
   "toc_cell": false,
   "toc_position": {
    "height": "calc(100% - 180px)",
    "left": "10px",
    "top": "150px",
    "width": "272.6px"
   },
   "toc_section_display": true,
   "toc_window_display": true
  }
 },
 "nbformat": 4,
 "nbformat_minor": 5
}
