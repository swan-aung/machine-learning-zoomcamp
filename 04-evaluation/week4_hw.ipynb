{
 "cells": [
  {
   "cell_type": "code",
   "execution_count": null,
   "id": "9ff69948",
   "metadata": {},
   "outputs": [],
   "source": []
  },
  {
   "cell_type": "markdown",
   "id": "51da960f",
   "metadata": {},
   "source": [
    "## Homework\n",
    "\n",
    "> Note: sometimes your answer doesn't match one of \n",
    "> the options exactly. That's fine. \n",
    "> Select the option that's closest to your solution.\n",
    "\n",
    "\n",
    "In this homework, we will use the Car price dataset like last week. Download it from [here](https://raw.githubusercontent.com/alexeygrigorev/mlbookcamp-code/master/chapter-02-car-price/data.csv).\n",
    "\n",
    "Or you can do it with `wget`:\n",
    "\n",
    "```bash\n",
    "wget https://raw.githubusercontent.com/alexeygrigorev/mlbookcamp-code/master/chapter-02-car-price/data.csv\n",
    "```"
   ]
  },
  {
   "cell_type": "code",
   "execution_count": 1,
   "id": "6d77a2e9",
   "metadata": {
    "ExecuteTime": {
     "end_time": "2023-10-09T14:50:33.244457Z",
     "start_time": "2023-10-09T14:50:29.750117Z"
    }
   },
   "outputs": [],
   "source": [
    "import pandas as pd"
   ]
  },
  {
   "cell_type": "code",
   "execution_count": 2,
   "id": "6ca18fbd",
   "metadata": {
    "ExecuteTime": {
     "end_time": "2023-10-09T14:50:45.311977Z",
     "start_time": "2023-10-09T14:50:44.296813Z"
    }
   },
   "outputs": [],
   "source": [
    "df_car_price = pd.read_csv('https://raw.githubusercontent.com/alexeygrigorev/mlbookcamp-code/master/chapter-02-car-price/data.csv')"
   ]
  },
  {
   "cell_type": "code",
   "execution_count": 3,
   "id": "5bf2b425",
   "metadata": {
    "ExecuteTime": {
     "end_time": "2023-10-09T14:50:49.770137Z",
     "start_time": "2023-10-09T14:50:49.732617Z"
    }
   },
   "outputs": [
    {
     "data": {
      "text/html": [
       "<div>\n",
       "<style scoped>\n",
       "    .dataframe tbody tr th:only-of-type {\n",
       "        vertical-align: middle;\n",
       "    }\n",
       "\n",
       "    .dataframe tbody tr th {\n",
       "        vertical-align: top;\n",
       "    }\n",
       "\n",
       "    .dataframe thead th {\n",
       "        text-align: right;\n",
       "    }\n",
       "</style>\n",
       "<table border=\"1\" class=\"dataframe\">\n",
       "  <thead>\n",
       "    <tr style=\"text-align: right;\">\n",
       "      <th></th>\n",
       "      <th>Make</th>\n",
       "      <th>Model</th>\n",
       "      <th>Year</th>\n",
       "      <th>Engine Fuel Type</th>\n",
       "      <th>Engine HP</th>\n",
       "      <th>Engine Cylinders</th>\n",
       "      <th>Transmission Type</th>\n",
       "      <th>Driven_Wheels</th>\n",
       "      <th>Number of Doors</th>\n",
       "      <th>Market Category</th>\n",
       "      <th>Vehicle Size</th>\n",
       "      <th>Vehicle Style</th>\n",
       "      <th>highway MPG</th>\n",
       "      <th>city mpg</th>\n",
       "      <th>Popularity</th>\n",
       "      <th>MSRP</th>\n",
       "    </tr>\n",
       "  </thead>\n",
       "  <tbody>\n",
       "    <tr>\n",
       "      <th>0</th>\n",
       "      <td>BMW</td>\n",
       "      <td>1 Series M</td>\n",
       "      <td>2011</td>\n",
       "      <td>premium unleaded (required)</td>\n",
       "      <td>335.0</td>\n",
       "      <td>6.0</td>\n",
       "      <td>MANUAL</td>\n",
       "      <td>rear wheel drive</td>\n",
       "      <td>2.0</td>\n",
       "      <td>Factory Tuner,Luxury,High-Performance</td>\n",
       "      <td>Compact</td>\n",
       "      <td>Coupe</td>\n",
       "      <td>26</td>\n",
       "      <td>19</td>\n",
       "      <td>3916</td>\n",
       "      <td>46135</td>\n",
       "    </tr>\n",
       "    <tr>\n",
       "      <th>1</th>\n",
       "      <td>BMW</td>\n",
       "      <td>1 Series</td>\n",
       "      <td>2011</td>\n",
       "      <td>premium unleaded (required)</td>\n",
       "      <td>300.0</td>\n",
       "      <td>6.0</td>\n",
       "      <td>MANUAL</td>\n",
       "      <td>rear wheel drive</td>\n",
       "      <td>2.0</td>\n",
       "      <td>Luxury,Performance</td>\n",
       "      <td>Compact</td>\n",
       "      <td>Convertible</td>\n",
       "      <td>28</td>\n",
       "      <td>19</td>\n",
       "      <td>3916</td>\n",
       "      <td>40650</td>\n",
       "    </tr>\n",
       "    <tr>\n",
       "      <th>2</th>\n",
       "      <td>BMW</td>\n",
       "      <td>1 Series</td>\n",
       "      <td>2011</td>\n",
       "      <td>premium unleaded (required)</td>\n",
       "      <td>300.0</td>\n",
       "      <td>6.0</td>\n",
       "      <td>MANUAL</td>\n",
       "      <td>rear wheel drive</td>\n",
       "      <td>2.0</td>\n",
       "      <td>Luxury,High-Performance</td>\n",
       "      <td>Compact</td>\n",
       "      <td>Coupe</td>\n",
       "      <td>28</td>\n",
       "      <td>20</td>\n",
       "      <td>3916</td>\n",
       "      <td>36350</td>\n",
       "    </tr>\n",
       "    <tr>\n",
       "      <th>3</th>\n",
       "      <td>BMW</td>\n",
       "      <td>1 Series</td>\n",
       "      <td>2011</td>\n",
       "      <td>premium unleaded (required)</td>\n",
       "      <td>230.0</td>\n",
       "      <td>6.0</td>\n",
       "      <td>MANUAL</td>\n",
       "      <td>rear wheel drive</td>\n",
       "      <td>2.0</td>\n",
       "      <td>Luxury,Performance</td>\n",
       "      <td>Compact</td>\n",
       "      <td>Coupe</td>\n",
       "      <td>28</td>\n",
       "      <td>18</td>\n",
       "      <td>3916</td>\n",
       "      <td>29450</td>\n",
       "    </tr>\n",
       "    <tr>\n",
       "      <th>4</th>\n",
       "      <td>BMW</td>\n",
       "      <td>1 Series</td>\n",
       "      <td>2011</td>\n",
       "      <td>premium unleaded (required)</td>\n",
       "      <td>230.0</td>\n",
       "      <td>6.0</td>\n",
       "      <td>MANUAL</td>\n",
       "      <td>rear wheel drive</td>\n",
       "      <td>2.0</td>\n",
       "      <td>Luxury</td>\n",
       "      <td>Compact</td>\n",
       "      <td>Convertible</td>\n",
       "      <td>28</td>\n",
       "      <td>18</td>\n",
       "      <td>3916</td>\n",
       "      <td>34500</td>\n",
       "    </tr>\n",
       "    <tr>\n",
       "      <th>...</th>\n",
       "      <td>...</td>\n",
       "      <td>...</td>\n",
       "      <td>...</td>\n",
       "      <td>...</td>\n",
       "      <td>...</td>\n",
       "      <td>...</td>\n",
       "      <td>...</td>\n",
       "      <td>...</td>\n",
       "      <td>...</td>\n",
       "      <td>...</td>\n",
       "      <td>...</td>\n",
       "      <td>...</td>\n",
       "      <td>...</td>\n",
       "      <td>...</td>\n",
       "      <td>...</td>\n",
       "      <td>...</td>\n",
       "    </tr>\n",
       "    <tr>\n",
       "      <th>11909</th>\n",
       "      <td>Acura</td>\n",
       "      <td>ZDX</td>\n",
       "      <td>2012</td>\n",
       "      <td>premium unleaded (required)</td>\n",
       "      <td>300.0</td>\n",
       "      <td>6.0</td>\n",
       "      <td>AUTOMATIC</td>\n",
       "      <td>all wheel drive</td>\n",
       "      <td>4.0</td>\n",
       "      <td>Crossover,Hatchback,Luxury</td>\n",
       "      <td>Midsize</td>\n",
       "      <td>4dr Hatchback</td>\n",
       "      <td>23</td>\n",
       "      <td>16</td>\n",
       "      <td>204</td>\n",
       "      <td>46120</td>\n",
       "    </tr>\n",
       "    <tr>\n",
       "      <th>11910</th>\n",
       "      <td>Acura</td>\n",
       "      <td>ZDX</td>\n",
       "      <td>2012</td>\n",
       "      <td>premium unleaded (required)</td>\n",
       "      <td>300.0</td>\n",
       "      <td>6.0</td>\n",
       "      <td>AUTOMATIC</td>\n",
       "      <td>all wheel drive</td>\n",
       "      <td>4.0</td>\n",
       "      <td>Crossover,Hatchback,Luxury</td>\n",
       "      <td>Midsize</td>\n",
       "      <td>4dr Hatchback</td>\n",
       "      <td>23</td>\n",
       "      <td>16</td>\n",
       "      <td>204</td>\n",
       "      <td>56670</td>\n",
       "    </tr>\n",
       "    <tr>\n",
       "      <th>11911</th>\n",
       "      <td>Acura</td>\n",
       "      <td>ZDX</td>\n",
       "      <td>2012</td>\n",
       "      <td>premium unleaded (required)</td>\n",
       "      <td>300.0</td>\n",
       "      <td>6.0</td>\n",
       "      <td>AUTOMATIC</td>\n",
       "      <td>all wheel drive</td>\n",
       "      <td>4.0</td>\n",
       "      <td>Crossover,Hatchback,Luxury</td>\n",
       "      <td>Midsize</td>\n",
       "      <td>4dr Hatchback</td>\n",
       "      <td>23</td>\n",
       "      <td>16</td>\n",
       "      <td>204</td>\n",
       "      <td>50620</td>\n",
       "    </tr>\n",
       "    <tr>\n",
       "      <th>11912</th>\n",
       "      <td>Acura</td>\n",
       "      <td>ZDX</td>\n",
       "      <td>2013</td>\n",
       "      <td>premium unleaded (recommended)</td>\n",
       "      <td>300.0</td>\n",
       "      <td>6.0</td>\n",
       "      <td>AUTOMATIC</td>\n",
       "      <td>all wheel drive</td>\n",
       "      <td>4.0</td>\n",
       "      <td>Crossover,Hatchback,Luxury</td>\n",
       "      <td>Midsize</td>\n",
       "      <td>4dr Hatchback</td>\n",
       "      <td>23</td>\n",
       "      <td>16</td>\n",
       "      <td>204</td>\n",
       "      <td>50920</td>\n",
       "    </tr>\n",
       "    <tr>\n",
       "      <th>11913</th>\n",
       "      <td>Lincoln</td>\n",
       "      <td>Zephyr</td>\n",
       "      <td>2006</td>\n",
       "      <td>regular unleaded</td>\n",
       "      <td>221.0</td>\n",
       "      <td>6.0</td>\n",
       "      <td>AUTOMATIC</td>\n",
       "      <td>front wheel drive</td>\n",
       "      <td>4.0</td>\n",
       "      <td>Luxury</td>\n",
       "      <td>Midsize</td>\n",
       "      <td>Sedan</td>\n",
       "      <td>26</td>\n",
       "      <td>17</td>\n",
       "      <td>61</td>\n",
       "      <td>28995</td>\n",
       "    </tr>\n",
       "  </tbody>\n",
       "</table>\n",
       "<p>11914 rows × 16 columns</p>\n",
       "</div>"
      ],
      "text/plain": [
       "          Make       Model  Year                Engine Fuel Type  Engine HP  \\\n",
       "0          BMW  1 Series M  2011     premium unleaded (required)      335.0   \n",
       "1          BMW    1 Series  2011     premium unleaded (required)      300.0   \n",
       "2          BMW    1 Series  2011     premium unleaded (required)      300.0   \n",
       "3          BMW    1 Series  2011     premium unleaded (required)      230.0   \n",
       "4          BMW    1 Series  2011     premium unleaded (required)      230.0   \n",
       "...        ...         ...   ...                             ...        ...   \n",
       "11909    Acura         ZDX  2012     premium unleaded (required)      300.0   \n",
       "11910    Acura         ZDX  2012     premium unleaded (required)      300.0   \n",
       "11911    Acura         ZDX  2012     premium unleaded (required)      300.0   \n",
       "11912    Acura         ZDX  2013  premium unleaded (recommended)      300.0   \n",
       "11913  Lincoln      Zephyr  2006                regular unleaded      221.0   \n",
       "\n",
       "       Engine Cylinders Transmission Type      Driven_Wheels  Number of Doors  \\\n",
       "0                   6.0            MANUAL   rear wheel drive              2.0   \n",
       "1                   6.0            MANUAL   rear wheel drive              2.0   \n",
       "2                   6.0            MANUAL   rear wheel drive              2.0   \n",
       "3                   6.0            MANUAL   rear wheel drive              2.0   \n",
       "4                   6.0            MANUAL   rear wheel drive              2.0   \n",
       "...                 ...               ...                ...              ...   \n",
       "11909               6.0         AUTOMATIC    all wheel drive              4.0   \n",
       "11910               6.0         AUTOMATIC    all wheel drive              4.0   \n",
       "11911               6.0         AUTOMATIC    all wheel drive              4.0   \n",
       "11912               6.0         AUTOMATIC    all wheel drive              4.0   \n",
       "11913               6.0         AUTOMATIC  front wheel drive              4.0   \n",
       "\n",
       "                             Market Category Vehicle Size  Vehicle Style  \\\n",
       "0      Factory Tuner,Luxury,High-Performance      Compact          Coupe   \n",
       "1                         Luxury,Performance      Compact    Convertible   \n",
       "2                    Luxury,High-Performance      Compact          Coupe   \n",
       "3                         Luxury,Performance      Compact          Coupe   \n",
       "4                                     Luxury      Compact    Convertible   \n",
       "...                                      ...          ...            ...   \n",
       "11909             Crossover,Hatchback,Luxury      Midsize  4dr Hatchback   \n",
       "11910             Crossover,Hatchback,Luxury      Midsize  4dr Hatchback   \n",
       "11911             Crossover,Hatchback,Luxury      Midsize  4dr Hatchback   \n",
       "11912             Crossover,Hatchback,Luxury      Midsize  4dr Hatchback   \n",
       "11913                                 Luxury      Midsize          Sedan   \n",
       "\n",
       "       highway MPG  city mpg  Popularity   MSRP  \n",
       "0               26        19        3916  46135  \n",
       "1               28        19        3916  40650  \n",
       "2               28        20        3916  36350  \n",
       "3               28        18        3916  29450  \n",
       "4               28        18        3916  34500  \n",
       "...            ...       ...         ...    ...  \n",
       "11909           23        16         204  46120  \n",
       "11910           23        16         204  56670  \n",
       "11911           23        16         204  50620  \n",
       "11912           23        16         204  50920  \n",
       "11913           26        17          61  28995  \n",
       "\n",
       "[11914 rows x 16 columns]"
      ]
     },
     "execution_count": 3,
     "metadata": {},
     "output_type": "execute_result"
    }
   ],
   "source": [
    "df_car_price"
   ]
  },
  {
   "cell_type": "code",
   "execution_count": 4,
   "id": "4d9971d1",
   "metadata": {
    "ExecuteTime": {
     "end_time": "2023-10-09T14:51:15.220074Z",
     "start_time": "2023-10-09T14:51:15.213869Z"
    }
   },
   "outputs": [
    {
     "data": {
      "text/plain": [
       "Index(['Make', 'Model', 'Year', 'Engine Fuel Type', 'Engine HP',\n",
       "       'Engine Cylinders', 'Transmission Type', 'Driven_Wheels',\n",
       "       'Number of Doors', 'Market Category', 'Vehicle Size', 'Vehicle Style',\n",
       "       'highway MPG', 'city mpg', 'Popularity', 'MSRP'],\n",
       "      dtype='object')"
      ]
     },
     "execution_count": 4,
     "metadata": {},
     "output_type": "execute_result"
    }
   ],
   "source": [
    "df_car_price.columns"
   ]
  },
  {
   "cell_type": "markdown",
   "id": "6ad03853",
   "metadata": {},
   "source": [
    "We'll work with the `MSRP` variable, and we'll transform it to a classification task. \n",
    "\n",
    "For the rest of the homework, you'll need to use only these columns:\n",
    "\n",
    "* `Make`,\n",
    "* `Model`,\n",
    "* `Year`,\n",
    "* `Engine HP`,\n",
    "* `Engine Cylinders`,\n",
    "* `Transmission Type`,\n",
    "* `Vehicle Style`,\n",
    "* `highway MPG`,\n",
    "* `city mpg`\n",
    "* `MSRP`"
   ]
  },
  {
   "cell_type": "code",
   "execution_count": 5,
   "id": "19f901e1",
   "metadata": {
    "ExecuteTime": {
     "end_time": "2023-10-09T14:52:40.226669Z",
     "start_time": "2023-10-09T14:52:40.219878Z"
    }
   },
   "outputs": [],
   "source": [
    "# Selecting the specified columns\n",
    "selected_columns = ['Make', 'Model', 'Year', 'Engine HP', 'Engine Cylinders', 'Transmission Type', 'Vehicle Style', 'highway MPG', 'city mpg', 'MSRP']\n",
    "filtered_df = df_car_price[selected_columns]"
   ]
  },
  {
   "cell_type": "markdown",
   "id": "4c3bcce2",
   "metadata": {},
   "source": [
    "### Data preparation\n",
    "\n",
    "* Keep only the columns above\n",
    "* Lowercase the column names and replace spaces with underscores\n",
    "* Fill the missing values with 0 \n",
    "* Make the price binary (1 if above the average, 0 otherwise) - this will be our target variable `above_average`\n",
    "\n",
    "Split the data into 3 parts: train/validation/test with 60%/20%/20% distribution. Use `train_test_split` function for that with `random_state=1`"
   ]
  },
  {
   "cell_type": "code",
   "execution_count": 7,
   "id": "3a483f3c",
   "metadata": {
    "ExecuteTime": {
     "end_time": "2023-10-09T14:54:48.475926Z",
     "start_time": "2023-10-09T14:54:47.398003Z"
    }
   },
   "outputs": [
    {
     "name": "stdout",
     "output_type": "stream",
     "text": [
      "Train set shape: (7148, 9) (7148,)\n",
      "Validation set shape: (2383, 9) (2383,)\n",
      "Test set shape: (2383, 9) (2383,)\n"
     ]
    },
    {
     "name": "stderr",
     "output_type": "stream",
     "text": [
      "/home/swanaung/miniconda3/envs/sa_env/lib/python3.7/site-packages/pandas/core/frame.py:5182: SettingWithCopyWarning: \n",
      "A value is trying to be set on a copy of a slice from a DataFrame\n",
      "\n",
      "See the caveats in the documentation: https://pandas.pydata.org/pandas-docs/stable/user_guide/indexing.html#returning-a-view-versus-a-copy\n",
      "  downcast=downcast,\n",
      "/home/swanaung/miniconda3/envs/sa_env/lib/python3.7/site-packages/ipykernel_launcher.py:12: SettingWithCopyWarning: \n",
      "A value is trying to be set on a copy of a slice from a DataFrame.\n",
      "Try using .loc[row_indexer,col_indexer] = value instead\n",
      "\n",
      "See the caveats in the documentation: https://pandas.pydata.org/pandas-docs/stable/user_guide/indexing.html#returning-a-view-versus-a-copy\n",
      "  if sys.path[0] == \"\":\n",
      "/home/swanaung/miniconda3/envs/sa_env/lib/python3.7/site-packages/pandas/core/frame.py:4913: SettingWithCopyWarning: \n",
      "A value is trying to be set on a copy of a slice from a DataFrame\n",
      "\n",
      "See the caveats in the documentation: https://pandas.pydata.org/pandas-docs/stable/user_guide/indexing.html#returning-a-view-versus-a-copy\n",
      "  errors=errors,\n"
     ]
    }
   ],
   "source": [
    "import pandas as pd\n",
    "from sklearn.model_selection import train_test_split\n",
    "\n",
    "# Step 2: Lowercase column names and replace spaces with underscores\n",
    "filtered_df.columns = filtered_df.columns.str.lower().str.replace(' ', '_')\n",
    "\n",
    "# Step 3: Fill missing values with 0\n",
    "filtered_df.fillna(0, inplace=True)\n",
    "\n",
    "# Step 4: Make the price binary (1 if above the average, 0 otherwise)\n",
    "average_price = filtered_df['msrp'].mean()\n",
    "filtered_df['above_average'] = (filtered_df['msrp'] > average_price).astype(int)\n",
    "filtered_df.drop('msrp', axis=1, inplace=True)\n",
    "# Step 5: Split the data into train/validation/test sets\n",
    "X = filtered_df.drop('above_average', axis=1)\n",
    "y = filtered_df['above_average']\n",
    "\n",
    "# Split into train/validation/test with 60%/20%/20% distribution\n",
    "X_train, X_temp, y_train, y_temp = train_test_split(X, y, test_size=0.4, random_state=1)\n",
    "X_val, X_test, y_val, y_test = train_test_split(X_temp, y_temp, test_size=0.5, random_state=1)\n",
    "\n",
    "# Print the shapes of the resulting datasets\n",
    "print(\"Train set shape:\", X_train.shape, y_train.shape)\n",
    "print(\"Validation set shape:\", X_val.shape, y_val.shape)\n",
    "print(\"Test set shape:\", X_test.shape, y_test.shape)"
   ]
  },
  {
   "cell_type": "markdown",
   "id": "77c71ecb",
   "metadata": {},
   "source": [
    "### Question 1: ROC AUC feature importance\n",
    "\n",
    "ROC AUC could also be used to evaluate feature importance of numerical variables. \n",
    "\n",
    "Let's do that\n",
    "\n",
    "* For each numerical variable, use it as score and compute AUC with the `above_average` variable\n",
    "* Use the training dataset for that\n",
    "\n",
    "\n",
    "If your AUC is < 0.5, invert this variable by putting \"-\" in front\n",
    "\n",
    "(e.g. `-df_train['engine_hp']`)\n",
    "\n",
    "AUC can go below 0.5 if the variable is negatively correlated with the target varialble. You can change the direction of the correlation by negating this variable - then negative correlation becomes positive.\n",
    "\n",
    "Which numerical variable (among the following 4) has the highest AUC?\n",
    "\n",
    "- `engine_hp`\n",
    "- `engine_cylinders`\n",
    "- `highway_mpg`\n",
    "- `city_mpg`"
   ]
  },
  {
   "cell_type": "code",
   "execution_count": 9,
   "id": "c4dfd89e",
   "metadata": {
    "ExecuteTime": {
     "end_time": "2023-10-09T14:56:55.994091Z",
     "start_time": "2023-10-09T14:56:55.965349Z"
    }
   },
   "outputs": [
    {
     "name": "stdout",
     "output_type": "stream",
     "text": [
      "AUC for engine_hp: 0.9159001518508375\n",
      "AUC for engine_cylinders: 0.768274900593613\n",
      "AUC for highway_mpg: 0.6333685399678282\n",
      "AUC for city_mpg: 0.67232674562278\n",
      "\n",
      "The numerical variable with the highest AUC is: engine_hp\n"
     ]
    }
   ],
   "source": [
    "from sklearn.metrics import roc_auc_score\n",
    "\n",
    "# Assuming X_train, y_train are the training features and target variable\n",
    "# Let's use only the specified numerical columns\n",
    "numerical_columns = ['engine_hp', 'engine_cylinders', 'highway_mpg', 'city_mpg']\n",
    "\n",
    "# Dictionary to store AUC scores for each numerical variable\n",
    "auc_scores = {}\n",
    "\n",
    "# Calculate AUC for each numerical variable\n",
    "for col in numerical_columns:\n",
    "    auc = roc_auc_score(y_train, X_train[col])\n",
    "    \n",
    "    # If AUC is less than 0.5, invert the variable\n",
    "    if auc < 0.5:\n",
    "        auc = roc_auc_score(y_train, -X_train[col])\n",
    "    \n",
    "    auc_scores[col] = auc\n",
    "\n",
    "# Print the AUC scores for each numerical variable\n",
    "for col, auc in auc_scores.items():\n",
    "    print(f'AUC for {col}: {auc}')\n",
    "\n",
    "# Find the numerical variable with the highest AUC\n",
    "highest_auc_variable = max(auc_scores, key=auc_scores.get)\n",
    "print(f'\\nThe numerical variable with the highest AUC is: {highest_auc_variable}')\n"
   ]
  },
  {
   "cell_type": "markdown",
   "id": "d1707cf9",
   "metadata": {},
   "source": [
    "### Question 2: Training the model\n",
    "\n",
    "Apply one-hot-encoding using `DictVectorizer` and train the logistic regression with these parameters:\n",
    "\n",
    "```python\n",
    "LogisticRegression(solver='liblinear', C=1.0, max_iter=1000)\n",
    "```\n",
    "\n",
    "What's the AUC of this model on the validation dataset? (round to 3 digits)\n",
    "\n",
    "- 0.678\n",
    "- 0.779\n",
    "- 0.878\n",
    "- 0.979"
   ]
  },
  {
   "cell_type": "code",
   "execution_count": 10,
   "id": "d1a37a2c",
   "metadata": {
    "ExecuteTime": {
     "end_time": "2023-10-09T14:57:36.958417Z",
     "start_time": "2023-10-09T14:57:36.460699Z"
    }
   },
   "outputs": [
    {
     "name": "stdout",
     "output_type": "stream",
     "text": [
      "AUC on the validation dataset: 0.980\n"
     ]
    }
   ],
   "source": [
    "from sklearn.feature_extraction import DictVectorizer\n",
    "from sklearn.linear_model import LogisticRegression\n",
    "\n",
    "# Assuming X_val, y_val are the validation features and target variable\n",
    "# Assuming X_train is the training features with one-hot encoding\n",
    "\n",
    "# Step 1: Perform one-hot encoding using DictVectorizer\n",
    "dict_vectorizer = DictVectorizer(sparse=False)\n",
    "X_train_encoded = dict_vectorizer.fit_transform(X_train.to_dict(orient='records'))\n",
    "X_val_encoded = dict_vectorizer.transform(X_val.to_dict(orient='records'))\n",
    "\n",
    "# Step 2: Train a logistic regression model\n",
    "logreg = LogisticRegression(solver='liblinear', C=1.0, max_iter=1000)\n",
    "logreg.fit(X_train_encoded, y_train)\n",
    "\n",
    "# Step 3: Calculate the AUC on the validation dataset\n",
    "y_val_pred_proba = logreg.predict_proba(X_val_encoded)[:, 1]  # Probability of being class 1\n",
    "auc_val = roc_auc_score(y_val, y_val_pred_proba)\n",
    "\n",
    "# Print the AUC on the validation dataset (rounded to 3 digits)\n",
    "print(f\"AUC on the validation dataset: {auc_val:.3f}\")"
   ]
  },
  {
   "cell_type": "markdown",
   "id": "fdb50c09",
   "metadata": {},
   "source": [
    "### Question 3: Precision and Recall\n",
    "\n",
    "Now let's compute precision and recall for our model.\n",
    "\n",
    "* Evaluate the model on all thresholds from 0.0 to 1.0 with step 0.01\n",
    "* For each threshold, compute precision and recall\n",
    "* Plot them\n",
    "\n",
    "At which threshold precision and recall curves intersect?\n",
    "\n",
    "* 0.28\n",
    "* 0.48\n",
    "* 0.68\n",
    "* 0.88"
   ]
  },
  {
   "cell_type": "code",
   "execution_count": 20,
   "id": "239a8b29",
   "metadata": {
    "ExecuteTime": {
     "end_time": "2023-10-10T07:15:15.809515Z",
     "start_time": "2023-10-10T07:15:14.944593Z"
    }
   },
   "outputs": [
    {
     "name": "stderr",
     "output_type": "stream",
     "text": [
      "/home/swanaung/miniconda3/envs/sa_env/lib/python3.7/site-packages/sklearn/metrics/_classification.py:1318: UndefinedMetricWarning: Precision is ill-defined and being set to 0.0 due to no predicted samples. Use `zero_division` parameter to control this behavior.\n",
      "  _warn_prf(average, modifier, msg_start, len(result))\n"
     ]
    },
    {
     "data": {
      "image/png": "[encoded data removed]",
      "text/plain": [
       "<Figure size 1000x600 with 1 Axes>"
      ]
     },
     "metadata": {},
     "output_type": "display_data"
    }
   ],
   "source": [
    "import numpy as np\n",
    "import matplotlib.pyplot as plt\n",
    "from sklearn.metrics import precision_score, recall_score\n",
    "\n",
    "# Generate thresholds from 0.0 to 1.0 with step 0.01\n",
    "thresholds = np.arange(0.0, 1.01, 0.01)\n",
    "\n",
    "# Initialize lists to store precision and recall values\n",
    "precision_values = []\n",
    "recall_values = []\n",
    "\n",
    "# Calculate precision and recall for each threshold\n",
    "for threshold in thresholds:\n",
    "    y_val_pred = (y_val_pred_proba > threshold).astype(int)\n",
    "    precision = precision_score(y_val, y_val_pred)\n",
    "    recall = recall_score(y_val, y_val_pred)\n",
    "    precision_values.append(precision)\n",
    "    recall_values.append(recall)\n",
    "\n",
    "# Create a figure and axis to plot\n",
    "fig, ax = plt.subplots(figsize=(10, 6))\n",
    "\n",
    "# Plot precision and recall against thresholds\n",
    "ax.plot(thresholds, precision_values, label='Precision')\n",
    "ax.plot(thresholds, recall_values, label='Recall')\n",
    "\n",
    "# Add labels and title\n",
    "ax.set_xlabel('Threshold')\n",
    "ax.set_ylabel('Value')\n",
    "ax.set_title('Precision and Recall vs. Thresholds')\n",
    "\n",
    "# Add legend\n",
    "ax.legend()\n",
    "\n",
    "# Show the plot\n",
    "plt.grid(True)\n",
    "plt.show()"
   ]
  },
  {
   "cell_type": "markdown",
   "id": "f7849b5e",
   "metadata": {},
   "source": [
    "### Question 4: F1 score\n",
    "\n",
    "Precision and recall are conflicting - when one grows, the other goes down. That's why they are often combined into the F1 score - a metrics that takes into account both\n",
    "\n",
    "This is the formula for computing F1:\n",
    "\n",
    "$$F_1 = 2 \\cdot \\cfrac{P \\cdot R}{P + R}$$\n",
    "\n",
    "Where $P$ is precision and $R$ is recall.\n",
    "\n",
    "Let's compute F1 for all thresholds from 0.0 to 1.0 with increment 0.01\n",
    "\n",
    "At which threshold F1 is maximal?\n",
    "\n",
    "- 0.12\n",
    "- 0.32\n",
    "- 0.52\n",
    "- 0.72"
   ]
  },
  {
   "cell_type": "code",
   "execution_count": 21,
   "id": "c5014e64",
   "metadata": {
    "ExecuteTime": {
     "end_time": "2023-10-10T07:18:33.400466Z",
     "start_time": "2023-10-10T07:18:33.242157Z"
    }
   },
   "outputs": [
    {
     "name": "stdout",
     "output_type": "stream",
     "text": [
      "Threshold at which F1 score is maximal: 0.54\n",
      "Maximal F1 score: 0.884\n"
     ]
    }
   ],
   "source": [
    "import numpy as np\n",
    "from sklearn.metrics import f1_score\n",
    "\n",
    "# Given thresholds\n",
    "thresholds = np.arange(0.0, 1.01, 0.01)\n",
    "\n",
    "# Initialize variables to store F1 scores and corresponding thresholds\n",
    "max_f1_score = 0\n",
    "optimal_threshold = 0\n",
    "\n",
    "# Calculate F1 score for each threshold\n",
    "for threshold in thresholds:\n",
    "    y_val_pred = (y_val_pred_proba > threshold).astype(int)\n",
    "    f1 = f1_score(y_val, y_val_pred)\n",
    "    \n",
    "    # Update max F1 score and optimal threshold if needed\n",
    "    if f1 > max_f1_score:\n",
    "        max_f1_score = f1\n",
    "        optimal_threshold = threshold\n",
    "\n",
    "# Print the threshold at which F1 score is maximal\n",
    "print(f\"Threshold at which F1 score is maximal: {optimal_threshold:.2f}\")\n",
    "print(f\"Maximal F1 score: {max_f1_score:.3f}\")"
   ]
  },
  {
   "cell_type": "code",
   "execution_count": 22,
   "id": "d070ba4c",
   "metadata": {
    "ExecuteTime": {
     "end_time": "2023-10-10T07:23:57.991923Z",
     "start_time": "2023-10-10T07:23:57.810695Z"
    }
   },
   "outputs": [
    {
     "name": "stdout",
     "output_type": "stream",
     "text": [
      "Threshold with the highest F1 score: 0.54\n",
      "Highest F1 score: 0.884\n"
     ]
    }
   ],
   "source": [
    "import numpy as np\n",
    "from sklearn.metrics import f1_score\n",
    "\n",
    "# Given thresholds\n",
    "thresholds = np.arange(0.0, 1.01, 0.01)\n",
    "\n",
    "# Initialize a dictionary to store thresholds and their F1 scores\n",
    "f1_scores_dict = {}\n",
    "\n",
    "# Calculate F1 score for each threshold and store in the dictionary\n",
    "for threshold in thresholds:\n",
    "    y_val_pred = (y_val_pred_proba > threshold).astype(int)\n",
    "    f1 = f1_score(y_val, y_val_pred)\n",
    "    f1_scores_dict[threshold] = f1\n",
    "\n",
    "# Find the threshold with the highest F1 score\n",
    "optimal_threshold = max(f1_scores_dict, key=f1_scores_dict.get)\n",
    "max_f1_score = f1_scores_dict[optimal_threshold]\n",
    "\n",
    "# Print the threshold with the highest F1 score\n",
    "print(f\"Threshold with the highest F1 score: {optimal_threshold:.2f}\")\n",
    "print(f\"Highest F1 score: {max_f1_score:.3f}\")\n"
   ]
  },
  {
   "cell_type": "code",
   "execution_count": 24,
   "id": "895a7038",
   "metadata": {
    "ExecuteTime": {
     "end_time": "2023-10-10T07:24:48.710918Z",
     "start_time": "2023-10-10T07:24:48.703882Z"
    }
   },
   "outputs": [
    {
     "data": {
      "text/plain": [
       "0.54"
      ]
     },
     "execution_count": 24,
     "metadata": {},
     "output_type": "execute_result"
    }
   ],
   "source": [
    "max(f1_scores_dict, key=f1_scores_dict.get)"
   ]
  },
  {
   "cell_type": "markdown",
   "id": "4875d618",
   "metadata": {},
   "source": [
    "### Question 5: 5-Fold CV\n",
    "\n",
    "\n",
    "Use the `KFold` class from Scikit-Learn to evaluate our model on 5 different folds:\n",
    "\n",
    "```\n",
    "KFold(n_splits=5, shuffle=True, random_state=1)\n",
    "```\n",
    "\n",
    "* Iterate over different folds of `df_full_train`\n",
    "* Split the data into train and validation\n",
    "* Train the model on train with these parameters: `LogisticRegression(solver='liblinear', C=1.0, max_iter=1000)`\n",
    "* Use AUC to evaluate the model on validation\n",
    "\n",
    "How large is standard devidation of the scores across different folds?\n",
    "\n",
    "- 0.003\n",
    "- 0.030\n",
    "- 0.090\n",
    "- 0.140"
   ]
  },
  {
   "cell_type": "code",
   "execution_count": 17,
   "id": "29148556",
   "metadata": {
    "ExecuteTime": {
     "end_time": "2023-10-09T15:05:24.887249Z",
     "start_time": "2023-10-09T15:05:23.257594Z"
    }
   },
   "outputs": [
    {
     "name": "stdout",
     "output_type": "stream",
     "text": [
      "Standard deviation of AUC scores across different folds: 0.003\n"
     ]
    }
   ],
   "source": [
    "import numpy as np\n",
    "from sklearn.model_selection import KFold\n",
    "\n",
    "# Assuming df_car_price contains the DataFrame with the necessary data\n",
    "# Also assuming 'above_average' is the target variable\n",
    "\n",
    "# Initialize KFold with 5 splits, shuffling, and a random state\n",
    "kf = KFold(n_splits=5, shuffle=True, random_state=1)\n",
    "\n",
    "# Initialize a list to store AUC scores across different folds\n",
    "auc_scores = []\n",
    "\n",
    "# Assuming X and y are the features and target variable\n",
    "X = filtered_df.drop('above_average', axis=1)\n",
    "y = filtered_df['above_average']\n",
    "\n",
    "# Iterate over different folds\n",
    "for train_index, val_index in kf.split(X):\n",
    "    # Split the data into train and validation sets\n",
    "    X_train_fold, X_val_fold = X.iloc[train_index], X.iloc[val_index]\n",
    "    y_train_fold, y_val_fold = y.iloc[train_index], y.iloc[val_index]\n",
    "    \n",
    "    # Perform one-hot encoding using DictVectorizer\n",
    "    X_train_encoded_fold = dict_vectorizer.transform(X_train_fold.to_dict(orient='records'))\n",
    "    X_val_encoded_fold = dict_vectorizer.transform(X_val_fold.to_dict(orient='records'))\n",
    "    \n",
    "    # Train the model on train data\n",
    "    logreg_fold = LogisticRegression(solver='liblinear', C=1.0, max_iter=1000)\n",
    "    logreg_fold.fit(X_train_encoded_fold, y_train_fold)\n",
    "    \n",
    "    # Predict probabilities for the validation set\n",
    "    y_val_pred_proba_fold = logreg_fold.predict_proba(X_val_encoded_fold)[:, 1]\n",
    "    \n",
    "    # Calculate AUC for the validation set\n",
    "    auc_fold = roc_auc_score(y_val_fold, y_val_pred_proba_fold)\n",
    "    auc_scores.append(auc_fold)\n",
    "\n",
    "# Calculate the standard deviation of AUC scores across different folds\n",
    "std_dev_auc = np.std(auc_scores)\n",
    "\n",
    "# Print the standard deviation of the AUC scores\n",
    "print(f\"Standard deviation of AUC scores across different folds: {std_dev_auc:.3f}\")\n"
   ]
  },
  {
   "cell_type": "markdown",
   "id": "5bb742ff",
   "metadata": {},
   "source": [
    "### Question 6: Hyperparemeter Tuning\n",
    "\n",
    "Now let's use 5-Fold cross-validation to find the best parameter `C`\n",
    "\n",
    "* Iterate over the following `C` values: `[0.01, 0.1, 0.5, 10]`\n",
    "* Initialize `KFold` with the same parameters as previously\n",
    "* Use these parametes for the model: `LogisticRegression(solver='liblinear', C=C, max_iter=1000)`\n",
    "* Compute the mean score as well as the std (round the mean and std to 3 decimal digits)\n",
    "\n",
    "Which `C` leads to the best mean score?\n",
    "\n",
    "- 0.01\n",
    "- 0.1\n",
    "- 0.5\n",
    "- 10\n",
    "\n",
    "If you have ties, select the score with the lowest std. If you still have ties, select the smallest `C`.\n",
    "\n",
    "\n"
   ]
  },
  {
   "cell_type": "code",
   "execution_count": 18,
   "id": "3f992aed",
   "metadata": {
    "ExecuteTime": {
     "end_time": "2023-10-09T15:06:14.477102Z",
     "start_time": "2023-10-09T15:06:07.829576Z"
    }
   },
   "outputs": [
    {
     "name": "stdout",
     "output_type": "stream",
     "text": [
      "Mean scores and standard deviations for different C values:\n",
      "C = 0.01: Mean AUC = 0.954, Std = 0.003\n",
      "C = 0.1: Mean AUC = 0.972, Std = 0.002\n",
      "C = 0.5: Mean AUC = 0.976, Std = 0.003\n",
      "C = 10: Mean AUC = 0.980, Std = 0.003\n",
      "\n",
      "The best C value that leads to the best mean score is: 0.01\n"
     ]
    }
   ],
   "source": [
    "# Specify the C values to iterate over\n",
    "C_values = [0.01, 0.1, 0.5, 10]\n",
    "\n",
    "# Dictionary to store mean scores and standard deviations for each C value\n",
    "scores_dict = {}\n",
    "\n",
    "# Iterate over different C values\n",
    "for C_value in C_values:\n",
    "    # Initialize a list to store AUC scores across different folds\n",
    "    auc_scores = []\n",
    "    \n",
    "    # Iterate over different folds\n",
    "    for train_index, val_index in kf.split(X):\n",
    "        # Split the data into train and validation sets\n",
    "        X_train_fold, X_val_fold = X.iloc[train_index], X.iloc[val_index]\n",
    "        y_train_fold, y_val_fold = y.iloc[train_index], y.iloc[val_index]\n",
    "        \n",
    "        # Perform one-hot encoding using DictVectorizer\n",
    "        X_train_encoded_fold = dict_vectorizer.transform(X_train_fold.to_dict(orient='records'))\n",
    "        X_val_encoded_fold = dict_vectorizer.transform(X_val_fold.to_dict(orient='records'))\n",
    "        \n",
    "        # Train the model on train data with the current C value\n",
    "        logreg_fold = LogisticRegression(solver='liblinear', C=C_value, max_iter=1000)\n",
    "        logreg_fold.fit(X_train_encoded_fold, y_train_fold)\n",
    "        \n",
    "        # Predict probabilities for the validation set\n",
    "        y_val_pred_proba_fold = logreg_fold.predict_proba(X_val_encoded_fold)[:, 1]\n",
    "        \n",
    "        # Calculate AUC for the validation set\n",
    "        auc_fold = roc_auc_score(y_val_fold, y_val_pred_proba_fold)\n",
    "        auc_scores.append(auc_fold)\n",
    "    \n",
    "    # Calculate the mean and standard deviation of AUC scores for the current C value\n",
    "    mean_auc = np.mean(auc_scores)\n",
    "    std_auc = np.std(auc_scores)\n",
    "    \n",
    "    # Store the mean and standard deviation in the dictionary\n",
    "    scores_dict[C_value] = (mean_auc, std_auc)\n",
    "\n",
    "# Find the C value that leads to the best mean score (considering tie-breaking rules)\n",
    "best_C = min(scores_dict, key=lambda k: (scores_dict[k][0], scores_dict[k][1], k))\n",
    "\n",
    "# Print the mean score, standard deviation, and the best C value\n",
    "print(f\"Mean scores and standard deviations for different C values:\")\n",
    "for C_value in C_values:\n",
    "    mean_auc, std_auc = scores_dict[C_value]\n",
    "    print(f\"C = {C_value}: Mean AUC = {mean_auc:.3f}, Std = {std_auc:.3f}\")\n",
    "\n",
    "print(f\"\\nThe best C value that leads to the best mean score is: {best_C}\")\n"
   ]
  },
  {
   "cell_type": "markdown",
   "id": "2a544411",
   "metadata": {},
   "source": [
    "\n",
    "## Submit the results\n",
    "\n",
    "- Submit your results here: https://forms.gle/E7Fa3WuBw3HkPQYg6\n",
    "- If your answer doesn't match options exactly, select the closest one.\n",
    "- You can submit your solution multiple times. In this case, only the last submission will be used\n",
    "\n",
    "## Deadline\n",
    "\n",
    "The deadline for submitting is October 9 (Monday), 23:00 CET. After that the form will be closed."
   ]
  },
  {
   "cell_type": "code",
   "execution_count": null,
   "id": "a55ca144",
   "metadata": {},
   "outputs": [],
   "source": []
  }
 ],
 "metadata": {
  "kernelspec": {
   "display_name": "sa_env",
   "language": "python",
   "name": "sa_env"
  },
  "language_info": {
   "codemirror_mode": {
    "name": "ipython",
    "version": 3
   },
   "file_extension": ".py",
   "mimetype": "text/x-python",
   "name": "python",
   "nbconvert_exporter": "python",
   "pygments_lexer": "ipython3",
   "version": "3.7.2"
  },
  "toc": {
   "base_numbering": 1,
   "nav_menu": {},
   "number_sections": true,
   "sideBar": true,
   "skip_h1_title": false,
   "title_cell": "Table of Contents",
   "title_sidebar": "Contents",
   "toc_cell": false,
   "toc_position": {},
   "toc_section_display": true,
   "toc_window_display": false
  }
 },
 "nbformat": 4,
 "nbformat_minor": 5
}
